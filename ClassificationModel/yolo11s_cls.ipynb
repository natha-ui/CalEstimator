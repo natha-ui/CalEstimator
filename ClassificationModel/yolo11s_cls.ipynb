{
 "cells": [
  {
   "cell_type": "code",
   "execution_count": 1,
   "id": "94850f39",
   "metadata": {},
   "outputs": [],
   "source": [
    "from ultralytics import YOLO"
   ]
  },
  {
   "cell_type": "code",
   "execution_count": 2,
   "id": "882aa446",
   "metadata": {},
   "outputs": [
    {
     "name": "stdout",
     "output_type": "stream",
     "text": [
      "\n",
      "image 1/1 /Users/lukezanuck/CalEstimator/ClassificationModel/../food-101-small-2/test/beet_salad/136192.jpg: 640x640 beet_salad 1.00, gnocchi 0.00, eggs_benedict 0.00, sashimi 0.00, ravioli 0.00, 169.3ms\n",
      "Speed: 16.3ms preprocess, 169.3ms inference, 0.0ms postprocess per image at shape (1, 3, 640, 640)\n",
      "Predicted: beet_salad (99.99%)\n"
     ]
    }
   ],
   "source": [
    "trained_model = YOLO('../content/runs/classify/train/weights/best.pt')\n",
    "test_image_path = '../food-101-small-2/test/beet_salad/136192.jpg'\n",
    "\n",
    "results = trained_model(test_image_path)\n",
    "top1_index = results[0].probs.top1\n",
    "predicted_label = results[0].names[top1_index]\n",
    "confidence = results[0].probs.top1conf\n",
    "\n",
    "print(f\"Predicted: {predicted_label} ({confidence:.2%})\")"
   ]
  },
  {
   "cell_type": "code",
   "execution_count": null,
   "id": "ba039a52",
   "metadata": {},
   "outputs": [
    {
     "name": "stdout",
     "output_type": "stream",
     "text": [
      "beet_salad: 160 kcal\n"
     ]
    }
   ],
   "source": [
    "from PIL import Image, ImageDraw, ImageFont\n",
    "from Averaging import estimate_calories\n",
    "\n",
    "cal_avg = estimate_calories(predicted_label)\n",
    "\n",
    "img = Image.open(\"../food-101-small-2/test/beet_salad/136192.jpg\")\n",
    "draw = ImageDraw.Draw(img)\n",
    "\n",
    "try:\n",
    "    font = ImageFont.truetype(\"arial.ttf\", size=24)\n",
    "except:\n",
    "    font = ImageFont.load_default()\n",
    "\n",
    "text = f\"{predicted_label}: {cal_avg} kcal\"\n",
    "print(text)\n",
    "position = (10, 10)  # top-left with small padding\n",
    "draw.text(position, text, fill=\"white\", font=font)\n",
    "\n",
    "img.save(\"output_with_label.jpg\")\n",
    "img.show()\n"
   ]
  }
 ],
 "metadata": {
  "kernelspec": {
   "display_name": "yolov10cls",
   "language": "python",
   "name": "python3"
  },
  "language_info": {
   "codemirror_mode": {
    "name": "ipython",
    "version": 3
   },
   "file_extension": ".py",
   "mimetype": "text/x-python",
   "name": "python",
   "nbconvert_exporter": "python",
   "pygments_lexer": "ipython3",
   "version": "3.10.16"
  }
 },
 "nbformat": 4,
 "nbformat_minor": 5
}

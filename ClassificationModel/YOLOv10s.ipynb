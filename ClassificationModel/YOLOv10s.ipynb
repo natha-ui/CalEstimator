{
 "cells": [
  {
   "cell_type": "code",
   "execution_count": 3,
   "id": "882aa446",
   "metadata": {},
   "outputs": [],
   "source": [
    "from Dataset import flatten_dataset"
   ]
  },
  {
   "cell_type": "code",
   "execution_count": 5,
   "id": "0dbccee9",
   "metadata": {},
   "outputs": [
    {
     "name": "stdout",
     "output_type": "stream",
     "text": [
      "Done! Flattened dataset saved to: food-101\n"
     ]
    }
   ],
   "source": [
    "flatten_dataset(\"food-101-resized\", \"food-101\")"
   ]
  },
  {
   "cell_type": "code",
   "execution_count": 1,
   "id": "2531f210",
   "metadata": {},
   "outputs": [
    {
     "name": "stdout",
     "output_type": "stream",
     "text": [
      "Traceback (most recent call last):\n",
      "  File \"/Users/lukezanuck/CalEstimator/ClassificationModel/Train.py\", line 1, in <module>\n",
      "    from ultralytics.models.yolo.classify import ClassificationTrainer\n",
      "  File \"/opt/miniconda3/envs/cs375/lib/python3.11/site-packages/ultralytics/__init__.py\", line 11, in <module>\n",
      "    from ultralytics.models import NAS, RTDETR, SAM, YOLO, YOLOE, FastSAM, YOLOWorld\n",
      "  File \"/opt/miniconda3/envs/cs375/lib/python3.11/site-packages/ultralytics/models/__init__.py\", line 3, in <module>\n",
      "    from .fastsam import FastSAM\n",
      "  File \"/opt/miniconda3/envs/cs375/lib/python3.11/site-packages/ultralytics/models/fastsam/__init__.py\", line 3, in <module>\n",
      "    from .model import FastSAM\n",
      "  File \"/opt/miniconda3/envs/cs375/lib/python3.11/site-packages/ultralytics/models/fastsam/model.py\", line 5, in <module>\n",
      "    from ultralytics.engine.model import Model\n",
      "  File \"/opt/miniconda3/envs/cs375/lib/python3.11/site-packages/ultralytics/engine/model.py\", line 11, in <module>\n",
      "    from ultralytics.cfg import TASK2DATA, get_cfg, get_save_dir\n",
      "  File \"/opt/miniconda3/envs/cs375/lib/python3.11/site-packages/ultralytics/cfg/__init__.py\", line 10, in <module>\n",
      "    import cv2\n",
      "  File \"/opt/miniconda3/envs/cs375/lib/python3.11/site-packages/cv2/__init__.py\", line 181, in <module>\n",
      "    bootstrap()\n",
      "  File \"/opt/miniconda3/envs/cs375/lib/python3.11/site-packages/cv2/__init__.py\", line 175, in bootstrap\n",
      "    if __load_extra_py_code_for_module(\"cv2\", submodule, DEBUG):\n",
      "       ^^^^^^^^^^^^^^^^^^^^^^^^^^^^^^^^^^^^^^^^^^^^^^^^^^^^^^^^\n",
      "  File \"/opt/miniconda3/envs/cs375/lib/python3.11/site-packages/cv2/__init__.py\", line 28, in __load_extra_py_code_for_module\n",
      "    py_module = importlib.import_module(module_name)\n",
      "                ^^^^^^^^^^^^^^^^^^^^^^^^^^^^^^^^^^^^\n",
      "  File \"/opt/miniconda3/envs/cs375/lib/python3.11/importlib/__init__.py\", line 126, in import_module\n",
      "    return _bootstrap._gcd_import(name[level:], package, level)\n",
      "           ^^^^^^^^^^^^^^^^^^^^^^^^^^^^^^^^^^^^^^^^^^^^^^^^^^^^\n",
      "  File \"/opt/miniconda3/envs/cs375/lib/python3.11/site-packages/cv2/typing/__init__.py\", line 162, in <module>\n",
      "    LayerId = cv2.dnn.DictValue\n",
      "              ^^^^^^^^^^^^^^^^^\n",
      "AttributeError: module 'cv2.dnn' has no attribute 'DictValue'\n"
     ]
    }
   ],
   "source": [
    "!python Train.py"
   ]
  }
 ],
 "metadata": {
  "kernelspec": {
   "display_name": "cs375",
   "language": "python",
   "name": "python3"
  },
  "language_info": {
   "codemirror_mode": {
    "name": "ipython",
    "version": 3
   },
   "file_extension": ".py",
   "mimetype": "text/x-python",
   "name": "python",
   "nbconvert_exporter": "python",
   "pygments_lexer": "ipython3",
   "version": "3.11.9"
  }
 },
 "nbformat": 4,
 "nbformat_minor": 5
}

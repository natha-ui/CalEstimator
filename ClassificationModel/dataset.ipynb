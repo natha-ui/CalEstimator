{
 "cells": [
  {
   "cell_type": "code",
   "execution_count": 3,
   "id": "882aa446",
   "metadata": {},
   "outputs": [],
   "source": [
    "from Dataset import flatten_dataset, extractSmall"
   ]
  },
  {
   "cell_type": "code",
   "execution_count": 5,
   "id": "fafa2dd7",
   "metadata": {},
   "outputs": [
    {
     "name": "stdout",
     "output_type": "stream",
     "text": [
      "['donuts', 'panna_cotta', 'french_onion_soup', 'tuna_tartare', 'beignets', 'lobster_roll_sandwich', 'ramen', 'cheese_plate', 'croque_madame', 'mussels', 'pancakes', 'greek_salad', 'breakfast_burrito', 'takoyaki', 'peking_duck', 'crab_cakes', 'hamburger', 'bruschetta', 'macarons', 'beef_carpaccio', 'filet_mignon', 'red_velvet_cake', 'carrot_cake', 'caesar_salad', 'shrimp_and_grits', 'cannoli', 'apple_pie', 'dumplings', 'scallops', 'spring_rolls', 'hummus', 'fried_calamari', 'ravioli', 'oysters', 'chicken_quesadilla', 'club_sandwich', 'macaroni_and_cheese', 'chicken_curry', 'chocolate_cake', 'miso_soup', 'pork_chop', 'pizza', 'caprese_salad', 'paella', 'omelette', 'guacamole', 'bibimbap', 'beet_salad', 'sashimi', 'fish_and_chips', 'hot_and_sour_soup', 'deviled_eggs', 'huevos_rancheros', 'baklava', 'onion_rings', 'strawberry_shortcake', 'fried_rice', 'tacos', 'beef_tartare', 'gyoza', 'prime_rib', 'chicken_wings', 'pho', 'tiramisu', 'chocolate_mousse', 'gnocchi', 'frozen_yogurt', 'french_fries', 'sushi', 'baby_back_ribs', 'churros', 'escargots', 'eggs_benedict', 'ceviche', 'bread_pudding', 'spaghetti_bolognese', 'grilled_salmon', 'edamame', 'hot_dog', 'garlic_bread', 'steak', 'grilled_cheese_sandwich', 'falafel', 'lobster_bisque', 'spaghetti_carbonara', 'poutine', 'foie_gras', 'pad_thai', 'cheesecake', 'risotto', 'french_toast', 'ice_cream', 'pulled_pork_sandwich', 'lasagna', 'creme_brulee', 'seaweed_salad', 'samosa', 'waffles', 'cup_cakes', 'clam_chowder', 'nachos']\n"
     ]
    }
   ],
   "source": [
    "extractSmall(\"../food-101\", \"../small-101\", 101, .20, create_zip=False)"
   ]
  }
 ],
 "metadata": {
  "kernelspec": {
   "display_name": "yolov10cls",
   "language": "python",
   "name": "python3"
  },
  "language_info": {
   "codemirror_mode": {
    "name": "ipython",
    "version": 3
   },
   "file_extension": ".py",
   "mimetype": "text/x-python",
   "name": "python",
   "nbconvert_exporter": "python",
   "pygments_lexer": "ipython3",
   "version": "3.10.16"
  }
 },
 "nbformat": 4,
 "nbformat_minor": 5
}

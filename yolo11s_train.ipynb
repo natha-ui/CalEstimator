{
  "cells": [
    {
      "cell_type": "code",
      "execution_count": 1,
      "id": "04634974",
      "metadata": {
        "colab": {
          "base_uri": "https://localhost:8080/"
        },
        "collapsed": true,
        "id": "04634974",
        "outputId": "090dcd9a-fe11-4780-bc5f-7baa0e733ab2"
      },
      "outputs": [
        {
          "output_type": "stream",
          "name": "stdout",
          "text": [
            "Collecting ultralytics\n",
            "  Downloading ultralytics-8.3.133-py3-none-any.whl.metadata (37 kB)\n",
            "Requirement already satisfied: numpy>=1.23.0 in /usr/local/lib/python3.11/dist-packages (from ultralytics) (2.0.2)\n",
            "Requirement already satisfied: matplotlib>=3.3.0 in /usr/local/lib/python3.11/dist-packages (from ultralytics) (3.10.0)\n",
            "Requirement already satisfied: opencv-python>=4.6.0 in /usr/local/lib/python3.11/dist-packages (from ultralytics) (4.11.0.86)\n",
            "Requirement already satisfied: pillow>=7.1.2 in /usr/local/lib/python3.11/dist-packages (from ultralytics) (11.2.1)\n",
            "Requirement already satisfied: pyyaml>=5.3.1 in /usr/local/lib/python3.11/dist-packages (from ultralytics) (6.0.2)\n",
            "Requirement already satisfied: requests>=2.23.0 in /usr/local/lib/python3.11/dist-packages (from ultralytics) (2.32.3)\n",
            "Requirement already satisfied: scipy>=1.4.1 in /usr/local/lib/python3.11/dist-packages (from ultralytics) (1.15.2)\n",
            "Requirement already satisfied: torch>=1.8.0 in /usr/local/lib/python3.11/dist-packages (from ultralytics) (2.6.0+cu124)\n",
            "Requirement already satisfied: torchvision>=0.9.0 in /usr/local/lib/python3.11/dist-packages (from ultralytics) (0.21.0+cu124)\n",
            "Requirement already satisfied: tqdm>=4.64.0 in /usr/local/lib/python3.11/dist-packages (from ultralytics) (4.67.1)\n",
            "Requirement already satisfied: psutil in /usr/local/lib/python3.11/dist-packages (from ultralytics) (5.9.5)\n",
            "Requirement already satisfied: py-cpuinfo in /usr/local/lib/python3.11/dist-packages (from ultralytics) (9.0.0)\n",
            "Requirement already satisfied: pandas>=1.1.4 in /usr/local/lib/python3.11/dist-packages (from ultralytics) (2.2.2)\n",
            "Requirement already satisfied: seaborn>=0.11.0 in /usr/local/lib/python3.11/dist-packages (from ultralytics) (0.13.2)\n",
            "Collecting ultralytics-thop>=2.0.0 (from ultralytics)\n",
            "  Downloading ultralytics_thop-2.0.14-py3-none-any.whl.metadata (9.4 kB)\n",
            "Requirement already satisfied: contourpy>=1.0.1 in /usr/local/lib/python3.11/dist-packages (from matplotlib>=3.3.0->ultralytics) (1.3.2)\n",
            "Requirement already satisfied: cycler>=0.10 in /usr/local/lib/python3.11/dist-packages (from matplotlib>=3.3.0->ultralytics) (0.12.1)\n",
            "Requirement already satisfied: fonttools>=4.22.0 in /usr/local/lib/python3.11/dist-packages (from matplotlib>=3.3.0->ultralytics) (4.57.0)\n",
            "Requirement already satisfied: kiwisolver>=1.3.1 in /usr/local/lib/python3.11/dist-packages (from matplotlib>=3.3.0->ultralytics) (1.4.8)\n",
            "Requirement already satisfied: packaging>=20.0 in /usr/local/lib/python3.11/dist-packages (from matplotlib>=3.3.0->ultralytics) (24.2)\n",
            "Requirement already satisfied: pyparsing>=2.3.1 in /usr/local/lib/python3.11/dist-packages (from matplotlib>=3.3.0->ultralytics) (3.2.3)\n",
            "Requirement already satisfied: python-dateutil>=2.7 in /usr/local/lib/python3.11/dist-packages (from matplotlib>=3.3.0->ultralytics) (2.9.0.post0)\n",
            "Requirement already satisfied: pytz>=2020.1 in /usr/local/lib/python3.11/dist-packages (from pandas>=1.1.4->ultralytics) (2025.2)\n",
            "Requirement already satisfied: tzdata>=2022.7 in /usr/local/lib/python3.11/dist-packages (from pandas>=1.1.4->ultralytics) (2025.2)\n",
            "Requirement already satisfied: charset-normalizer<4,>=2 in /usr/local/lib/python3.11/dist-packages (from requests>=2.23.0->ultralytics) (3.4.2)\n",
            "Requirement already satisfied: idna<4,>=2.5 in /usr/local/lib/python3.11/dist-packages (from requests>=2.23.0->ultralytics) (3.10)\n",
            "Requirement already satisfied: urllib3<3,>=1.21.1 in /usr/local/lib/python3.11/dist-packages (from requests>=2.23.0->ultralytics) (2.4.0)\n",
            "Requirement already satisfied: certifi>=2017.4.17 in /usr/local/lib/python3.11/dist-packages (from requests>=2.23.0->ultralytics) (2025.4.26)\n",
            "Requirement already satisfied: filelock in /usr/local/lib/python3.11/dist-packages (from torch>=1.8.0->ultralytics) (3.18.0)\n",
            "Requirement already satisfied: typing-extensions>=4.10.0 in /usr/local/lib/python3.11/dist-packages (from torch>=1.8.0->ultralytics) (4.13.2)\n",
            "Requirement already satisfied: networkx in /usr/local/lib/python3.11/dist-packages (from torch>=1.8.0->ultralytics) (3.4.2)\n",
            "Requirement already satisfied: jinja2 in /usr/local/lib/python3.11/dist-packages (from torch>=1.8.0->ultralytics) (3.1.6)\n",
            "Requirement already satisfied: fsspec in /usr/local/lib/python3.11/dist-packages (from torch>=1.8.0->ultralytics) (2025.3.2)\n",
            "Collecting nvidia-cuda-nvrtc-cu12==12.4.127 (from torch>=1.8.0->ultralytics)\n",
            "  Downloading nvidia_cuda_nvrtc_cu12-12.4.127-py3-none-manylinux2014_x86_64.whl.metadata (1.5 kB)\n",
            "Collecting nvidia-cuda-runtime-cu12==12.4.127 (from torch>=1.8.0->ultralytics)\n",
            "  Downloading nvidia_cuda_runtime_cu12-12.4.127-py3-none-manylinux2014_x86_64.whl.metadata (1.5 kB)\n",
            "Collecting nvidia-cuda-cupti-cu12==12.4.127 (from torch>=1.8.0->ultralytics)\n",
            "  Downloading nvidia_cuda_cupti_cu12-12.4.127-py3-none-manylinux2014_x86_64.whl.metadata (1.6 kB)\n",
            "Collecting nvidia-cudnn-cu12==9.1.0.70 (from torch>=1.8.0->ultralytics)\n",
            "  Downloading nvidia_cudnn_cu12-9.1.0.70-py3-none-manylinux2014_x86_64.whl.metadata (1.6 kB)\n",
            "Collecting nvidia-cublas-cu12==12.4.5.8 (from torch>=1.8.0->ultralytics)\n",
            "  Downloading nvidia_cublas_cu12-12.4.5.8-py3-none-manylinux2014_x86_64.whl.metadata (1.5 kB)\n",
            "Collecting nvidia-cufft-cu12==11.2.1.3 (from torch>=1.8.0->ultralytics)\n",
            "  Downloading nvidia_cufft_cu12-11.2.1.3-py3-none-manylinux2014_x86_64.whl.metadata (1.5 kB)\n",
            "Collecting nvidia-curand-cu12==10.3.5.147 (from torch>=1.8.0->ultralytics)\n",
            "  Downloading nvidia_curand_cu12-10.3.5.147-py3-none-manylinux2014_x86_64.whl.metadata (1.5 kB)\n",
            "Collecting nvidia-cusolver-cu12==11.6.1.9 (from torch>=1.8.0->ultralytics)\n",
            "  Downloading nvidia_cusolver_cu12-11.6.1.9-py3-none-manylinux2014_x86_64.whl.metadata (1.6 kB)\n",
            "Collecting nvidia-cusparse-cu12==12.3.1.170 (from torch>=1.8.0->ultralytics)\n",
            "  Downloading nvidia_cusparse_cu12-12.3.1.170-py3-none-manylinux2014_x86_64.whl.metadata (1.6 kB)\n",
            "Requirement already satisfied: nvidia-cusparselt-cu12==0.6.2 in /usr/local/lib/python3.11/dist-packages (from torch>=1.8.0->ultralytics) (0.6.2)\n",
            "Requirement already satisfied: nvidia-nccl-cu12==2.21.5 in /usr/local/lib/python3.11/dist-packages (from torch>=1.8.0->ultralytics) (2.21.5)\n",
            "Requirement already satisfied: nvidia-nvtx-cu12==12.4.127 in /usr/local/lib/python3.11/dist-packages (from torch>=1.8.0->ultralytics) (12.4.127)\n",
            "Collecting nvidia-nvjitlink-cu12==12.4.127 (from torch>=1.8.0->ultralytics)\n",
            "  Downloading nvidia_nvjitlink_cu12-12.4.127-py3-none-manylinux2014_x86_64.whl.metadata (1.5 kB)\n",
            "Requirement already satisfied: triton==3.2.0 in /usr/local/lib/python3.11/dist-packages (from torch>=1.8.0->ultralytics) (3.2.0)\n",
            "Requirement already satisfied: sympy==1.13.1 in /usr/local/lib/python3.11/dist-packages (from torch>=1.8.0->ultralytics) (1.13.1)\n",
            "Requirement already satisfied: mpmath<1.4,>=1.1.0 in /usr/local/lib/python3.11/dist-packages (from sympy==1.13.1->torch>=1.8.0->ultralytics) (1.3.0)\n",
            "Requirement already satisfied: six>=1.5 in /usr/local/lib/python3.11/dist-packages (from python-dateutil>=2.7->matplotlib>=3.3.0->ultralytics) (1.17.0)\n",
            "Requirement already satisfied: MarkupSafe>=2.0 in /usr/local/lib/python3.11/dist-packages (from jinja2->torch>=1.8.0->ultralytics) (3.0.2)\n",
            "Downloading ultralytics-8.3.133-py3-none-any.whl (1.0 MB)\n",
            "\u001b[2K   \u001b[90m━━━━━━━━━━━━━━━━━━━━━━━━━━━━━━━━━━━━━━━━\u001b[0m \u001b[32m1.0/1.0 MB\u001b[0m \u001b[31m18.9 MB/s\u001b[0m eta \u001b[36m0:00:00\u001b[0m\n",
            "\u001b[?25hDownloading nvidia_cublas_cu12-12.4.5.8-py3-none-manylinux2014_x86_64.whl (363.4 MB)\n",
            "\u001b[2K   \u001b[90m━━━━━━━━━━━━━━━━━━━━━━━━━━━━━━━━━━━━━━━━\u001b[0m \u001b[32m363.4/363.4 MB\u001b[0m \u001b[31m4.2 MB/s\u001b[0m eta \u001b[36m0:00:00\u001b[0m\n",
            "\u001b[?25hDownloading nvidia_cuda_cupti_cu12-12.4.127-py3-none-manylinux2014_x86_64.whl (13.8 MB)\n",
            "\u001b[2K   \u001b[90m━━━━━━━━━━━━━━━━━━━━━━━━━━━━━━━━━━━━━━━━\u001b[0m \u001b[32m13.8/13.8 MB\u001b[0m \u001b[31m16.3 MB/s\u001b[0m eta \u001b[36m0:00:00\u001b[0m\n",
            "\u001b[?25hDownloading nvidia_cuda_nvrtc_cu12-12.4.127-py3-none-manylinux2014_x86_64.whl (24.6 MB)\n",
            "\u001b[2K   \u001b[90m━━━━━━━━━━━━━━━━━━━━━━━━━━━━━━━━━━━━━━━━\u001b[0m \u001b[32m24.6/24.6 MB\u001b[0m \u001b[31m77.6 MB/s\u001b[0m eta \u001b[36m0:00:00\u001b[0m\n",
            "\u001b[?25hDownloading nvidia_cuda_runtime_cu12-12.4.127-py3-none-manylinux2014_x86_64.whl (883 kB)\n",
            "\u001b[2K   \u001b[90m━━━━━━━━━━━━━━━━━━━━━━━━━━━━━━━━━━━━━━━━\u001b[0m \u001b[32m883.7/883.7 kB\u001b[0m \u001b[31m61.1 MB/s\u001b[0m eta \u001b[36m0:00:00\u001b[0m\n",
            "\u001b[?25hDownloading nvidia_cudnn_cu12-9.1.0.70-py3-none-manylinux2014_x86_64.whl (664.8 MB)\n",
            "\u001b[2K   \u001b[90m━━━━━━━━━━━━━━━━━━━━━━━━━━━━━━━━━━━━━━━━\u001b[0m \u001b[32m664.8/664.8 MB\u001b[0m \u001b[31m2.2 MB/s\u001b[0m eta \u001b[36m0:00:00\u001b[0m\n",
            "\u001b[?25hDownloading nvidia_cufft_cu12-11.2.1.3-py3-none-manylinux2014_x86_64.whl (211.5 MB)\n",
            "\u001b[2K   \u001b[90m━━━━━━━━━━━━━━━━━━━━━━━━━━━━━━━━━━━━━━━━\u001b[0m \u001b[32m211.5/211.5 MB\u001b[0m \u001b[31m9.3 MB/s\u001b[0m eta \u001b[36m0:00:00\u001b[0m\n",
            "\u001b[?25hDownloading nvidia_curand_cu12-10.3.5.147-py3-none-manylinux2014_x86_64.whl (56.3 MB)\n",
            "\u001b[2K   \u001b[90m━━━━━━━━━━━━━━━━━━━━━━━━━━━━━━━━━━━━━━━━\u001b[0m \u001b[32m56.3/56.3 MB\u001b[0m \u001b[31m24.4 MB/s\u001b[0m eta \u001b[36m0:00:00\u001b[0m\n",
            "\u001b[?25hDownloading nvidia_cusolver_cu12-11.6.1.9-py3-none-manylinux2014_x86_64.whl (127.9 MB)\n",
            "\u001b[2K   \u001b[90m━━━━━━━━━━━━━━━━━━━━━━━━━━━━━━━━━━━━━━━━\u001b[0m \u001b[32m127.9/127.9 MB\u001b[0m \u001b[31m16.2 MB/s\u001b[0m eta \u001b[36m0:00:00\u001b[0m\n",
            "\u001b[?25hDownloading nvidia_cusparse_cu12-12.3.1.170-py3-none-manylinux2014_x86_64.whl (207.5 MB)\n",
            "\u001b[2K   \u001b[90m━━━━━━━━━━━━━━━━━━━━━━━━━━━━━━━━━━━━━━━━\u001b[0m \u001b[32m207.5/207.5 MB\u001b[0m \u001b[31m5.8 MB/s\u001b[0m eta \u001b[36m0:00:00\u001b[0m\n",
            "\u001b[?25hDownloading nvidia_nvjitlink_cu12-12.4.127-py3-none-manylinux2014_x86_64.whl (21.1 MB)\n",
            "\u001b[2K   \u001b[90m━━━━━━━━━━━━━━━━━━━━━━━━━━━━━━━━━━━━━━━━\u001b[0m \u001b[32m21.1/21.1 MB\u001b[0m \u001b[31m57.5 MB/s\u001b[0m eta \u001b[36m0:00:00\u001b[0m\n",
            "\u001b[?25hDownloading ultralytics_thop-2.0.14-py3-none-any.whl (26 kB)\n",
            "Installing collected packages: nvidia-nvjitlink-cu12, nvidia-curand-cu12, nvidia-cufft-cu12, nvidia-cuda-runtime-cu12, nvidia-cuda-nvrtc-cu12, nvidia-cuda-cupti-cu12, nvidia-cublas-cu12, nvidia-cusparse-cu12, nvidia-cudnn-cu12, nvidia-cusolver-cu12, ultralytics-thop, ultralytics\n",
            "  Attempting uninstall: nvidia-nvjitlink-cu12\n",
            "    Found existing installation: nvidia-nvjitlink-cu12 12.5.82\n",
            "    Uninstalling nvidia-nvjitlink-cu12-12.5.82:\n",
            "      Successfully uninstalled nvidia-nvjitlink-cu12-12.5.82\n",
            "  Attempting uninstall: nvidia-curand-cu12\n",
            "    Found existing installation: nvidia-curand-cu12 10.3.6.82\n",
            "    Uninstalling nvidia-curand-cu12-10.3.6.82:\n",
            "      Successfully uninstalled nvidia-curand-cu12-10.3.6.82\n",
            "  Attempting uninstall: nvidia-cufft-cu12\n",
            "    Found existing installation: nvidia-cufft-cu12 11.2.3.61\n",
            "    Uninstalling nvidia-cufft-cu12-11.2.3.61:\n",
            "      Successfully uninstalled nvidia-cufft-cu12-11.2.3.61\n",
            "  Attempting uninstall: nvidia-cuda-runtime-cu12\n",
            "    Found existing installation: nvidia-cuda-runtime-cu12 12.5.82\n",
            "    Uninstalling nvidia-cuda-runtime-cu12-12.5.82:\n",
            "      Successfully uninstalled nvidia-cuda-runtime-cu12-12.5.82\n",
            "  Attempting uninstall: nvidia-cuda-nvrtc-cu12\n",
            "    Found existing installation: nvidia-cuda-nvrtc-cu12 12.5.82\n",
            "    Uninstalling nvidia-cuda-nvrtc-cu12-12.5.82:\n",
            "      Successfully uninstalled nvidia-cuda-nvrtc-cu12-12.5.82\n",
            "  Attempting uninstall: nvidia-cuda-cupti-cu12\n",
            "    Found existing installation: nvidia-cuda-cupti-cu12 12.5.82\n",
            "    Uninstalling nvidia-cuda-cupti-cu12-12.5.82:\n",
            "      Successfully uninstalled nvidia-cuda-cupti-cu12-12.5.82\n",
            "  Attempting uninstall: nvidia-cublas-cu12\n",
            "    Found existing installation: nvidia-cublas-cu12 12.5.3.2\n",
            "    Uninstalling nvidia-cublas-cu12-12.5.3.2:\n",
            "      Successfully uninstalled nvidia-cublas-cu12-12.5.3.2\n",
            "  Attempting uninstall: nvidia-cusparse-cu12\n",
            "    Found existing installation: nvidia-cusparse-cu12 12.5.1.3\n",
            "    Uninstalling nvidia-cusparse-cu12-12.5.1.3:\n",
            "      Successfully uninstalled nvidia-cusparse-cu12-12.5.1.3\n",
            "  Attempting uninstall: nvidia-cudnn-cu12\n",
            "    Found existing installation: nvidia-cudnn-cu12 9.3.0.75\n",
            "    Uninstalling nvidia-cudnn-cu12-9.3.0.75:\n",
            "      Successfully uninstalled nvidia-cudnn-cu12-9.3.0.75\n",
            "  Attempting uninstall: nvidia-cusolver-cu12\n",
            "    Found existing installation: nvidia-cusolver-cu12 11.6.3.83\n",
            "    Uninstalling nvidia-cusolver-cu12-11.6.3.83:\n",
            "      Successfully uninstalled nvidia-cusolver-cu12-11.6.3.83\n",
            "Successfully installed nvidia-cublas-cu12-12.4.5.8 nvidia-cuda-cupti-cu12-12.4.127 nvidia-cuda-nvrtc-cu12-12.4.127 nvidia-cuda-runtime-cu12-12.4.127 nvidia-cudnn-cu12-9.1.0.70 nvidia-cufft-cu12-11.2.1.3 nvidia-curand-cu12-10.3.5.147 nvidia-cusolver-cu12-11.6.1.9 nvidia-cusparse-cu12-12.3.1.170 nvidia-nvjitlink-cu12-12.4.127 ultralytics-8.3.133 ultralytics-thop-2.0.14\n"
          ]
        }
      ],
      "source": [
        "# Install dependencies\n",
        "!pip install ultralytics --upgrade"
      ]
    },
    {
      "cell_type": "code",
      "source": [
        "!unzip /content/food-101-small-2.zip"
      ],
      "metadata": {
        "colab": {
          "base_uri": "https://localhost:8080/"
        },
        "id": "HfHnkTpVv1Ym",
        "outputId": "6a7af538-8a19-40f2-eb54-70b8b6e3f4aa",
        "collapsed": true
      },
      "id": "HfHnkTpVv1Ym",
      "execution_count": 2,
      "outputs": [
        {
          "output_type": "stream",
          "name": "stdout",
          "text": [
            "Archive:  /content/food-101-small-2.zip\n",
            "   creating: food-101-small-2/\n",
            "  inflating: food-101-small-2/.DS_Store  \n",
            "  inflating: __MACOSX/food-101-small-2/._.DS_Store  \n",
            "   creating: food-101-small-2/test/\n",
            "  inflating: food-101-small-2/train.cache  \n",
            "   creating: food-101-small-2/train/\n",
            "  inflating: food-101-small-2/val.cache  \n",
            "   creating: food-101-small-2/val/\n",
            "   creating: food-101-small-2/test/cheese_plate/\n",
            "   creating: food-101-small-2/test/cup_cakes/\n",
            "   creating: food-101-small-2/test/garlic_bread/\n",
            "   creating: food-101-small-2/test/gnocchi/\n",
            "  inflating: food-101-small-2/test/.DS_Store  \n",
            "  inflating: __MACOSX/food-101-small-2/test/._.DS_Store  \n",
            "   creating: food-101-small-2/test/french_toast/\n",
            "   creating: food-101-small-2/test/chicken_curry/\n",
            "   creating: food-101-small-2/test/cheesecake/\n",
            "   creating: food-101-small-2/test/poutine/\n",
            "   creating: food-101-small-2/test/ravioli/\n",
            "   creating: food-101-small-2/test/lobster_bisque/\n",
            "   creating: food-101-small-2/test/beet_salad/\n",
            "   creating: food-101-small-2/test/hot_and_sour_soup/\n",
            "   creating: food-101-small-2/test/sashimi/\n",
            "   creating: food-101-small-2/test/macarons/\n",
            "   creating: food-101-small-2/test/chicken_quesadilla/\n",
            "   creating: food-101-small-2/test/eggs_benedict/\n",
            "   creating: food-101-small-2/test/sushi/\n",
            "   creating: food-101-small-2/test/pizza/\n",
            "   creating: food-101-small-2/test/nachos/\n",
            "   creating: food-101-small-2/test/lasagna/\n",
            "   creating: food-101-small-2/train/cheese_plate/\n",
            "   creating: food-101-small-2/train/cup_cakes/\n",
            "   creating: food-101-small-2/train/garlic_bread/\n",
            "   creating: food-101-small-2/train/gnocchi/\n",
            "  inflating: food-101-small-2/train/.DS_Store  \n",
            "  inflating: __MACOSX/food-101-small-2/train/._.DS_Store  \n",
            "   creating: food-101-small-2/train/french_toast/\n",
            "   creating: food-101-small-2/train/chicken_curry/\n",
            "   creating: food-101-small-2/train/cheesecake/\n",
            "   creating: food-101-small-2/train/poutine/\n",
            "   creating: food-101-small-2/train/ravioli/\n",
            "   creating: food-101-small-2/train/lobster_bisque/\n",
            "   creating: food-101-small-2/train/beet_salad/\n",
            "   creating: food-101-small-2/train/hot_and_sour_soup/\n",
            "   creating: food-101-small-2/train/sashimi/\n",
            "   creating: food-101-small-2/train/macarons/\n",
            "   creating: food-101-small-2/train/chicken_quesadilla/\n",
            "   creating: food-101-small-2/train/eggs_benedict/\n",
            "   creating: food-101-small-2/train/sushi/\n",
            "   creating: food-101-small-2/train/pizza/\n",
            "   creating: food-101-small-2/train/nachos/\n",
            "   creating: food-101-small-2/train/lasagna/\n",
            "   creating: food-101-small-2/val/cheese_plate/\n",
            "   creating: food-101-small-2/val/cup_cakes/\n",
            "   creating: food-101-small-2/val/garlic_bread/\n",
            "   creating: food-101-small-2/val/gnocchi/\n",
            "   creating: food-101-small-2/val/french_toast/\n",
            "   creating: food-101-small-2/val/chicken_curry/\n",
            "   creating: food-101-small-2/val/cheesecake/\n",
            "   creating: food-101-small-2/val/poutine/\n",
            "   creating: food-101-small-2/val/ravioli/\n",
            "   creating: food-101-small-2/val/lobster_bisque/\n",
            "   creating: food-101-small-2/val/beet_salad/\n",
            "   creating: food-101-small-2/val/hot_and_sour_soup/\n",
            "   creating: food-101-small-2/val/sashimi/\n",
            "   creating: food-101-small-2/val/macarons/\n",
            "   creating: food-101-small-2/val/chicken_quesadilla/\n",
            "   creating: food-101-small-2/val/eggs_benedict/\n",
            "   creating: food-101-small-2/val/sushi/\n",
            "   creating: food-101-small-2/val/pizza/\n",
            "   creating: food-101-small-2/val/nachos/\n",
            "   creating: food-101-small-2/val/lasagna/\n",
            "  inflating: food-101-small-2/test/cheese_plate/1238236.jpg  \n",
            "  inflating: food-101-small-2/test/cheese_plate/3618345.jpg  \n",
            "  inflating: food-101-small-2/test/cheese_plate/1932949.jpg  \n",
            "  inflating: food-101-small-2/test/cheese_plate/3605163.jpg  \n",
            "  inflating: food-101-small-2/test/cheese_plate/3667453.jpg  \n",
            "  inflating: food-101-small-2/test/cheese_plate/1596054.jpg  \n",
            "  inflating: food-101-small-2/test/cheese_plate/1687518.jpg  \n",
            "  inflating: food-101-small-2/test/cheese_plate/3002497.jpg  \n",
            "  inflating: food-101-small-2/test/cheese_plate/732907.jpg  \n",
            "  inflating: food-101-small-2/test/cheese_plate/1703787.jpg  \n",
            "  inflating: food-101-small-2/test/cheese_plate/20251.jpg  \n",
            "  inflating: food-101-small-2/test/cheese_plate/834799.jpg  \n",
            "  inflating: food-101-small-2/test/cheese_plate/2364686.jpg  \n",
            "  inflating: food-101-small-2/test/cheese_plate/1842208.jpg  \n",
            "  inflating: food-101-small-2/test/cheese_plate/3528420.jpg  \n",
            "  inflating: food-101-small-2/test/cup_cakes/2401347.jpg  \n",
            "  inflating: food-101-small-2/test/cup_cakes/311418.jpg  \n",
            "  inflating: food-101-small-2/test/cup_cakes/3168602.jpg  \n",
            "  inflating: food-101-small-2/test/cup_cakes/1791192.jpg  \n",
            "  inflating: food-101-small-2/test/cup_cakes/3159087.jpg  \n",
            "  inflating: food-101-small-2/test/cup_cakes/1934508.jpg  \n",
            "  inflating: food-101-small-2/test/cup_cakes/1756820.jpg  \n",
            "  inflating: food-101-small-2/test/cup_cakes/2581088.jpg  \n",
            "  inflating: food-101-small-2/test/cup_cakes/15425.jpg  \n",
            "  inflating: food-101-small-2/test/cup_cakes/168914.jpg  \n",
            "  inflating: food-101-small-2/test/cup_cakes/137287.jpg  \n",
            "  inflating: food-101-small-2/test/cup_cakes/2941496.jpg  \n",
            "  inflating: food-101-small-2/test/cup_cakes/3639786.jpg  \n",
            "  inflating: food-101-small-2/test/cup_cakes/255468.jpg  \n",
            "  inflating: food-101-small-2/test/cup_cakes/2884900.jpg  \n",
            "  inflating: food-101-small-2/test/garlic_bread/1770480.jpg  \n",
            "  inflating: food-101-small-2/test/garlic_bread/2370293.jpg  \n",
            "  inflating: food-101-small-2/test/garlic_bread/3563824.jpg  \n",
            "  inflating: food-101-small-2/test/garlic_bread/2895042.jpg  \n",
            "  inflating: food-101-small-2/test/garlic_bread/1113682.jpg  \n",
            "  inflating: food-101-small-2/test/garlic_bread/1419560.jpg  \n",
            "  inflating: food-101-small-2/test/garlic_bread/3601699.jpg  \n",
            "  inflating: food-101-small-2/test/garlic_bread/366397.jpg  \n",
            "  inflating: food-101-small-2/test/garlic_bread/2102544.jpg  \n",
            "  inflating: food-101-small-2/test/garlic_bread/1866450.jpg  \n",
            "  inflating: food-101-small-2/test/garlic_bread/2932634.jpg  \n",
            "  inflating: food-101-small-2/test/garlic_bread/1860805.jpg  \n",
            "  inflating: food-101-small-2/test/garlic_bread/3255326.jpg  \n",
            "  inflating: food-101-small-2/test/garlic_bread/1071900.jpg  \n",
            "  inflating: food-101-small-2/test/garlic_bread/1424339.jpg  \n",
            "  inflating: food-101-small-2/test/gnocchi/3640893.jpg  \n",
            "  inflating: food-101-small-2/test/gnocchi/3555439.jpg  \n",
            "  inflating: food-101-small-2/test/gnocchi/899084.jpg  \n",
            "  inflating: food-101-small-2/test/gnocchi/356379.jpg  \n",
            "  inflating: food-101-small-2/test/gnocchi/1067515.jpg  \n",
            "  inflating: food-101-small-2/test/gnocchi/800956.jpg  \n",
            "  inflating: food-101-small-2/test/gnocchi/478125.jpg  \n",
            "  inflating: food-101-small-2/test/gnocchi/314515.jpg  \n",
            "  inflating: food-101-small-2/test/gnocchi/66578.jpg  \n",
            "  inflating: food-101-small-2/test/gnocchi/3272106.jpg  \n",
            "  inflating: food-101-small-2/test/gnocchi/1068366.jpg  \n",
            "  inflating: food-101-small-2/test/gnocchi/1286260.jpg  \n",
            "  inflating: food-101-small-2/test/gnocchi/663698.jpg  \n",
            "  inflating: food-101-small-2/test/gnocchi/2140096.jpg  \n",
            "  inflating: food-101-small-2/test/gnocchi/1710218.jpg  \n",
            "  inflating: food-101-small-2/test/french_toast/1241904.jpg  \n",
            "  inflating: food-101-small-2/test/french_toast/3168571.jpg  \n",
            "  inflating: food-101-small-2/test/french_toast/450222.jpg  \n",
            "  inflating: food-101-small-2/test/french_toast/440750.jpg  \n",
            "  inflating: food-101-small-2/test/french_toast/3370183.jpg  \n",
            "  inflating: food-101-small-2/test/french_toast/790939.jpg  \n",
            "  inflating: food-101-small-2/test/french_toast/1355251.jpg  \n",
            "  inflating: food-101-small-2/test/french_toast/145730.jpg  \n",
            "  inflating: food-101-small-2/test/french_toast/1100950.jpg  \n",
            "  inflating: food-101-small-2/test/french_toast/520953.jpg  \n",
            "  inflating: food-101-small-2/test/french_toast/1416513.jpg  \n",
            "  inflating: food-101-small-2/test/french_toast/3275194.jpg  \n",
            "  inflating: food-101-small-2/test/french_toast/2257624.jpg  \n",
            "  inflating: food-101-small-2/test/french_toast/1139014.jpg  \n",
            "  inflating: food-101-small-2/test/french_toast/901167.jpg  \n",
            "  inflating: food-101-small-2/test/chicken_curry/1040283.jpg  \n",
            "  inflating: food-101-small-2/test/chicken_curry/2411032.jpg  \n",
            "  inflating: food-101-small-2/test/chicken_curry/3506313.jpg  \n",
            "  inflating: food-101-small-2/test/chicken_curry/220003.jpg  \n",
            "  inflating: food-101-small-2/test/chicken_curry/1134602.jpg  \n",
            "  inflating: food-101-small-2/test/chicken_curry/2961459.jpg  \n",
            "  inflating: food-101-small-2/test/chicken_curry/177212.jpg  \n",
            "  inflating: food-101-small-2/test/chicken_curry/2755111.jpg  \n",
            "  inflating: food-101-small-2/test/chicken_curry/3144187.jpg  \n",
            "  inflating: food-101-small-2/test/chicken_curry/1943038.jpg  \n",
            "  inflating: food-101-small-2/test/chicken_curry/2969848.jpg  \n",
            "  inflating: food-101-small-2/test/chicken_curry/833088.jpg  \n",
            "  inflating: food-101-small-2/test/chicken_curry/269964.jpg  \n",
            "  inflating: food-101-small-2/test/chicken_curry/847536.jpg  \n",
            "  inflating: food-101-small-2/test/chicken_curry/3051263.jpg  \n",
            "  inflating: food-101-small-2/test/cheesecake/177866.jpg  \n",
            "  inflating: food-101-small-2/test/cheesecake/413874.jpg  \n",
            "  inflating: food-101-small-2/test/cheesecake/3885296.jpg  \n",
            "  inflating: food-101-small-2/test/cheesecake/3307094.jpg  \n",
            "  inflating: food-101-small-2/test/cheesecake/3819353.jpg  \n",
            "  inflating: food-101-small-2/test/cheesecake/2981348.jpg  \n",
            "  inflating: food-101-small-2/test/cheesecake/1553908.jpg  \n",
            "  inflating: food-101-small-2/test/cheesecake/3794714.jpg  \n",
            "  inflating: food-101-small-2/test/cheesecake/3515215.jpg  \n",
            "  inflating: food-101-small-2/test/cheesecake/857330.jpg  \n",
            "  inflating: food-101-small-2/test/cheesecake/3526353.jpg  \n",
            "  inflating: food-101-small-2/test/cheesecake/2624175.jpg  \n",
            "  inflating: food-101-small-2/test/cheesecake/1207977.jpg  \n",
            "  inflating: food-101-small-2/test/cheesecake/3671710.jpg  \n",
            "  inflating: food-101-small-2/test/cheesecake/369347.jpg  \n",
            "  inflating: food-101-small-2/test/poutine/150821.jpg  \n",
            "  inflating: food-101-small-2/test/poutine/1850672.jpg  \n",
            "  inflating: food-101-small-2/test/poutine/2385246.jpg  \n",
            "  inflating: food-101-small-2/test/poutine/601502.jpg  \n",
            "  inflating: food-101-small-2/test/poutine/1408492.jpg  \n",
            "  inflating: food-101-small-2/test/poutine/2744213.jpg  \n",
            "  inflating: food-101-small-2/test/poutine/1741997.jpg  \n",
            "  inflating: food-101-small-2/test/poutine/72484.jpg  \n",
            "  inflating: food-101-small-2/test/poutine/183596.jpg  \n",
            "  inflating: food-101-small-2/test/poutine/835248.jpg  \n",
            "  inflating: food-101-small-2/test/poutine/719056.jpg  \n",
            "  inflating: food-101-small-2/test/poutine/541905.jpg  \n",
            "  inflating: food-101-small-2/test/poutine/1997817.jpg  \n",
            "  inflating: food-101-small-2/test/poutine/3535671.jpg  \n",
            "  inflating: food-101-small-2/test/poutine/728098.jpg  \n",
            "  inflating: food-101-small-2/test/ravioli/3302472.jpg  \n",
            "  inflating: food-101-small-2/test/ravioli/1160436.jpg  \n",
            "  inflating: food-101-small-2/test/ravioli/3061394.jpg  \n",
            "  inflating: food-101-small-2/test/ravioli/793377.jpg  \n",
            "  inflating: food-101-small-2/test/ravioli/926603.jpg  \n",
            "  inflating: food-101-small-2/test/ravioli/3751679.jpg  \n",
            "  inflating: food-101-small-2/test/ravioli/981093.jpg  \n",
            "  inflating: food-101-small-2/test/ravioli/2881627.jpg  \n",
            "  inflating: food-101-small-2/test/ravioli/2345699.jpg  \n",
            "  inflating: food-101-small-2/test/ravioli/1877340.jpg  \n",
            "  inflating: food-101-small-2/test/ravioli/187874.jpg  \n",
            "  inflating: food-101-small-2/test/ravioli/3622510.jpg  \n",
            "  inflating: food-101-small-2/test/ravioli/2693443.jpg  \n",
            "  inflating: food-101-small-2/test/ravioli/2655188.jpg  \n",
            "  inflating: food-101-small-2/test/ravioli/2610403.jpg  \n",
            "  inflating: food-101-small-2/test/lobster_bisque/2866354.jpg  \n",
            "  inflating: food-101-small-2/test/lobster_bisque/2131316.jpg  \n",
            "  inflating: food-101-small-2/test/lobster_bisque/747483.jpg  \n",
            "  inflating: food-101-small-2/test/lobster_bisque/3697467.jpg  \n",
            "  inflating: food-101-small-2/test/lobster_bisque/2447893.jpg  \n",
            "  inflating: food-101-small-2/test/lobster_bisque/534260.jpg  \n",
            "  inflating: food-101-small-2/test/lobster_bisque/3447310.jpg  \n",
            "  inflating: food-101-small-2/test/lobster_bisque/1072080.jpg  \n",
            "  inflating: food-101-small-2/test/lobster_bisque/1722613.jpg  \n",
            "  inflating: food-101-small-2/test/lobster_bisque/880360.jpg  \n",
            "  inflating: food-101-small-2/test/lobster_bisque/262244.jpg  \n",
            "  inflating: food-101-small-2/test/lobster_bisque/1964693.jpg  \n",
            "  inflating: food-101-small-2/test/lobster_bisque/2579971.jpg  \n",
            "  inflating: food-101-small-2/test/lobster_bisque/999111.jpg  \n",
            "  inflating: food-101-small-2/test/lobster_bisque/2440300.jpg  \n",
            "  inflating: food-101-small-2/test/beet_salad/136192.jpg  \n",
            "  inflating: food-101-small-2/test/beet_salad/3431033.jpg  \n",
            "  inflating: food-101-small-2/test/beet_salad/3622521.jpg  \n",
            "  inflating: food-101-small-2/test/beet_salad/726355.jpg  \n",
            "  inflating: food-101-small-2/test/beet_salad/2808614.jpg  \n",
            "  inflating: food-101-small-2/test/beet_salad/2376730.jpg  \n",
            "  inflating: food-101-small-2/test/beet_salad/1326325.jpg  \n",
            "  inflating: food-101-small-2/test/beet_salad/148815.jpg  \n",
            "  inflating: food-101-small-2/test/beet_salad/695350.jpg  \n",
            "  inflating: food-101-small-2/test/beet_salad/3595662.jpg  \n",
            "  inflating: food-101-small-2/test/beet_salad/1945506.jpg  \n",
            "  inflating: food-101-small-2/test/beet_salad/1069907.jpg  \n",
            "  inflating: food-101-small-2/test/beet_salad/1981555.jpg  \n",
            "  inflating: food-101-small-2/test/beet_salad/2812281.jpg  \n",
            "  inflating: food-101-small-2/test/beet_salad/736923.jpg  \n",
            "  inflating: food-101-small-2/test/hot_and_sour_soup/2575362.jpg  \n",
            "  inflating: food-101-small-2/test/hot_and_sour_soup/237226.jpg  \n",
            "  inflating: food-101-small-2/test/hot_and_sour_soup/335333.jpg  \n",
            "  inflating: food-101-small-2/test/hot_and_sour_soup/3760101.jpg  \n",
            "  inflating: food-101-small-2/test/hot_and_sour_soup/1231074.jpg  \n",
            "  inflating: food-101-small-2/test/hot_and_sour_soup/2675964.jpg  \n",
            "  inflating: food-101-small-2/test/hot_and_sour_soup/3671210.jpg  \n",
            "  inflating: food-101-small-2/test/hot_and_sour_soup/75477.jpg  \n",
            "  inflating: food-101-small-2/test/hot_and_sour_soup/1893145.jpg  \n",
            "  inflating: food-101-small-2/test/hot_and_sour_soup/439561.jpg  \n",
            "  inflating: food-101-small-2/test/hot_and_sour_soup/699751.jpg  \n",
            "  inflating: food-101-small-2/test/hot_and_sour_soup/3683794.jpg  \n",
            "  inflating: food-101-small-2/test/hot_and_sour_soup/1506189.jpg  \n",
            "  inflating: food-101-small-2/test/hot_and_sour_soup/3204811.jpg  \n",
            "  inflating: food-101-small-2/test/hot_and_sour_soup/127457.jpg  \n",
            "  inflating: food-101-small-2/test/sashimi/171812.jpg  \n",
            "  inflating: food-101-small-2/test/sashimi/1010510.jpg  \n",
            "  inflating: food-101-small-2/test/sashimi/3021017.jpg  \n",
            "  inflating: food-101-small-2/test/sashimi/3143530.jpg  \n",
            "  inflating: food-101-small-2/test/sashimi/193003.jpg  \n",
            "  inflating: food-101-small-2/test/sashimi/1544271.jpg  \n",
            "  inflating: food-101-small-2/test/sashimi/3406629.jpg  \n",
            "  inflating: food-101-small-2/test/sashimi/676364.jpg  \n",
            "  inflating: food-101-small-2/test/sashimi/3687952.jpg  \n",
            "  inflating: food-101-small-2/test/sashimi/1615493.jpg  \n",
            "  inflating: food-101-small-2/test/sashimi/3122228.jpg  \n",
            "  inflating: food-101-small-2/test/sashimi/2955450.jpg  \n",
            "  inflating: food-101-small-2/test/sashimi/2745002.jpg  \n",
            "  inflating: food-101-small-2/test/sashimi/2805205.jpg  \n",
            "  inflating: food-101-small-2/test/sashimi/1977089.jpg  \n",
            "  inflating: food-101-small-2/test/macarons/541064.jpg  \n",
            "  inflating: food-101-small-2/test/macarons/2740164.jpg  \n",
            "  inflating: food-101-small-2/test/macarons/2801083.jpg  \n",
            "  inflating: food-101-small-2/test/macarons/3158111.jpg  \n",
            "  inflating: food-101-small-2/test/macarons/3920511.jpg  \n",
            "  inflating: food-101-small-2/test/macarons/1693151.jpg  \n",
            "  inflating: food-101-small-2/test/macarons/594020.jpg  \n",
            "  inflating: food-101-small-2/test/macarons/2330380.jpg  \n",
            "  inflating: food-101-small-2/test/macarons/2160644.jpg  \n",
            "  inflating: food-101-small-2/test/macarons/1519436.jpg  \n",
            "  inflating: food-101-small-2/test/macarons/525474.jpg  \n",
            "  inflating: food-101-small-2/test/macarons/1010087.jpg  \n",
            "  inflating: food-101-small-2/test/macarons/1308880.jpg  \n",
            "  inflating: food-101-small-2/test/macarons/645306.jpg  \n",
            "  inflating: food-101-small-2/test/macarons/3676041.jpg  \n",
            "  inflating: food-101-small-2/test/chicken_quesadilla/3371310.jpg  \n",
            "  inflating: food-101-small-2/test/chicken_quesadilla/3319078.jpg  \n",
            "  inflating: food-101-small-2/test/chicken_quesadilla/214749.jpg  \n",
            "  inflating: food-101-small-2/test/chicken_quesadilla/2033074.jpg  \n",
            "  inflating: food-101-small-2/test/chicken_quesadilla/2968427.jpg  \n",
            "  inflating: food-101-small-2/test/chicken_quesadilla/3711274.jpg  \n",
            "  inflating: food-101-small-2/test/chicken_quesadilla/2574157.jpg  \n",
            "  inflating: food-101-small-2/test/chicken_quesadilla/733745.jpg  \n",
            "  inflating: food-101-small-2/test/chicken_quesadilla/3281265.jpg  \n",
            "  inflating: food-101-small-2/test/chicken_quesadilla/2153886.jpg  \n",
            "  inflating: food-101-small-2/test/chicken_quesadilla/1362051.jpg  \n",
            "  inflating: food-101-small-2/test/chicken_quesadilla/3520243.jpg  \n",
            "  inflating: food-101-small-2/test/chicken_quesadilla/2539566.jpg  \n",
            "  inflating: food-101-small-2/test/chicken_quesadilla/448853.jpg  \n",
            "  inflating: food-101-small-2/test/chicken_quesadilla/3691209.jpg  \n",
            "  inflating: food-101-small-2/test/eggs_benedict/675423.jpg  \n",
            "  inflating: food-101-small-2/test/eggs_benedict/485347.jpg  \n",
            "  inflating: food-101-small-2/test/eggs_benedict/3630033.jpg  \n",
            "  inflating: food-101-small-2/test/eggs_benedict/1830519.jpg  \n",
            "  inflating: food-101-small-2/test/eggs_benedict/120250.jpg  \n",
            "  inflating: food-101-small-2/test/eggs_benedict/795698.jpg  \n",
            "  inflating: food-101-small-2/test/eggs_benedict/2346874.jpg  \n",
            "  inflating: food-101-small-2/test/eggs_benedict/2922671.jpg  \n",
            "  inflating: food-101-small-2/test/eggs_benedict/2483118.jpg  \n",
            "  inflating: food-101-small-2/test/eggs_benedict/3292553.jpg  \n",
            "  inflating: food-101-small-2/test/eggs_benedict/3853121.jpg  \n",
            "  inflating: food-101-small-2/test/eggs_benedict/2388141.jpg  \n",
            "  inflating: food-101-small-2/test/eggs_benedict/2015295.jpg  \n",
            "  inflating: food-101-small-2/test/eggs_benedict/962834.jpg  \n",
            "  inflating: food-101-small-2/test/eggs_benedict/391165.jpg  \n",
            "  inflating: food-101-small-2/test/sushi/1795747.jpg  \n",
            "  inflating: food-101-small-2/test/sushi/2072164.jpg  \n",
            "  inflating: food-101-small-2/test/sushi/2998728.jpg  \n",
            "  inflating: food-101-small-2/test/sushi/3335345.jpg  \n",
            "  inflating: food-101-small-2/test/sushi/2720223.jpg  \n",
            "  inflating: food-101-small-2/test/sushi/2240535.jpg  \n",
            "  inflating: food-101-small-2/test/sushi/355571.jpg  \n",
            "  inflating: food-101-small-2/test/sushi/3203091.jpg  \n",
            "  inflating: food-101-small-2/test/sushi/1060699.jpg  \n",
            "  inflating: food-101-small-2/test/sushi/3806282.jpg  \n",
            "  inflating: food-101-small-2/test/sushi/500533.jpg  \n",
            "  inflating: food-101-small-2/test/sushi/2803739.jpg  \n",
            "  inflating: food-101-small-2/test/sushi/679987.jpg  \n",
            "  inflating: food-101-small-2/test/sushi/1765452.jpg  \n",
            "  inflating: food-101-small-2/test/sushi/3737197.jpg  \n",
            "  inflating: food-101-small-2/test/pizza/3702863.jpg  \n",
            "  inflating: food-101-small-2/test/pizza/61656.jpg  \n",
            "  inflating: food-101-small-2/test/pizza/1183595.jpg  \n",
            "  inflating: food-101-small-2/test/pizza/2667244.jpg  \n",
            "  inflating: food-101-small-2/test/pizza/3754474.jpg  \n",
            "  inflating: food-101-small-2/test/pizza/1165451.jpg  \n",
            "  inflating: food-101-small-2/test/pizza/2412237.jpg  \n",
            "  inflating: food-101-small-2/test/pizza/647215.jpg  \n",
            "  inflating: food-101-small-2/test/pizza/3906901.jpg  \n",
            "  inflating: food-101-small-2/test/pizza/203831.jpg  \n",
            "  inflating: food-101-small-2/test/pizza/3297714.jpg  \n",
            "  inflating: food-101-small-2/test/pizza/1076699.jpg  \n",
            "  inflating: food-101-small-2/test/pizza/1774438.jpg  \n",
            "  inflating: food-101-small-2/test/pizza/518527.jpg  \n",
            "  inflating: food-101-small-2/test/pizza/2478048.jpg  \n",
            "  inflating: food-101-small-2/test/nachos/210272.jpg  \n",
            "  inflating: food-101-small-2/test/nachos/2745829.jpg  \n",
            "  inflating: food-101-small-2/test/nachos/115799.jpg  \n",
            "  inflating: food-101-small-2/test/nachos/1758687.jpg  \n",
            "  inflating: food-101-small-2/test/nachos/1217075.jpg  \n",
            "  inflating: food-101-small-2/test/nachos/1593489.jpg  \n",
            "  inflating: food-101-small-2/test/nachos/523478.jpg  \n",
            "  inflating: food-101-small-2/test/nachos/281057.jpg  \n",
            "  inflating: food-101-small-2/test/nachos/2709677.jpg  \n",
            "  inflating: food-101-small-2/test/nachos/164868.jpg  \n",
            "  inflating: food-101-small-2/test/nachos/1525876.jpg  \n",
            "  inflating: food-101-small-2/test/nachos/3161098.jpg  \n",
            "  inflating: food-101-small-2/test/nachos/3308863.jpg  \n",
            "  inflating: food-101-small-2/test/nachos/2323303.jpg  \n",
            "  inflating: food-101-small-2/test/nachos/2905662.jpg  \n",
            "  inflating: food-101-small-2/test/lasagna/3254622.jpg  \n",
            "  inflating: food-101-small-2/test/lasagna/3787908.jpg  \n",
            "  inflating: food-101-small-2/test/lasagna/3631464.jpg  \n",
            "  inflating: food-101-small-2/test/lasagna/277302.jpg  \n",
            "  inflating: food-101-small-2/test/lasagna/1706827.jpg  \n",
            "  inflating: food-101-small-2/test/lasagna/659788.jpg  \n",
            "  inflating: food-101-small-2/test/lasagna/1304167.jpg  \n",
            "  inflating: food-101-small-2/test/lasagna/1872186.jpg  \n",
            "  inflating: food-101-small-2/test/lasagna/1140060.jpg  \n",
            "  inflating: food-101-small-2/test/lasagna/3123393.jpg  \n",
            "  inflating: food-101-small-2/test/lasagna/3052964.jpg  \n",
            "  inflating: food-101-small-2/test/lasagna/1070364.jpg  \n",
            "  inflating: food-101-small-2/test/lasagna/635962.jpg  \n",
            "  inflating: food-101-small-2/test/lasagna/1867847.jpg  \n",
            "  inflating: food-101-small-2/test/lasagna/2887206.jpg  \n",
            "  inflating: food-101-small-2/train/cheese_plate/654994.jpg  \n",
            "  inflating: food-101-small-2/train/cheese_plate/2515900.jpg  \n",
            "  inflating: food-101-small-2/train/cheese_plate/205441.jpg  \n",
            "  inflating: food-101-small-2/train/cheese_plate/2118396.jpg  \n",
            "  inflating: food-101-small-2/train/cheese_plate/453073.jpg  \n",
            "  inflating: food-101-small-2/train/cheese_plate/779144.jpg  \n",
            "  inflating: food-101-small-2/train/cheese_plate/188899.jpg  \n",
            "  inflating: food-101-small-2/train/cheese_plate/15716.jpg  \n",
            "  inflating: food-101-small-2/train/cheese_plate/1698249.jpg  \n",
            "  inflating: food-101-small-2/train/cheese_plate/1575813.jpg  \n",
            "  inflating: food-101-small-2/train/cheese_plate/617703.jpg  \n",
            "  inflating: food-101-small-2/train/cheese_plate/2529584.jpg  \n",
            "  inflating: food-101-small-2/train/cheese_plate/1914525.jpg  \n",
            "  inflating: food-101-small-2/train/cheese_plate/3543935.jpg  \n",
            "  inflating: food-101-small-2/train/cheese_plate/634135.jpg  \n",
            "  inflating: food-101-small-2/train/cheese_plate/2775911.jpg  \n",
            "  inflating: food-101-small-2/train/cheese_plate/2139798.jpg  \n",
            "  inflating: food-101-small-2/train/cheese_plate/1609768.jpg  \n",
            "  inflating: food-101-small-2/train/cheese_plate/153123.jpg  \n",
            "  inflating: food-101-small-2/train/cheese_plate/1575325.jpg  \n",
            "  inflating: food-101-small-2/train/cheese_plate/418833.jpg  \n",
            "  inflating: food-101-small-2/train/cheese_plate/3632334.jpg  \n",
            "  inflating: food-101-small-2/train/cheese_plate/134444.jpg  \n",
            "  inflating: food-101-small-2/train/cheese_plate/1266840.jpg  \n",
            "  inflating: food-101-small-2/train/cheese_plate/1800133.jpg  \n",
            "  inflating: food-101-small-2/train/cheese_plate/708522.jpg  \n",
            "  inflating: food-101-small-2/train/cheese_plate/3589691.jpg  \n",
            "  inflating: food-101-small-2/train/cheese_plate/2021348.jpg  \n",
            "  inflating: food-101-small-2/train/cheese_plate/3182251.jpg  \n",
            "  inflating: food-101-small-2/train/cheese_plate/864740.jpg  \n",
            "  inflating: food-101-small-2/train/cheese_plate/2401051.jpg  \n",
            "  inflating: food-101-small-2/train/cheese_plate/1069072.jpg  \n",
            "  inflating: food-101-small-2/train/cheese_plate/2796021.jpg  \n",
            "  inflating: food-101-small-2/train/cheese_plate/3239734.jpg  \n",
            "  inflating: food-101-small-2/train/cheese_plate/2870432.jpg  \n",
            "  inflating: food-101-small-2/train/cheese_plate/3686443.jpg  \n",
            "  inflating: food-101-small-2/train/cheese_plate/1394032.jpg  \n",
            "  inflating: food-101-small-2/train/cheese_plate/1516308.jpg  \n",
            "  inflating: food-101-small-2/train/cheese_plate/1848213.jpg  \n",
            "  inflating: food-101-small-2/train/cheese_plate/3838199.jpg  \n",
            "  inflating: food-101-small-2/train/cheese_plate/2620233.jpg  \n",
            "  inflating: food-101-small-2/train/cheese_plate/2953971.jpg  \n",
            "  inflating: food-101-small-2/train/cheese_plate/3770494.jpg  \n",
            "  inflating: food-101-small-2/train/cheese_plate/3730111.jpg  \n",
            "  inflating: food-101-small-2/train/cheese_plate/1474541.jpg  \n",
            "  inflating: food-101-small-2/train/cheese_plate/2908751.jpg  \n",
            "  inflating: food-101-small-2/train/cheese_plate/1622768.jpg  \n",
            "  inflating: food-101-small-2/train/cheese_plate/795391.jpg  \n",
            "  inflating: food-101-small-2/train/cheese_plate/704852.jpg  \n",
            "  inflating: food-101-small-2/train/cheese_plate/990743.jpg  \n",
            "  inflating: food-101-small-2/train/cheese_plate/83860.jpg  \n",
            "  inflating: food-101-small-2/train/cheese_plate/3065818.jpg  \n",
            "  inflating: food-101-small-2/train/cheese_plate/3797343.jpg  \n",
            "  inflating: food-101-small-2/train/cheese_plate/3841334.jpg  \n",
            "  inflating: food-101-small-2/train/cheese_plate/2213823.jpg  \n",
            "  inflating: food-101-small-2/train/cheese_plate/259345.jpg  \n",
            "  inflating: food-101-small-2/train/cheese_plate/1190807.jpg  \n",
            "  inflating: food-101-small-2/train/cheese_plate/32919.jpg  \n",
            "  inflating: food-101-small-2/train/cheese_plate/2614675.jpg  \n",
            "  inflating: food-101-small-2/train/cheese_plate/3124969.jpg  \n",
            "  inflating: food-101-small-2/train/cheese_plate/1567004.jpg  \n",
            "  inflating: food-101-small-2/train/cheese_plate/703191.jpg  \n",
            "  inflating: food-101-small-2/train/cheese_plate/1498365.jpg  \n",
            "  inflating: food-101-small-2/train/cheese_plate/2797387.jpg  \n",
            "  inflating: food-101-small-2/train/cheese_plate/75029.jpg  \n",
            "  inflating: food-101-small-2/train/cheese_plate/82884.jpg  \n",
            "  inflating: food-101-small-2/train/cheese_plate/742257.jpg  \n",
            "  inflating: food-101-small-2/train/cheese_plate/1581009.jpg  \n",
            "  inflating: food-101-small-2/train/cheese_plate/2988532.jpg  \n",
            "  inflating: food-101-small-2/train/cheese_plate/1442876.jpg  \n",
            "  inflating: food-101-small-2/train/cheese_plate/636689.jpg  \n",
            "  inflating: food-101-small-2/train/cheese_plate/3702887.jpg  \n",
            "  inflating: food-101-small-2/train/cheese_plate/1149136.jpg  \n",
            "  inflating: food-101-small-2/train/cheese_plate/2251939.jpg  \n",
            "  inflating: food-101-small-2/train/cheese_plate/1280006.jpg  \n",
            "  inflating: food-101-small-2/train/cup_cakes/3064799.jpg  \n",
            "  inflating: food-101-small-2/train/cup_cakes/778852.jpg  \n",
            "  inflating: food-101-small-2/train/cup_cakes/96964.jpg  \n",
            "  inflating: food-101-small-2/train/cup_cakes/279945.jpg  \n",
            "  inflating: food-101-small-2/train/cup_cakes/800315.jpg  \n",
            "  inflating: food-101-small-2/train/cup_cakes/2185101.jpg  \n",
            "  inflating: food-101-small-2/train/cup_cakes/3096095.jpg  \n",
            "  inflating: food-101-small-2/train/cup_cakes/268243.jpg  \n",
            "  inflating: food-101-small-2/train/cup_cakes/1707810.jpg  \n",
            "  inflating: food-101-small-2/train/cup_cakes/1261625.jpg  \n",
            "  inflating: food-101-small-2/train/cup_cakes/2671408.jpg  \n",
            "  inflating: food-101-small-2/train/cup_cakes/1157931.jpg  \n",
            "  inflating: food-101-small-2/train/cup_cakes/13821.jpg  \n",
            "  inflating: food-101-small-2/train/cup_cakes/3338879.jpg  \n",
            "  inflating: food-101-small-2/train/cup_cakes/3736651.jpg  \n",
            "  inflating: food-101-small-2/train/cup_cakes/1551988.jpg  \n",
            "  inflating: food-101-small-2/train/cup_cakes/1375495.jpg  \n",
            "  inflating: food-101-small-2/train/cup_cakes/322984.jpg  \n",
            "  inflating: food-101-small-2/train/cup_cakes/125672.jpg  \n",
            "  inflating: food-101-small-2/train/cup_cakes/328852.jpg  \n",
            "  inflating: food-101-small-2/train/cup_cakes/3320414.jpg  \n",
            "  inflating: food-101-small-2/train/cup_cakes/89713.jpg  \n",
            "  inflating: food-101-small-2/train/cup_cakes/1280350.jpg  \n",
            "  inflating: food-101-small-2/train/cup_cakes/959259.jpg  \n",
            "  inflating: food-101-small-2/train/cup_cakes/1607618.jpg  \n",
            "  inflating: food-101-small-2/train/cup_cakes/807814.jpg  \n",
            "  inflating: food-101-small-2/train/cup_cakes/1028773.jpg  \n",
            "  inflating: food-101-small-2/train/cup_cakes/2029465.jpg  \n",
            "  inflating: food-101-small-2/train/cup_cakes/3398301.jpg  \n",
            "  inflating: food-101-small-2/train/cup_cakes/618877.jpg  \n",
            "  inflating: food-101-small-2/train/cup_cakes/920927.jpg  \n",
            "  inflating: food-101-small-2/train/cup_cakes/271202.jpg  \n",
            "  inflating: food-101-small-2/train/cup_cakes/1910697.jpg  \n",
            "  inflating: food-101-small-2/train/cup_cakes/610793.jpg  \n",
            "  inflating: food-101-small-2/train/cup_cakes/3002732.jpg  \n",
            "  inflating: food-101-small-2/train/cup_cakes/132594.jpg  \n",
            "  inflating: food-101-small-2/train/cup_cakes/2975212.jpg  \n",
            "  inflating: food-101-small-2/train/cup_cakes/609202.jpg  \n",
            "  inflating: food-101-small-2/train/cup_cakes/1987714.jpg  \n",
            "  inflating: food-101-small-2/train/cup_cakes/2612040.jpg  \n",
            "  inflating: food-101-small-2/train/cup_cakes/3479955.jpg  \n",
            "  inflating: food-101-small-2/train/cup_cakes/332046.jpg  \n",
            "  inflating: food-101-small-2/train/cup_cakes/337467.jpg  \n",
            "  inflating: food-101-small-2/train/cup_cakes/247962.jpg  \n",
            "  inflating: food-101-small-2/train/cup_cakes/2648418.jpg  \n",
            "  inflating: food-101-small-2/train/cup_cakes/745628.jpg  \n",
            "  inflating: food-101-small-2/train/cup_cakes/1675591.jpg  \n",
            "  inflating: food-101-small-2/train/cup_cakes/3920727.jpg  \n",
            "  inflating: food-101-small-2/train/cup_cakes/3095133.jpg  \n",
            "  inflating: food-101-small-2/train/cup_cakes/1082593.jpg  \n",
            "  inflating: food-101-small-2/train/cup_cakes/940770.jpg  \n",
            "  inflating: food-101-small-2/train/cup_cakes/875132.jpg  \n",
            "  inflating: food-101-small-2/train/cup_cakes/1256186.jpg  \n",
            "  inflating: food-101-small-2/train/cup_cakes/376560.jpg  \n",
            "  inflating: food-101-small-2/train/cup_cakes/3485996.jpg  \n",
            "  inflating: food-101-small-2/train/cup_cakes/468414.jpg  \n",
            "  inflating: food-101-small-2/train/cup_cakes/570703.jpg  \n",
            "  inflating: food-101-small-2/train/cup_cakes/764042.jpg  \n",
            "  inflating: food-101-small-2/train/cup_cakes/569910.jpg  \n",
            "  inflating: food-101-small-2/train/cup_cakes/1171532.jpg  \n",
            "  inflating: food-101-small-2/train/cup_cakes/106501.jpg  \n",
            "  inflating: food-101-small-2/train/cup_cakes/1761381.jpg  \n",
            "  inflating: food-101-small-2/train/cup_cakes/910093.jpg  \n",
            "  inflating: food-101-small-2/train/cup_cakes/327760.jpg  \n",
            "  inflating: food-101-small-2/train/cup_cakes/185423.jpg  \n",
            "  inflating: food-101-small-2/train/cup_cakes/2395818.jpg  \n",
            "  inflating: food-101-small-2/train/cup_cakes/753616.jpg  \n",
            "  inflating: food-101-small-2/train/cup_cakes/80500.jpg  \n",
            "  inflating: food-101-small-2/train/cup_cakes/2167604.jpg  \n",
            "  inflating: food-101-small-2/train/cup_cakes/3709681.jpg  \n",
            "  inflating: food-101-small-2/train/cup_cakes/2458548.jpg  \n",
            "  inflating: food-101-small-2/train/cup_cakes/2271168.jpg  \n",
            "  inflating: food-101-small-2/train/cup_cakes/647517.jpg  \n",
            "  inflating: food-101-small-2/train/cup_cakes/1584749.jpg  \n",
            "  inflating: food-101-small-2/train/cup_cakes/2102248.jpg  \n",
            "  inflating: food-101-small-2/train/garlic_bread/1031308.jpg  \n",
            "  inflating: food-101-small-2/train/garlic_bread/1111437.jpg  \n",
            "  inflating: food-101-small-2/train/garlic_bread/3876681.jpg  \n",
            "  inflating: food-101-small-2/train/garlic_bread/2853098.jpg  \n",
            "  inflating: food-101-small-2/train/garlic_bread/1503574.jpg  \n",
            "  inflating: food-101-small-2/train/garlic_bread/1233217.jpg  \n",
            "  inflating: food-101-small-2/train/garlic_bread/1060807.jpg  \n",
            "  inflating: food-101-small-2/train/garlic_bread/2952031.jpg  \n",
            "  inflating: food-101-small-2/train/garlic_bread/2015504.jpg  \n",
            "  inflating: food-101-small-2/train/garlic_bread/691214.jpg  \n",
            "  inflating: food-101-small-2/train/garlic_bread/3325838.jpg  \n",
            "  inflating: food-101-small-2/train/garlic_bread/2779647.jpg  \n",
            "  inflating: food-101-small-2/train/garlic_bread/536943.jpg  \n",
            "  inflating: food-101-small-2/train/garlic_bread/827592.jpg  \n",
            "  inflating: food-101-small-2/train/garlic_bread/2000079.jpg  \n",
            "  inflating: food-101-small-2/train/garlic_bread/343759.jpg  \n",
            "  inflating: food-101-small-2/train/garlic_bread/3801220.jpg  \n",
            "  inflating: food-101-small-2/train/garlic_bread/1933239.jpg  \n",
            "  inflating: food-101-small-2/train/garlic_bread/1721146.jpg  \n",
            "  inflating: food-101-small-2/train/garlic_bread/329719.jpg  \n",
            "  inflating: food-101-small-2/train/garlic_bread/2294997.jpg  \n",
            "  inflating: food-101-small-2/train/garlic_bread/2002150.jpg  \n",
            "  inflating: food-101-small-2/train/garlic_bread/1805466.jpg  \n",
            "  inflating: food-101-small-2/train/garlic_bread/2592760.jpg  \n",
            "  inflating: food-101-small-2/train/garlic_bread/2255716.jpg  \n",
            "  inflating: food-101-small-2/train/garlic_bread/2428940.jpg  \n",
            "  inflating: food-101-small-2/train/garlic_bread/3684331.jpg  \n",
            "  inflating: food-101-small-2/train/garlic_bread/1627036.jpg  \n",
            "  inflating: food-101-small-2/train/garlic_bread/1554474.jpg  \n",
            "  inflating: food-101-small-2/train/garlic_bread/2917668.jpg  \n",
            "  inflating: food-101-small-2/train/garlic_bread/2289490.jpg  \n",
            "  inflating: food-101-small-2/train/garlic_bread/2703358.jpg  \n",
            "  inflating: food-101-small-2/train/garlic_bread/100478.jpg  \n",
            "  inflating: food-101-small-2/train/garlic_bread/72688.jpg  \n",
            "  inflating: food-101-small-2/train/garlic_bread/2040164.jpg  \n",
            "  inflating: food-101-small-2/train/garlic_bread/1077110.jpg  \n",
            "  inflating: food-101-small-2/train/garlic_bread/2026380.jpg  \n",
            "  inflating: food-101-small-2/train/garlic_bread/619154.jpg  \n",
            "  inflating: food-101-small-2/train/garlic_bread/3388325.jpg  \n",
            "  inflating: food-101-small-2/train/garlic_bread/3714310.jpg  \n",
            "  inflating: food-101-small-2/train/garlic_bread/77925.jpg  \n",
            "  inflating: food-101-small-2/train/garlic_bread/704448.jpg  \n",
            "  inflating: food-101-small-2/train/garlic_bread/1002226.jpg  \n",
            "  inflating: food-101-small-2/train/garlic_bread/2079688.jpg  \n",
            "  inflating: food-101-small-2/train/garlic_bread/2172250.jpg  \n",
            "  inflating: food-101-small-2/train/garlic_bread/2107744.jpg  \n",
            "  inflating: food-101-small-2/train/garlic_bread/550841.jpg  \n",
            "  inflating: food-101-small-2/train/garlic_bread/911265.jpg  \n",
            "  inflating: food-101-small-2/train/garlic_bread/450075.jpg  \n",
            "  inflating: food-101-small-2/train/garlic_bread/1844397.jpg  \n",
            "  inflating: food-101-small-2/train/garlic_bread/3372305.jpg  \n",
            "  inflating: food-101-small-2/train/garlic_bread/2213406.jpg  \n",
            "  inflating: food-101-small-2/train/garlic_bread/149717.jpg  \n",
            "  inflating: food-101-small-2/train/garlic_bread/1877014.jpg  \n",
            "  inflating: food-101-small-2/train/garlic_bread/1083890.jpg  \n",
            "  inflating: food-101-small-2/train/garlic_bread/2436026.jpg  \n",
            "  inflating: food-101-small-2/train/garlic_bread/2918236.jpg  \n",
            "  inflating: food-101-small-2/train/garlic_bread/290384.jpg  \n",
            "  inflating: food-101-small-2/train/garlic_bread/3405854.jpg  \n",
            "  inflating: food-101-small-2/train/garlic_bread/1415054.jpg  \n",
            "  inflating: food-101-small-2/train/garlic_bread/2312839.jpg  \n",
            "  inflating: food-101-small-2/train/garlic_bread/3025692.jpg  \n",
            "  inflating: food-101-small-2/train/garlic_bread/610273.jpg  \n",
            "  inflating: food-101-small-2/train/garlic_bread/3317049.jpg  \n",
            "  inflating: food-101-small-2/train/garlic_bread/1713448.jpg  \n",
            "  inflating: food-101-small-2/train/garlic_bread/296583.jpg  \n",
            "  inflating: food-101-small-2/train/garlic_bread/570937.jpg  \n",
            "  inflating: food-101-small-2/train/garlic_bread/3363336.jpg  \n",
            "  inflating: food-101-small-2/train/garlic_bread/2234609.jpg  \n",
            "  inflating: food-101-small-2/train/garlic_bread/2299204.jpg  \n",
            "  inflating: food-101-small-2/train/garlic_bread/3713394.jpg  \n",
            "  inflating: food-101-small-2/train/garlic_bread/2520418.jpg  \n",
            "  inflating: food-101-small-2/train/garlic_bread/2054556.jpg  \n",
            "  inflating: food-101-small-2/train/garlic_bread/2886044.jpg  \n",
            "  inflating: food-101-small-2/train/garlic_bread/462277.jpg  \n",
            "  inflating: food-101-small-2/train/gnocchi/867774.jpg  \n",
            "  inflating: food-101-small-2/train/gnocchi/973271.jpg  \n",
            "  inflating: food-101-small-2/train/gnocchi/1190698.jpg  \n",
            "  inflating: food-101-small-2/train/gnocchi/964447.jpg  \n",
            "  inflating: food-101-small-2/train/gnocchi/1077200.jpg  \n",
            "  inflating: food-101-small-2/train/gnocchi/2251115.jpg  \n",
            "  inflating: food-101-small-2/train/gnocchi/3551930.jpg  \n",
            "  inflating: food-101-small-2/train/gnocchi/100409.jpg  \n",
            "  inflating: food-101-small-2/train/gnocchi/3425323.jpg  \n",
            "  inflating: food-101-small-2/train/gnocchi/978253.jpg  \n",
            "  inflating: food-101-small-2/train/gnocchi/562495.jpg  \n",
            "  inflating: food-101-small-2/train/gnocchi/3163792.jpg  \n",
            "  inflating: food-101-small-2/train/gnocchi/3128988.jpg  \n",
            "  inflating: food-101-small-2/train/gnocchi/1706909.jpg  \n",
            "  inflating: food-101-small-2/train/gnocchi/3691363.jpg  \n",
            "  inflating: food-101-small-2/train/gnocchi/2591031.jpg  \n",
            "  inflating: food-101-small-2/train/gnocchi/2558754.jpg  \n",
            "  inflating: food-101-small-2/train/gnocchi/3375005.jpg  \n",
            "  inflating: food-101-small-2/train/gnocchi/2869712.jpg  \n",
            "  inflating: food-101-small-2/train/gnocchi/1738833.jpg  \n",
            "  inflating: food-101-small-2/train/gnocchi/385654.jpg  \n",
            "  inflating: food-101-small-2/train/gnocchi/1150526.jpg  \n",
            "  inflating: food-101-small-2/train/gnocchi/3479466.jpg  \n",
            "  inflating: food-101-small-2/train/gnocchi/3757044.jpg  \n",
            "  inflating: food-101-small-2/train/gnocchi/3229631.jpg  \n",
            "  inflating: food-101-small-2/train/gnocchi/2321420.jpg  \n",
            "  inflating: food-101-small-2/train/gnocchi/37299.jpg  \n",
            "  inflating: food-101-small-2/train/gnocchi/2884365.jpg  \n",
            "  inflating: food-101-small-2/train/gnocchi/2821040.jpg  \n",
            "  inflating: food-101-small-2/train/gnocchi/3398895.jpg  \n",
            "  inflating: food-101-small-2/train/gnocchi/809420.jpg  \n",
            "  inflating: food-101-small-2/train/gnocchi/3269265.jpg  \n",
            "  inflating: food-101-small-2/train/gnocchi/1239821.jpg  \n",
            "  inflating: food-101-small-2/train/gnocchi/3233022.jpg  \n",
            "  inflating: food-101-small-2/train/gnocchi/2152413.jpg  \n",
            "  inflating: food-101-small-2/train/gnocchi/3625935.jpg  \n",
            "  inflating: food-101-small-2/train/gnocchi/3404200.jpg  \n",
            "  inflating: food-101-small-2/train/gnocchi/1011446.jpg  \n",
            "  inflating: food-101-small-2/train/gnocchi/2624309.jpg  \n",
            "  inflating: food-101-small-2/train/gnocchi/3842970.jpg  \n",
            "  inflating: food-101-small-2/train/gnocchi/1444882.jpg  \n",
            "  inflating: food-101-small-2/train/gnocchi/1193054.jpg  \n",
            "  inflating: food-101-small-2/train/gnocchi/3716326.jpg  \n",
            "  inflating: food-101-small-2/train/gnocchi/2132519.jpg  \n",
            "  inflating: food-101-small-2/train/gnocchi/3831208.jpg  \n",
            "  inflating: food-101-small-2/train/gnocchi/2724874.jpg  \n",
            "  inflating: food-101-small-2/train/gnocchi/56717.jpg  \n",
            "  inflating: food-101-small-2/train/gnocchi/2884436.jpg  \n",
            "  inflating: food-101-small-2/train/gnocchi/3653311.jpg  \n",
            "  inflating: food-101-small-2/train/gnocchi/1215656.jpg  \n",
            "  inflating: food-101-small-2/train/gnocchi/819639.jpg  \n",
            "  inflating: food-101-small-2/train/gnocchi/3073909.jpg  \n",
            "  inflating: food-101-small-2/train/gnocchi/3832332.jpg  \n",
            "  inflating: food-101-small-2/train/gnocchi/2450148.jpg  \n",
            "  inflating: food-101-small-2/train/gnocchi/1389678.jpg  \n",
            "  inflating: food-101-small-2/train/gnocchi/490068.jpg  \n",
            "  inflating: food-101-small-2/train/gnocchi/3625297.jpg  \n",
            "  inflating: food-101-small-2/train/gnocchi/563282.jpg  \n",
            "  inflating: food-101-small-2/train/gnocchi/527826.jpg  \n",
            "  inflating: food-101-small-2/train/gnocchi/733141.jpg  \n",
            "  inflating: food-101-small-2/train/gnocchi/3655188.jpg  \n",
            "  inflating: food-101-small-2/train/gnocchi/685999.jpg  \n",
            "  inflating: food-101-small-2/train/gnocchi/291639.jpg  \n",
            "  inflating: food-101-small-2/train/gnocchi/993575.jpg  \n",
            "  inflating: food-101-small-2/train/gnocchi/3825205.jpg  \n",
            "  inflating: food-101-small-2/train/gnocchi/2696843.jpg  \n",
            "  inflating: food-101-small-2/train/gnocchi/2639482.jpg  \n",
            "  inflating: food-101-small-2/train/gnocchi/1105458.jpg  \n",
            "  inflating: food-101-small-2/train/gnocchi/910082.jpg  \n",
            "  inflating: food-101-small-2/train/gnocchi/329825.jpg  \n",
            "  inflating: food-101-small-2/train/gnocchi/2143412.jpg  \n",
            "  inflating: food-101-small-2/train/gnocchi/1255571.jpg  \n",
            "  inflating: food-101-small-2/train/gnocchi/86602.jpg  \n",
            "  inflating: food-101-small-2/train/gnocchi/3896340.jpg  \n",
            "  inflating: food-101-small-2/train/gnocchi/348160.jpg  \n",
            "  inflating: food-101-small-2/train/french_toast/659730.jpg  \n",
            "  inflating: food-101-small-2/train/french_toast/689049.jpg  \n",
            "  inflating: food-101-small-2/train/french_toast/3163021.jpg  \n",
            "  inflating: food-101-small-2/train/french_toast/3513889.jpg  \n",
            "  inflating: food-101-small-2/train/french_toast/2402851.jpg  \n",
            "  inflating: food-101-small-2/train/french_toast/222821.jpg  \n",
            "  inflating: food-101-small-2/train/french_toast/545834.jpg  \n",
            "  inflating: food-101-small-2/train/french_toast/1410906.jpg  \n",
            "  inflating: food-101-small-2/train/french_toast/2495079.jpg  \n",
            "  inflating: food-101-small-2/train/french_toast/3147195.jpg  \n",
            "  inflating: food-101-small-2/train/french_toast/3033980.jpg  \n",
            "  inflating: food-101-small-2/train/french_toast/2002732.jpg  \n",
            "  inflating: food-101-small-2/train/french_toast/2930471.jpg  \n",
            "  inflating: food-101-small-2/train/french_toast/1800023.jpg  \n",
            "  inflating: food-101-small-2/train/french_toast/2558434.jpg  \n",
            "  inflating: food-101-small-2/train/french_toast/1777088.jpg  \n",
            "  inflating: food-101-small-2/train/french_toast/358569.jpg  \n",
            "  inflating: food-101-small-2/train/french_toast/2329849.jpg  \n",
            "  inflating: food-101-small-2/train/french_toast/714230.jpg  \n",
            "  inflating: food-101-small-2/train/french_toast/3071958.jpg  \n",
            "  inflating: food-101-small-2/train/french_toast/1066687.jpg  \n",
            "  inflating: food-101-small-2/train/french_toast/1104823.jpg  \n",
            "  inflating: food-101-small-2/train/french_toast/457548.jpg  \n",
            "  inflating: food-101-small-2/train/french_toast/1006538.jpg  \n",
            "  inflating: food-101-small-2/train/french_toast/552278.jpg  \n",
            "  inflating: food-101-small-2/train/french_toast/75929.jpg  \n",
            "  inflating: food-101-small-2/train/french_toast/1069667.jpg  \n",
            "  inflating: food-101-small-2/train/french_toast/1220815.jpg  \n",
            "  inflating: food-101-small-2/train/french_toast/1537303.jpg  \n",
            "  inflating: food-101-small-2/train/french_toast/791313.jpg  \n",
            "  inflating: food-101-small-2/train/french_toast/3826400.jpg  \n",
            "  inflating: food-101-small-2/train/french_toast/2304788.jpg  \n",
            "  inflating: food-101-small-2/train/french_toast/174648.jpg  \n",
            "  inflating: food-101-small-2/train/french_toast/2784545.jpg  \n",
            "  inflating: food-101-small-2/train/french_toast/1421605.jpg  \n",
            "  inflating: food-101-small-2/train/french_toast/2678273.jpg  \n",
            "  inflating: food-101-small-2/train/french_toast/315219.jpg  \n",
            "  inflating: food-101-small-2/train/french_toast/1222426.jpg  \n",
            "  inflating: food-101-small-2/train/french_toast/2519387.jpg  \n",
            "  inflating: food-101-small-2/train/french_toast/1849074.jpg  \n",
            "  inflating: food-101-small-2/train/french_toast/2039864.jpg  \n",
            "  inflating: food-101-small-2/train/french_toast/3048026.jpg  \n",
            "  inflating: food-101-small-2/train/french_toast/322530.jpg  \n",
            "  inflating: food-101-small-2/train/french_toast/791295.jpg  \n",
            "  inflating: food-101-small-2/train/french_toast/302150.jpg  \n",
            "  inflating: food-101-small-2/train/french_toast/2349257.jpg  \n",
            "  inflating: food-101-small-2/train/french_toast/1993568.jpg  \n",
            "  inflating: food-101-small-2/train/french_toast/2351794.jpg  \n",
            "  inflating: food-101-small-2/train/french_toast/1439109.jpg  \n",
            "  inflating: food-101-small-2/train/french_toast/915992.jpg  \n",
            "  inflating: food-101-small-2/train/french_toast/3299953.jpg  \n",
            "  inflating: food-101-small-2/train/french_toast/903317.jpg  \n",
            "  inflating: food-101-small-2/train/french_toast/182659.jpg  \n",
            "  inflating: food-101-small-2/train/french_toast/2872314.jpg  \n",
            "  inflating: food-101-small-2/train/french_toast/1285422.jpg  \n",
            "  inflating: food-101-small-2/train/french_toast/458528.jpg  \n",
            "  inflating: food-101-small-2/train/french_toast/57881.jpg  \n",
            "  inflating: food-101-small-2/train/french_toast/2092065.jpg  \n",
            "  inflating: food-101-small-2/train/french_toast/335213.jpg  \n",
            "  inflating: food-101-small-2/train/french_toast/3055994.jpg  \n",
            "  inflating: food-101-small-2/train/french_toast/1940434.jpg  \n",
            "  inflating: food-101-small-2/train/french_toast/3872943.jpg  \n",
            "  inflating: food-101-small-2/train/french_toast/1278221.jpg  \n",
            "  inflating: food-101-small-2/train/french_toast/2440843.jpg  \n",
            "  inflating: food-101-small-2/train/french_toast/170534.jpg  \n",
            "  inflating: food-101-small-2/train/french_toast/3303000.jpg  \n",
            "  inflating: food-101-small-2/train/french_toast/566942.jpg  \n",
            "  inflating: food-101-small-2/train/french_toast/2314123.jpg  \n",
            "  inflating: food-101-small-2/train/french_toast/3189030.jpg  \n",
            "  inflating: food-101-small-2/train/french_toast/3322552.jpg  \n",
            "  inflating: food-101-small-2/train/french_toast/63314.jpg  \n",
            "  inflating: food-101-small-2/train/french_toast/67358.jpg  \n",
            "  inflating: food-101-small-2/train/french_toast/957043.jpg  \n",
            "  inflating: food-101-small-2/train/french_toast/3567917.jpg  \n",
            "  inflating: food-101-small-2/train/french_toast/2242617.jpg  \n",
            "  inflating: food-101-small-2/train/chicken_curry/2949599.jpg  \n",
            "  inflating: food-101-small-2/train/chicken_curry/1215399.jpg  \n",
            "  inflating: food-101-small-2/train/chicken_curry/3595187.jpg  \n",
            "  inflating: food-101-small-2/train/chicken_curry/2264390.jpg  \n",
            "  inflating: food-101-small-2/train/chicken_curry/822217.jpg  \n",
            "  inflating: food-101-small-2/train/chicken_curry/464807.jpg  \n",
            "  inflating: food-101-small-2/train/chicken_curry/2451199.jpg  \n",
            "  inflating: food-101-small-2/train/chicken_curry/1473873.jpg  \n",
            "  inflating: food-101-small-2/train/chicken_curry/1095245.jpg  \n",
            "  inflating: food-101-small-2/train/chicken_curry/3542597.jpg  \n",
            "  inflating: food-101-small-2/train/chicken_curry/3274130.jpg  \n",
            "  inflating: food-101-small-2/train/chicken_curry/2049685.jpg  \n",
            "  inflating: food-101-small-2/train/chicken_curry/1352016.jpg  \n",
            "  inflating: food-101-small-2/train/chicken_curry/2307753.jpg  \n",
            "  inflating: food-101-small-2/train/chicken_curry/476425.jpg  \n",
            "  inflating: food-101-small-2/train/chicken_curry/517965.jpg  \n",
            "  inflating: food-101-small-2/train/chicken_curry/352284.jpg  \n",
            "  inflating: food-101-small-2/train/chicken_curry/1588422.jpg  \n",
            "  inflating: food-101-small-2/train/chicken_curry/1935940.jpg  \n",
            "  inflating: food-101-small-2/train/chicken_curry/2410199.jpg  \n",
            "  inflating: food-101-small-2/train/chicken_curry/2840939.jpg  \n",
            "  inflating: food-101-small-2/train/chicken_curry/1422268.jpg  \n",
            "  inflating: food-101-small-2/train/chicken_curry/2038187.jpg  \n",
            "  inflating: food-101-small-2/train/chicken_curry/1482382.jpg  \n",
            "  inflating: food-101-small-2/train/chicken_curry/516558.jpg  \n",
            "  inflating: food-101-small-2/train/chicken_curry/2820201.jpg  \n",
            "  inflating: food-101-small-2/train/chicken_curry/337860.jpg  \n",
            "  inflating: food-101-small-2/train/chicken_curry/2460096.jpg  \n",
            "  inflating: food-101-small-2/train/chicken_curry/1802047.jpg  \n",
            "  inflating: food-101-small-2/train/chicken_curry/2369216.jpg  \n",
            "  inflating: food-101-small-2/train/chicken_curry/137997.jpg  \n",
            "  inflating: food-101-small-2/train/chicken_curry/3132208.jpg  \n",
            "  inflating: food-101-small-2/train/chicken_curry/2843978.jpg  \n",
            "  inflating: food-101-small-2/train/chicken_curry/3600369.jpg  \n",
            "  inflating: food-101-small-2/train/chicken_curry/1782739.jpg  \n",
            "  inflating: food-101-small-2/train/chicken_curry/1477473.jpg  \n",
            "  inflating: food-101-small-2/train/chicken_curry/1254768.jpg  \n",
            "  inflating: food-101-small-2/train/chicken_curry/1075859.jpg  \n",
            "  inflating: food-101-small-2/train/chicken_curry/893728.jpg  \n",
            "  inflating: food-101-small-2/train/chicken_curry/1842322.jpg  \n",
            "  inflating: food-101-small-2/train/chicken_curry/1065322.jpg  \n",
            "  inflating: food-101-small-2/train/chicken_curry/1473774.jpg  \n",
            "  inflating: food-101-small-2/train/chicken_curry/214335.jpg  \n",
            "  inflating: food-101-small-2/train/chicken_curry/473888.jpg  \n",
            "  inflating: food-101-small-2/train/chicken_curry/66223.jpg  \n",
            "  inflating: food-101-small-2/train/chicken_curry/742147.jpg  \n",
            "  inflating: food-101-small-2/train/chicken_curry/392185.jpg  \n",
            "  inflating: food-101-small-2/train/chicken_curry/2271905.jpg  \n",
            "  inflating: food-101-small-2/train/chicken_curry/3638377.jpg  \n",
            "  inflating: food-101-small-2/train/chicken_curry/329921.jpg  \n",
            "  inflating: food-101-small-2/train/chicken_curry/34599.jpg  \n",
            "  inflating: food-101-small-2/train/chicken_curry/961396.jpg  \n",
            "  inflating: food-101-small-2/train/chicken_curry/2701143.jpg  \n",
            "  inflating: food-101-small-2/train/chicken_curry/2157823.jpg  \n",
            "  inflating: food-101-small-2/train/chicken_curry/3779111.jpg  \n",
            "  inflating: food-101-small-2/train/chicken_curry/215830.jpg  \n",
            "  inflating: food-101-small-2/train/chicken_curry/743077.jpg  \n",
            "  inflating: food-101-small-2/train/chicken_curry/1236329.jpg  \n",
            "  inflating: food-101-small-2/train/chicken_curry/2728934.jpg  \n",
            "  inflating: food-101-small-2/train/chicken_curry/3690982.jpg  \n",
            "  inflating: food-101-small-2/train/chicken_curry/2770545.jpg  \n",
            "  inflating: food-101-small-2/train/chicken_curry/2342516.jpg  \n",
            "  inflating: food-101-small-2/train/chicken_curry/2400634.jpg  \n",
            "  inflating: food-101-small-2/train/chicken_curry/2482687.jpg  \n",
            "  inflating: food-101-small-2/train/chicken_curry/609133.jpg  \n",
            "  inflating: food-101-small-2/train/chicken_curry/1441189.jpg  \n",
            "  inflating: food-101-small-2/train/chicken_curry/2665266.jpg  \n",
            "  inflating: food-101-small-2/train/chicken_curry/3496679.jpg  \n",
            "  inflating: food-101-small-2/train/chicken_curry/475137.jpg  \n",
            "  inflating: food-101-small-2/train/chicken_curry/838.jpg  \n",
            "  inflating: food-101-small-2/train/chicken_curry/2658451.jpg  \n",
            "  inflating: food-101-small-2/train/chicken_curry/35409.jpg  \n",
            "  inflating: food-101-small-2/train/chicken_curry/1445935.jpg  \n",
            "  inflating: food-101-small-2/train/chicken_curry/3298192.jpg  \n",
            "  inflating: food-101-small-2/train/chicken_curry/1972537.jpg  \n",
            "  inflating: food-101-small-2/train/cheesecake/1142319.jpg  \n",
            "  inflating: food-101-small-2/train/cheesecake/1127783.jpg  \n",
            "  inflating: food-101-small-2/train/cheesecake/2398894.jpg  \n",
            "  inflating: food-101-small-2/train/cheesecake/1286644.jpg  \n",
            "  inflating: food-101-small-2/train/cheesecake/2557893.jpg  \n",
            "  inflating: food-101-small-2/train/cheesecake/811556.jpg  \n",
            "  inflating: food-101-small-2/train/cheesecake/1877085.jpg  \n",
            "  inflating: food-101-small-2/train/cheesecake/869766.jpg  \n",
            "  inflating: food-101-small-2/train/cheesecake/1642197.jpg  \n",
            "  inflating: food-101-small-2/train/cheesecake/2329297.jpg  \n",
            "  inflating: food-101-small-2/train/cheesecake/1981338.jpg  \n",
            "  inflating: food-101-small-2/train/cheesecake/2771236.jpg  \n",
            "  inflating: food-101-small-2/train/cheesecake/649724.jpg  \n",
            "  inflating: food-101-small-2/train/cheesecake/1266010.jpg  \n",
            "  inflating: food-101-small-2/train/cheesecake/1211501.jpg  \n",
            "  inflating: food-101-small-2/train/cheesecake/42503.jpg  \n",
            "  inflating: food-101-small-2/train/cheesecake/3914014.jpg  \n",
            "  inflating: food-101-small-2/train/cheesecake/1855433.jpg  \n",
            "  inflating: food-101-small-2/train/cheesecake/2243942.jpg  \n",
            "  inflating: food-101-small-2/train/cheesecake/2794584.jpg  \n",
            "  inflating: food-101-small-2/train/cheesecake/2575885.jpg  \n",
            "  inflating: food-101-small-2/train/cheesecake/3434716.jpg  \n",
            "  inflating: food-101-small-2/train/cheesecake/3868436.jpg  \n",
            "  inflating: food-101-small-2/train/cheesecake/2160930.jpg  \n",
            "  inflating: food-101-small-2/train/cheesecake/84085.jpg  \n",
            "  inflating: food-101-small-2/train/cheesecake/1983826.jpg  \n",
            "  inflating: food-101-small-2/train/cheesecake/736395.jpg  \n",
            "  inflating: food-101-small-2/train/cheesecake/1017408.jpg  \n",
            "  inflating: food-101-small-2/train/cheesecake/106769.jpg  \n",
            "  inflating: food-101-small-2/train/cheesecake/3865312.jpg  \n",
            "  inflating: food-101-small-2/train/cheesecake/3266787.jpg  \n",
            "  inflating: food-101-small-2/train/cheesecake/3818887.jpg  \n",
            "  inflating: food-101-small-2/train/cheesecake/2033012.jpg  \n",
            "  inflating: food-101-small-2/train/cheesecake/1900269.jpg  \n",
            "  inflating: food-101-small-2/train/cheesecake/2966085.jpg  \n",
            "  inflating: food-101-small-2/train/cheesecake/1750456.jpg  \n",
            "  inflating: food-101-small-2/train/cheesecake/2606803.jpg  \n",
            "  inflating: food-101-small-2/train/cheesecake/2387046.jpg  \n",
            "  inflating: food-101-small-2/train/cheesecake/1179302.jpg  \n",
            "  inflating: food-101-small-2/train/cheesecake/3772649.jpg  \n",
            "  inflating: food-101-small-2/train/cheesecake/35298.jpg  \n",
            "  inflating: food-101-small-2/train/cheesecake/1583451.jpg  \n",
            "  inflating: food-101-small-2/train/cheesecake/3267121.jpg  \n",
            "  inflating: food-101-small-2/train/cheesecake/856071.jpg  \n",
            "  inflating: food-101-small-2/train/cheesecake/2940339.jpg  \n",
            "  inflating: food-101-small-2/train/cheesecake/1540965.jpg  \n",
            "  inflating: food-101-small-2/train/cheesecake/1979166.jpg  \n",
            "  inflating: food-101-small-2/train/cheesecake/1871868.jpg  \n",
            "  inflating: food-101-small-2/train/cheesecake/192339.jpg  \n",
            "  inflating: food-101-small-2/train/cheesecake/391930.jpg  \n",
            "  inflating: food-101-small-2/train/cheesecake/2103069.jpg  \n",
            "  inflating: food-101-small-2/train/cheesecake/1958627.jpg  \n",
            "  inflating: food-101-small-2/train/cheesecake/280586.jpg  \n",
            "  inflating: food-101-small-2/train/cheesecake/2975385.jpg  \n",
            "  inflating: food-101-small-2/train/cheesecake/229954.jpg  \n",
            "  inflating: food-101-small-2/train/cheesecake/2144621.jpg  \n",
            "  inflating: food-101-small-2/train/cheesecake/3709653.jpg  \n",
            "  inflating: food-101-small-2/train/cheesecake/196058.jpg  \n",
            "  inflating: food-101-small-2/train/cheesecake/3107544.jpg  \n",
            "  inflating: food-101-small-2/train/cheesecake/2470410.jpg  \n",
            "  inflating: food-101-small-2/train/cheesecake/928874.jpg  \n",
            "  inflating: food-101-small-2/train/cheesecake/301407.jpg  \n",
            "  inflating: food-101-small-2/train/cheesecake/1503556.jpg  \n",
            "  inflating: food-101-small-2/train/cheesecake/916541.jpg  \n",
            "  inflating: food-101-small-2/train/cheesecake/832742.jpg  \n",
            "  inflating: food-101-small-2/train/cheesecake/3104089.jpg  \n",
            "  inflating: food-101-small-2/train/cheesecake/1891137.jpg  \n",
            "  inflating: food-101-small-2/train/cheesecake/2656.jpg  \n",
            "  inflating: food-101-small-2/train/cheesecake/1752942.jpg  \n",
            "  inflating: food-101-small-2/train/cheesecake/1096018.jpg  \n",
            "  inflating: food-101-small-2/train/cheesecake/3492626.jpg  \n",
            "  inflating: food-101-small-2/train/cheesecake/1681931.jpg  \n",
            "  inflating: food-101-small-2/train/cheesecake/2751098.jpg  \n",
            "  inflating: food-101-small-2/train/cheesecake/1679654.jpg  \n",
            "  inflating: food-101-small-2/train/cheesecake/3031568.jpg  \n",
            "  inflating: food-101-small-2/train/poutine/3570725.jpg  \n",
            "  inflating: food-101-small-2/train/poutine/3511640.jpg  \n",
            "  inflating: food-101-small-2/train/poutine/133176.jpg  \n",
            "  inflating: food-101-small-2/train/poutine/365017.jpg  \n",
            "  inflating: food-101-small-2/train/poutine/1368775.jpg  \n",
            "  inflating: food-101-small-2/train/poutine/2611673.jpg  \n",
            "  inflating: food-101-small-2/train/poutine/964323.jpg  \n",
            "  inflating: food-101-small-2/train/poutine/349675.jpg  \n",
            "  inflating: food-101-small-2/train/poutine/2361572.jpg  \n",
            "  inflating: food-101-small-2/train/poutine/3267969.jpg  \n",
            "  inflating: food-101-small-2/train/poutine/2172983.jpg  \n",
            "  inflating: food-101-small-2/train/poutine/308003.jpg  \n",
            "  inflating: food-101-small-2/train/poutine/2350032.jpg  \n",
            "  inflating: food-101-small-2/train/poutine/2150303.jpg  \n",
            "  inflating: food-101-small-2/train/poutine/2991095.jpg  \n",
            "  inflating: food-101-small-2/train/poutine/451489.jpg  \n",
            "  inflating: food-101-small-2/train/poutine/2347983.jpg  \n",
            "  inflating: food-101-small-2/train/poutine/1490318.jpg  \n",
            "  inflating: food-101-small-2/train/poutine/2429019.jpg  \n",
            "  inflating: food-101-small-2/train/poutine/381194.jpg  \n",
            "  inflating: food-101-small-2/train/poutine/3842396.jpg  \n",
            "  inflating: food-101-small-2/train/poutine/3775490.jpg  \n",
            "  inflating: food-101-small-2/train/poutine/2382893.jpg  \n",
            "  inflating: food-101-small-2/train/poutine/3665907.jpg  \n",
            "  inflating: food-101-small-2/train/poutine/511142.jpg  \n",
            "  inflating: food-101-small-2/train/poutine/1257645.jpg  \n",
            "  inflating: food-101-small-2/train/poutine/478678.jpg  \n",
            "  inflating: food-101-small-2/train/poutine/1486284.jpg  \n",
            "  inflating: food-101-small-2/train/poutine/3843300.jpg  \n",
            "  inflating: food-101-small-2/train/poutine/175961.jpg  \n",
            "  inflating: food-101-small-2/train/poutine/146832.jpg  \n",
            "  inflating: food-101-small-2/train/poutine/2073379.jpg  \n",
            "  inflating: food-101-small-2/train/poutine/366743.jpg  \n",
            "  inflating: food-101-small-2/train/poutine/1405010.jpg  \n",
            "  inflating: food-101-small-2/train/poutine/3209383.jpg  \n",
            "  inflating: food-101-small-2/train/poutine/3224211.jpg  \n",
            "  inflating: food-101-small-2/train/poutine/3411543.jpg  \n",
            "  inflating: food-101-small-2/train/poutine/2692530.jpg  \n",
            "  inflating: food-101-small-2/train/poutine/3050934.jpg  \n",
            "  inflating: food-101-small-2/train/poutine/3623570.jpg  \n",
            "  inflating: food-101-small-2/train/poutine/1818584.jpg  \n",
            "  inflating: food-101-small-2/train/poutine/3728169.jpg  \n",
            "  inflating: food-101-small-2/train/poutine/345798.jpg  \n",
            "  inflating: food-101-small-2/train/poutine/1955447.jpg  \n",
            "  inflating: food-101-small-2/train/poutine/3831828.jpg  \n",
            "  inflating: food-101-small-2/train/poutine/1051467.jpg  \n",
            "  inflating: food-101-small-2/train/poutine/3730916.jpg  \n",
            "  inflating: food-101-small-2/train/poutine/3385173.jpg  \n",
            "  inflating: food-101-small-2/train/poutine/2420697.jpg  \n",
            "  inflating: food-101-small-2/train/poutine/359382.jpg  \n",
            "  inflating: food-101-small-2/train/poutine/968771.jpg  \n",
            "  inflating: food-101-small-2/train/poutine/1197602.jpg  \n",
            "  inflating: food-101-small-2/train/poutine/1698959.jpg  \n",
            "  inflating: food-101-small-2/train/poutine/3388134.jpg  \n",
            "  inflating: food-101-small-2/train/poutine/1213974.jpg  \n",
            "  inflating: food-101-small-2/train/poutine/3093793.jpg  \n",
            "  inflating: food-101-small-2/train/poutine/638348.jpg  \n",
            "  inflating: food-101-small-2/train/poutine/3571481.jpg  \n",
            "  inflating: food-101-small-2/train/poutine/229517.jpg  \n",
            "  inflating: food-101-small-2/train/poutine/1859075.jpg  \n",
            "  inflating: food-101-small-2/train/poutine/1714430.jpg  \n",
            "  inflating: food-101-small-2/train/poutine/1807797.jpg  \n",
            "  inflating: food-101-small-2/train/poutine/3411885.jpg  \n",
            "  inflating: food-101-small-2/train/poutine/926319.jpg  \n",
            "  inflating: food-101-small-2/train/poutine/1412471.jpg  \n",
            "  inflating: food-101-small-2/train/poutine/263719.jpg  \n",
            "  inflating: food-101-small-2/train/poutine/2757820.jpg  \n",
            "  inflating: food-101-small-2/train/poutine/300532.jpg  \n",
            "  inflating: food-101-small-2/train/poutine/3366075.jpg  \n",
            "  inflating: food-101-small-2/train/poutine/2657558.jpg  \n",
            "  inflating: food-101-small-2/train/poutine/2954276.jpg  \n",
            "  inflating: food-101-small-2/train/poutine/154691.jpg  \n",
            "  inflating: food-101-small-2/train/poutine/723537.jpg  \n",
            "  inflating: food-101-small-2/train/poutine/1992603.jpg  \n",
            "  inflating: food-101-small-2/train/poutine/822769.jpg  \n",
            "  inflating: food-101-small-2/train/ravioli/921330.jpg  \n",
            "  inflating: food-101-small-2/train/ravioli/1580047.jpg  \n",
            "  inflating: food-101-small-2/train/ravioli/566960.jpg  \n",
            "  inflating: food-101-small-2/train/ravioli/554091.jpg  \n",
            "  inflating: food-101-small-2/train/ravioli/2019706.jpg  \n",
            "  inflating: food-101-small-2/train/ravioli/3222548.jpg  \n",
            "  inflating: food-101-small-2/train/ravioli/1441422.jpg  \n",
            "  inflating: food-101-small-2/train/ravioli/531750.jpg  \n",
            "  inflating: food-101-small-2/train/ravioli/845868.jpg  \n",
            "  inflating: food-101-small-2/train/ravioli/1580653.jpg  \n",
            "  inflating: food-101-small-2/train/ravioli/3618181.jpg  \n",
            "  inflating: food-101-small-2/train/ravioli/492402.jpg  \n",
            "  inflating: food-101-small-2/train/ravioli/1113634.jpg  \n",
            "  inflating: food-101-small-2/train/ravioli/278783.jpg  \n",
            "  inflating: food-101-small-2/train/ravioli/1019632.jpg  \n",
            "  inflating: food-101-small-2/train/ravioli/1488280.jpg  \n",
            "  inflating: food-101-small-2/train/ravioli/1444890.jpg  \n",
            "  inflating: food-101-small-2/train/ravioli/2074992.jpg  \n",
            "  inflating: food-101-small-2/train/ravioli/3737885.jpg  \n",
            "  inflating: food-101-small-2/train/ravioli/3746517.jpg  \n",
            "  inflating: food-101-small-2/train/ravioli/1164962.jpg  \n",
            "  inflating: food-101-small-2/train/ravioli/245978.jpg  \n",
            "  inflating: food-101-small-2/train/ravioli/642953.jpg  \n",
            "  inflating: food-101-small-2/train/ravioli/2777796.jpg  \n",
            "  inflating: food-101-small-2/train/ravioli/1584916.jpg  \n",
            "  inflating: food-101-small-2/train/ravioli/696508.jpg  \n",
            "  inflating: food-101-small-2/train/ravioli/2917683.jpg  \n",
            "  inflating: food-101-small-2/train/ravioli/1485416.jpg  \n",
            "  inflating: food-101-small-2/train/ravioli/105448.jpg  \n",
            "  inflating: food-101-small-2/train/ravioli/41097.jpg  \n",
            "  inflating: food-101-small-2/train/ravioli/158404.jpg  \n",
            "  inflating: food-101-small-2/train/ravioli/2920831.jpg  \n",
            "  inflating: food-101-small-2/train/ravioli/3361169.jpg  \n",
            "  inflating: food-101-small-2/train/ravioli/514966.jpg  \n",
            "  inflating: food-101-small-2/train/ravioli/822875.jpg  \n",
            "  inflating: food-101-small-2/train/ravioli/2305498.jpg  \n",
            "  inflating: food-101-small-2/train/ravioli/2110950.jpg  \n",
            "  inflating: food-101-small-2/train/ravioli/1042560.jpg  \n",
            "  inflating: food-101-small-2/train/ravioli/1521230.jpg  \n",
            "  inflating: food-101-small-2/train/ravioli/1071545.jpg  \n",
            "  inflating: food-101-small-2/train/ravioli/2683033.jpg  \n",
            "  inflating: food-101-small-2/train/ravioli/1795471.jpg  \n",
            "  inflating: food-101-small-2/train/ravioli/662687.jpg  \n",
            "  inflating: food-101-small-2/train/ravioli/2202134.jpg  \n",
            "  inflating: food-101-small-2/train/ravioli/552676.jpg  \n",
            "  inflating: food-101-small-2/train/ravioli/166283.jpg  \n",
            "  inflating: food-101-small-2/train/ravioli/2498686.jpg  \n",
            "  inflating: food-101-small-2/train/ravioli/1161553.jpg  \n",
            "  inflating: food-101-small-2/train/ravioli/2091092.jpg  \n",
            "  inflating: food-101-small-2/train/ravioli/3273783.jpg  \n",
            "  inflating: food-101-small-2/train/ravioli/3787756.jpg  \n",
            "  inflating: food-101-small-2/train/ravioli/2176409.jpg  \n",
            "  inflating: food-101-small-2/train/ravioli/2621093.jpg  \n",
            "  inflating: food-101-small-2/train/ravioli/1079097.jpg  \n",
            "  inflating: food-101-small-2/train/ravioli/40168.jpg  \n",
            "  inflating: food-101-small-2/train/ravioli/1632269.jpg  \n",
            "  inflating: food-101-small-2/train/ravioli/1100644.jpg  \n",
            "  inflating: food-101-small-2/train/ravioli/2501200.jpg  \n",
            "  inflating: food-101-small-2/train/ravioli/1242156.jpg  \n",
            "  inflating: food-101-small-2/train/ravioli/2421067.jpg  \n",
            "  inflating: food-101-small-2/train/ravioli/3145403.jpg  \n",
            "  inflating: food-101-small-2/train/ravioli/3839994.jpg  \n",
            "  inflating: food-101-small-2/train/ravioli/1650559.jpg  \n",
            "  inflating: food-101-small-2/train/ravioli/2688476.jpg  \n",
            "  inflating: food-101-small-2/train/ravioli/703034.jpg  \n",
            "  inflating: food-101-small-2/train/ravioli/2812587.jpg  \n",
            "  inflating: food-101-small-2/train/ravioli/1121263.jpg  \n",
            "  inflating: food-101-small-2/train/ravioli/3903172.jpg  \n",
            "  inflating: food-101-small-2/train/ravioli/194932.jpg  \n",
            "  inflating: food-101-small-2/train/ravioli/2807003.jpg  \n",
            "  inflating: food-101-small-2/train/ravioli/612305.jpg  \n",
            "  inflating: food-101-small-2/train/ravioli/3867233.jpg  \n",
            "  inflating: food-101-small-2/train/ravioli/841185.jpg  \n",
            "  inflating: food-101-small-2/train/ravioli/1058210.jpg  \n",
            "  inflating: food-101-small-2/train/ravioli/342673.jpg  \n",
            "  inflating: food-101-small-2/train/lobster_bisque/641631.jpg  \n",
            "  inflating: food-101-small-2/train/lobster_bisque/1793914.jpg  \n",
            "  inflating: food-101-small-2/train/lobster_bisque/3140029.jpg  \n",
            "  inflating: food-101-small-2/train/lobster_bisque/3051681.jpg  \n",
            "  inflating: food-101-small-2/train/lobster_bisque/3775380.jpg  \n",
            "  inflating: food-101-small-2/train/lobster_bisque/1796306.jpg  \n",
            "  inflating: food-101-small-2/train/lobster_bisque/2718910.jpg  \n",
            "  inflating: food-101-small-2/train/lobster_bisque/129058.jpg  \n",
            "  inflating: food-101-small-2/train/lobster_bisque/2354279.jpg  \n",
            "  inflating: food-101-small-2/train/lobster_bisque/830001.jpg  \n",
            "  inflating: food-101-small-2/train/lobster_bisque/1730475.jpg  \n",
            "  inflating: food-101-small-2/train/lobster_bisque/2197506.jpg  \n",
            "  inflating: food-101-small-2/train/lobster_bisque/3592771.jpg  \n",
            "  inflating: food-101-small-2/train/lobster_bisque/3080419.jpg  \n",
            "  inflating: food-101-small-2/train/lobster_bisque/1596187.jpg  \n",
            "  inflating: food-101-small-2/train/lobster_bisque/287108.jpg  \n",
            "  inflating: food-101-small-2/train/lobster_bisque/1457490.jpg  \n",
            "  inflating: food-101-small-2/train/lobster_bisque/3366864.jpg  \n",
            "  inflating: food-101-small-2/train/lobster_bisque/3416128.jpg  \n",
            "  inflating: food-101-small-2/train/lobster_bisque/2051817.jpg  \n",
            "  inflating: food-101-small-2/train/lobster_bisque/2654329.jpg  \n",
            "  inflating: food-101-small-2/train/lobster_bisque/3720958.jpg  \n",
            "  inflating: food-101-small-2/train/lobster_bisque/498362.jpg  \n",
            "  inflating: food-101-small-2/train/lobster_bisque/2184888.jpg  \n",
            "  inflating: food-101-small-2/train/lobster_bisque/3147095.jpg  \n",
            "  inflating: food-101-small-2/train/lobster_bisque/3460622.jpg  \n",
            "  inflating: food-101-small-2/train/lobster_bisque/1784761.jpg  \n",
            "  inflating: food-101-small-2/train/lobster_bisque/1236440.jpg  \n",
            "  inflating: food-101-small-2/train/lobster_bisque/1095409.jpg  \n",
            "  inflating: food-101-small-2/train/lobster_bisque/3132420.jpg  \n",
            "  inflating: food-101-small-2/train/lobster_bisque/731573.jpg  \n",
            "  inflating: food-101-small-2/train/lobster_bisque/1224865.jpg  \n",
            "  inflating: food-101-small-2/train/lobster_bisque/295745.jpg  \n",
            "  inflating: food-101-small-2/train/lobster_bisque/3726384.jpg  \n",
            "  inflating: food-101-small-2/train/lobster_bisque/1935600.jpg  \n",
            "  inflating: food-101-small-2/train/lobster_bisque/1217850.jpg  \n",
            "  inflating: food-101-small-2/train/lobster_bisque/3582266.jpg  \n",
            "  inflating: food-101-small-2/train/lobster_bisque/3467001.jpg  \n",
            "  inflating: food-101-small-2/train/lobster_bisque/106801.jpg  \n",
            "  inflating: food-101-small-2/train/lobster_bisque/3827132.jpg  \n",
            "  inflating: food-101-small-2/train/lobster_bisque/1172071.jpg  \n",
            "  inflating: food-101-small-2/train/lobster_bisque/19541.jpg  \n",
            "  inflating: food-101-small-2/train/lobster_bisque/2293438.jpg  \n",
            "  inflating: food-101-small-2/train/lobster_bisque/3430975.jpg  \n",
            "  inflating: food-101-small-2/train/lobster_bisque/3604315.jpg  \n",
            "  inflating: food-101-small-2/train/lobster_bisque/588421.jpg  \n",
            "  inflating: food-101-small-2/train/lobster_bisque/604648.jpg  \n",
            "  inflating: food-101-small-2/train/lobster_bisque/680945.jpg  \n",
            "  inflating: food-101-small-2/train/lobster_bisque/3776756.jpg  \n",
            "  inflating: food-101-small-2/train/lobster_bisque/2945693.jpg  \n",
            "  inflating: food-101-small-2/train/lobster_bisque/73639.jpg  \n",
            "  inflating: food-101-small-2/train/lobster_bisque/748876.jpg  \n",
            "  inflating: food-101-small-2/train/lobster_bisque/3371591.jpg  \n",
            "  inflating: food-101-small-2/train/lobster_bisque/3354880.jpg  \n",
            "  inflating: food-101-small-2/train/lobster_bisque/751868.jpg  \n",
            "  inflating: food-101-small-2/train/lobster_bisque/2585945.jpg  \n",
            "  inflating: food-101-small-2/train/lobster_bisque/2866110.jpg  \n",
            "  inflating: food-101-small-2/train/lobster_bisque/1914066.jpg  \n",
            "  inflating: food-101-small-2/train/lobster_bisque/516121.jpg  \n",
            "  inflating: food-101-small-2/train/lobster_bisque/2290595.jpg  \n",
            "  inflating: food-101-small-2/train/lobster_bisque/2131491.jpg  \n",
            "  inflating: food-101-small-2/train/lobster_bisque/1193762.jpg  \n",
            "  inflating: food-101-small-2/train/lobster_bisque/2486409.jpg  \n",
            "  inflating: food-101-small-2/train/lobster_bisque/2744478.jpg  \n",
            "  inflating: food-101-small-2/train/lobster_bisque/2911869.jpg  \n",
            "  inflating: food-101-small-2/train/lobster_bisque/1675518.jpg  \n",
            "  inflating: food-101-small-2/train/lobster_bisque/2399818.jpg  \n",
            "  inflating: food-101-small-2/train/lobster_bisque/3474175.jpg  \n",
            "  inflating: food-101-small-2/train/lobster_bisque/3273333.jpg  \n",
            "  inflating: food-101-small-2/train/lobster_bisque/1851715.jpg  \n",
            "  inflating: food-101-small-2/train/lobster_bisque/1296301.jpg  \n",
            "  inflating: food-101-small-2/train/lobster_bisque/570935.jpg  \n",
            "  inflating: food-101-small-2/train/lobster_bisque/2366818.jpg  \n",
            "  inflating: food-101-small-2/train/lobster_bisque/2735244.jpg  \n",
            "  inflating: food-101-small-2/train/lobster_bisque/1151368.jpg  \n",
            "  inflating: food-101-small-2/train/beet_salad/2303691.jpg  \n",
            "  inflating: food-101-small-2/train/beet_salad/2012446.jpg  \n",
            "  inflating: food-101-small-2/train/beet_salad/627359.jpg  \n",
            "  inflating: food-101-small-2/train/beet_salad/1700166.jpg  \n",
            "  inflating: food-101-small-2/train/beet_salad/222438.jpg  \n",
            "  inflating: food-101-small-2/train/beet_salad/3769634.jpg  \n",
            "  inflating: food-101-small-2/train/beet_salad/1412650.jpg  \n",
            "  inflating: food-101-small-2/train/beet_salad/1464507.jpg  \n",
            "  inflating: food-101-small-2/train/beet_salad/3277203.jpg  \n",
            "  inflating: food-101-small-2/train/beet_salad/1872677.jpg  \n",
            "  inflating: food-101-small-2/train/beet_salad/926303.jpg  \n",
            "  inflating: food-101-small-2/train/beet_salad/2592698.jpg  \n",
            "  inflating: food-101-small-2/train/beet_salad/3611628.jpg  \n",
            "  inflating: food-101-small-2/train/beet_salad/2126479.jpg  \n",
            "  inflating: food-101-small-2/train/beet_salad/1352411.jpg  \n",
            "  inflating: food-101-small-2/train/beet_salad/2696436.jpg  \n",
            "  inflating: food-101-small-2/train/beet_salad/2688754.jpg  \n",
            "  inflating: food-101-small-2/train/beet_salad/3268018.jpg  \n",
            "  inflating: food-101-small-2/train/beet_salad/3839269.jpg  \n",
            "  inflating: food-101-small-2/train/beet_salad/3238028.jpg  \n",
            "  inflating: food-101-small-2/train/beet_salad/3081039.jpg  \n",
            "  inflating: food-101-small-2/train/beet_salad/3448153.jpg  \n",
            "  inflating: food-101-small-2/train/beet_salad/636787.jpg  \n",
            "  inflating: food-101-small-2/train/beet_salad/1867624.jpg  \n",
            "  inflating: food-101-small-2/train/beet_salad/312439.jpg  \n",
            "  inflating: food-101-small-2/train/beet_salad/3568296.jpg  \n",
            "  inflating: food-101-small-2/train/beet_salad/1044286.jpg  \n",
            "  inflating: food-101-small-2/train/beet_salad/567171.jpg  \n",
            "  inflating: food-101-small-2/train/beet_salad/1738310.jpg  \n",
            "  inflating: food-101-small-2/train/beet_salad/2902714.jpg  \n",
            "  inflating: food-101-small-2/train/beet_salad/3147642.jpg  \n",
            "  inflating: food-101-small-2/train/beet_salad/3051591.jpg  \n",
            "  inflating: food-101-small-2/train/beet_salad/423297.jpg  \n",
            "  inflating: food-101-small-2/train/beet_salad/3147052.jpg  \n",
            "  inflating: food-101-small-2/train/beet_salad/1171818.jpg  \n",
            "  inflating: food-101-small-2/train/beet_salad/720451.jpg  \n",
            "  inflating: food-101-small-2/train/beet_salad/3799206.jpg  \n",
            "  inflating: food-101-small-2/train/beet_salad/2468215.jpg  \n",
            "  inflating: food-101-small-2/train/beet_salad/2950897.jpg  \n",
            "  inflating: food-101-small-2/train/beet_salad/3013547.jpg  \n",
            "  inflating: food-101-small-2/train/beet_salad/3874017.jpg  \n",
            "  inflating: food-101-small-2/train/beet_salad/384450.jpg  \n",
            "  inflating: food-101-small-2/train/beet_salad/1683173.jpg  \n",
            "  inflating: food-101-small-2/train/beet_salad/1376279.jpg  \n",
            "  inflating: food-101-small-2/train/beet_salad/464918.jpg  \n",
            "  inflating: food-101-small-2/train/beet_salad/185285.jpg  \n",
            "  inflating: food-101-small-2/train/beet_salad/811311.jpg  \n",
            "  inflating: food-101-small-2/train/beet_salad/1291432.jpg  \n",
            "  inflating: food-101-small-2/train/beet_salad/1296407.jpg  \n",
            "  inflating: food-101-small-2/train/beet_salad/1781213.jpg  \n",
            "  inflating: food-101-small-2/train/beet_salad/760718.jpg  \n",
            "  inflating: food-101-small-2/train/beet_salad/2855446.jpg  \n",
            "  inflating: food-101-small-2/train/beet_salad/908686.jpg  \n",
            "  inflating: food-101-small-2/train/beet_salad/2092567.jpg  \n",
            "  inflating: food-101-small-2/train/beet_salad/3530623.jpg  \n",
            "  inflating: food-101-small-2/train/beet_salad/2932452.jpg  \n",
            "  inflating: food-101-small-2/train/beet_salad/2106413.jpg  \n",
            "  inflating: food-101-small-2/train/beet_salad/561790.jpg  \n",
            "  inflating: food-101-small-2/train/beet_salad/1187701.jpg  \n",
            "  inflating: food-101-small-2/train/beet_salad/3426780.jpg  \n",
            "  inflating: food-101-small-2/train/beet_salad/2377046.jpg  \n",
            "  inflating: food-101-small-2/train/beet_salad/1629676.jpg  \n",
            "  inflating: food-101-small-2/train/beet_salad/3553733.jpg  \n",
            "  inflating: food-101-small-2/train/beet_salad/420297.jpg  \n",
            "  inflating: food-101-small-2/train/beet_salad/1352432.jpg  \n",
            "  inflating: food-101-small-2/train/beet_salad/747449.jpg  \n",
            "  inflating: food-101-small-2/train/beet_salad/2199309.jpg  \n",
            "  inflating: food-101-small-2/train/beet_salad/1508566.jpg  \n",
            "  inflating: food-101-small-2/train/beet_salad/1987153.jpg  \n",
            "  inflating: food-101-small-2/train/beet_salad/3716414.jpg  \n",
            "  inflating: food-101-small-2/train/beet_salad/1265464.jpg  \n",
            "  inflating: food-101-small-2/train/beet_salad/1123489.jpg  \n",
            "  inflating: food-101-small-2/train/beet_salad/2283249.jpg  \n",
            "  inflating: food-101-small-2/train/beet_salad/2624215.jpg  \n",
            "  inflating: food-101-small-2/train/beet_salad/655107.jpg  \n",
            "  inflating: food-101-small-2/train/hot_and_sour_soup/1608936.jpg  \n",
            "  inflating: food-101-small-2/train/hot_and_sour_soup/3244591.jpg  \n",
            "  inflating: food-101-small-2/train/hot_and_sour_soup/1659826.jpg  \n",
            "  inflating: food-101-small-2/train/hot_and_sour_soup/1127147.jpg  \n",
            "  inflating: food-101-small-2/train/hot_and_sour_soup/3086721.jpg  \n",
            "  inflating: food-101-small-2/train/hot_and_sour_soup/226648.jpg  \n",
            "  inflating: food-101-small-2/train/hot_and_sour_soup/2060366.jpg  \n",
            "  inflating: food-101-small-2/train/hot_and_sour_soup/3204149.jpg  \n",
            "  inflating: food-101-small-2/train/hot_and_sour_soup/274720.jpg  \n",
            "  inflating: food-101-small-2/train/hot_and_sour_soup/723459.jpg  \n",
            "  inflating: food-101-small-2/train/hot_and_sour_soup/387487.jpg  \n",
            "  inflating: food-101-small-2/train/hot_and_sour_soup/2922277.jpg  \n",
            "  inflating: food-101-small-2/train/hot_and_sour_soup/1149539.jpg  \n",
            "  inflating: food-101-small-2/train/hot_and_sour_soup/282675.jpg  \n",
            "  inflating: food-101-small-2/train/hot_and_sour_soup/2089930.jpg  \n",
            "  inflating: food-101-small-2/train/hot_and_sour_soup/3436908.jpg  \n",
            "  inflating: food-101-small-2/train/hot_and_sour_soup/528674.jpg  \n",
            "  inflating: food-101-small-2/train/hot_and_sour_soup/3108998.jpg  \n",
            "  inflating: food-101-small-2/train/hot_and_sour_soup/583805.jpg  \n",
            "  inflating: food-101-small-2/train/hot_and_sour_soup/256457.jpg  \n",
            "  inflating: food-101-small-2/train/hot_and_sour_soup/676957.jpg  \n",
            "  inflating: food-101-small-2/train/hot_and_sour_soup/554192.jpg  \n",
            "  inflating: food-101-small-2/train/hot_and_sour_soup/2568395.jpg  \n",
            "  inflating: food-101-small-2/train/hot_and_sour_soup/2760407.jpg  \n",
            "  inflating: food-101-small-2/train/hot_and_sour_soup/601089.jpg  \n",
            "  inflating: food-101-small-2/train/hot_and_sour_soup/373565.jpg  \n",
            "  inflating: food-101-small-2/train/hot_and_sour_soup/3452669.jpg  \n",
            "  inflating: food-101-small-2/train/hot_and_sour_soup/2500428.jpg  \n",
            "  inflating: food-101-small-2/train/hot_and_sour_soup/3103799.jpg  \n",
            "  inflating: food-101-small-2/train/hot_and_sour_soup/1174008.jpg  \n",
            "  inflating: food-101-small-2/train/hot_and_sour_soup/879101.jpg  \n",
            "  inflating: food-101-small-2/train/hot_and_sour_soup/80543.jpg  \n",
            "  inflating: food-101-small-2/train/hot_and_sour_soup/1202090.jpg  \n",
            "  inflating: food-101-small-2/train/hot_and_sour_soup/2840109.jpg  \n",
            "  inflating: food-101-small-2/train/hot_and_sour_soup/2657713.jpg  \n",
            "  inflating: food-101-small-2/train/hot_and_sour_soup/863961.jpg  \n",
            "  inflating: food-101-small-2/train/hot_and_sour_soup/1322761.jpg  \n",
            "  inflating: food-101-small-2/train/hot_and_sour_soup/146596.jpg  \n",
            "  inflating: food-101-small-2/train/hot_and_sour_soup/3428336.jpg  \n",
            "  inflating: food-101-small-2/train/hot_and_sour_soup/2801575.jpg  \n",
            "  inflating: food-101-small-2/train/hot_and_sour_soup/882426.jpg  \n",
            "  inflating: food-101-small-2/train/hot_and_sour_soup/1734530.jpg  \n",
            "  inflating: food-101-small-2/train/hot_and_sour_soup/2994195.jpg  \n",
            "  inflating: food-101-small-2/train/hot_and_sour_soup/1764850.jpg  \n",
            "  inflating: food-101-small-2/train/hot_and_sour_soup/3197297.jpg  \n",
            "  inflating: food-101-small-2/train/hot_and_sour_soup/1211430.jpg  \n",
            "  inflating: food-101-small-2/train/hot_and_sour_soup/2169881.jpg  \n",
            "  inflating: food-101-small-2/train/hot_and_sour_soup/1362031.jpg  \n",
            "  inflating: food-101-small-2/train/hot_and_sour_soup/1617113.jpg  \n",
            "  inflating: food-101-small-2/train/hot_and_sour_soup/3216709.jpg  \n",
            "  inflating: food-101-small-2/train/hot_and_sour_soup/1501327.jpg  \n",
            "  inflating: food-101-small-2/train/hot_and_sour_soup/3723021.jpg  \n",
            "  inflating: food-101-small-2/train/hot_and_sour_soup/1256622.jpg  \n",
            "  inflating: food-101-small-2/train/hot_and_sour_soup/1617500.jpg  \n",
            "  inflating: food-101-small-2/train/hot_and_sour_soup/1343832.jpg  \n",
            "  inflating: food-101-small-2/train/hot_and_sour_soup/2415615.jpg  \n",
            "  inflating: food-101-small-2/train/hot_and_sour_soup/3619369.jpg  \n",
            "  inflating: food-101-small-2/train/hot_and_sour_soup/2935548.jpg  \n",
            "  inflating: food-101-small-2/train/hot_and_sour_soup/1501720.jpg  \n",
            "  inflating: food-101-small-2/train/hot_and_sour_soup/3100613.jpg  \n",
            "  inflating: food-101-small-2/train/hot_and_sour_soup/155359.jpg  \n",
            "  inflating: food-101-small-2/train/hot_and_sour_soup/1084544.jpg  \n",
            "  inflating: food-101-small-2/train/hot_and_sour_soup/111719.jpg  \n",
            "  inflating: food-101-small-2/train/hot_and_sour_soup/2946517.jpg  \n",
            "  inflating: food-101-small-2/train/hot_and_sour_soup/3042556.jpg  \n",
            "  inflating: food-101-small-2/train/hot_and_sour_soup/3660023.jpg  \n",
            "  inflating: food-101-small-2/train/hot_and_sour_soup/3286625.jpg  \n",
            "  inflating: food-101-small-2/train/hot_and_sour_soup/1600569.jpg  \n",
            "  inflating: food-101-small-2/train/hot_and_sour_soup/836337.jpg  \n",
            "  inflating: food-101-small-2/train/hot_and_sour_soup/2555526.jpg  \n",
            "  inflating: food-101-small-2/train/hot_and_sour_soup/1827082.jpg  \n",
            "  inflating: food-101-small-2/train/hot_and_sour_soup/2944868.jpg  \n",
            "  inflating: food-101-small-2/train/hot_and_sour_soup/449812.jpg  \n",
            "  inflating: food-101-small-2/train/hot_and_sour_soup/1375676.jpg  \n",
            "  inflating: food-101-small-2/train/hot_and_sour_soup/1367312.jpg  \n",
            "  inflating: food-101-small-2/train/sashimi/1070787.jpg  \n",
            "  inflating: food-101-small-2/train/sashimi/71495.jpg  \n",
            "  inflating: food-101-small-2/train/sashimi/3487018.jpg  \n",
            "  inflating: food-101-small-2/train/sashimi/945847.jpg  \n",
            "  inflating: food-101-small-2/train/sashimi/328706.jpg  \n",
            "  inflating: food-101-small-2/train/sashimi/2078107.jpg  \n",
            "  inflating: food-101-small-2/train/sashimi/487181.jpg  \n",
            "  inflating: food-101-small-2/train/sashimi/2969299.jpg  \n",
            "  inflating: food-101-small-2/train/sashimi/397068.jpg  \n",
            "  inflating: food-101-small-2/train/sashimi/1183624.jpg  \n",
            "  inflating: food-101-small-2/train/sashimi/3564342.jpg  \n",
            "  inflating: food-101-small-2/train/sashimi/2284277.jpg  \n",
            "  inflating: food-101-small-2/train/sashimi/1007253.jpg  \n",
            "  inflating: food-101-small-2/train/sashimi/153322.jpg  \n",
            "  inflating: food-101-small-2/train/sashimi/2199248.jpg  \n",
            "  inflating: food-101-small-2/train/sashimi/3497187.jpg  \n",
            "  inflating: food-101-small-2/train/sashimi/208014.jpg  \n",
            "  inflating: food-101-small-2/train/sashimi/3656158.jpg  \n",
            "  inflating: food-101-small-2/train/sashimi/749651.jpg  \n",
            "  inflating: food-101-small-2/train/sashimi/981801.jpg  \n",
            "  inflating: food-101-small-2/train/sashimi/2705211.jpg  \n",
            "  inflating: food-101-small-2/train/sashimi/1731865.jpg  \n",
            "  inflating: food-101-small-2/train/sashimi/2114915.jpg  \n",
            "  inflating: food-101-small-2/train/sashimi/1050391.jpg  \n",
            "  inflating: food-101-small-2/train/sashimi/3726368.jpg  \n",
            "  inflating: food-101-small-2/train/sashimi/3361149.jpg  \n",
            "  inflating: food-101-small-2/train/sashimi/3132026.jpg  \n",
            "  inflating: food-101-small-2/train/sashimi/1178795.jpg  \n",
            "  inflating: food-101-small-2/train/sashimi/3040467.jpg  \n",
            "  inflating: food-101-small-2/train/sashimi/1150966.jpg  \n",
            "  inflating: food-101-small-2/train/sashimi/2967985.jpg  \n",
            "  inflating: food-101-small-2/train/sashimi/3364340.jpg  \n",
            "  inflating: food-101-small-2/train/sashimi/2031990.jpg  \n",
            "  inflating: food-101-small-2/train/sashimi/1045566.jpg  \n",
            "  inflating: food-101-small-2/train/sashimi/2334273.jpg  \n",
            "  inflating: food-101-small-2/train/sashimi/1465290.jpg  \n",
            "  inflating: food-101-small-2/train/sashimi/114631.jpg  \n",
            "  inflating: food-101-small-2/train/sashimi/142065.jpg  \n",
            "  inflating: food-101-small-2/train/sashimi/3837876.jpg  \n",
            "  inflating: food-101-small-2/train/sashimi/548609.jpg  \n",
            "  inflating: food-101-small-2/train/sashimi/303862.jpg  \n",
            "  inflating: food-101-small-2/train/sashimi/381849.jpg  \n",
            "  inflating: food-101-small-2/train/sashimi/1916174.jpg  \n",
            "  inflating: food-101-small-2/train/sashimi/1128814.jpg  \n",
            "  inflating: food-101-small-2/train/sashimi/1214576.jpg  \n",
            "  inflating: food-101-small-2/train/sashimi/321012.jpg  \n",
            "  inflating: food-101-small-2/train/sashimi/3721022.jpg  \n",
            "  inflating: food-101-small-2/train/sashimi/272688.jpg  \n",
            "  inflating: food-101-small-2/train/sashimi/1593443.jpg  \n",
            "  inflating: food-101-small-2/train/sashimi/3541180.jpg  \n",
            "  inflating: food-101-small-2/train/sashimi/3067978.jpg  \n",
            "  inflating: food-101-small-2/train/sashimi/2702847.jpg  \n",
            "  inflating: food-101-small-2/train/sashimi/2624513.jpg  \n",
            "  inflating: food-101-small-2/train/sashimi/443554.jpg  \n",
            "  inflating: food-101-small-2/train/sashimi/1779434.jpg  \n",
            "  inflating: food-101-small-2/train/sashimi/444167.jpg  \n",
            "  inflating: food-101-small-2/train/sashimi/1696793.jpg  \n",
            "  inflating: food-101-small-2/train/sashimi/228796.jpg  \n",
            "  inflating: food-101-small-2/train/sashimi/2727408.jpg  \n",
            "  inflating: food-101-small-2/train/sashimi/1532602.jpg  \n",
            "  inflating: food-101-small-2/train/sashimi/114476.jpg  \n",
            "  inflating: food-101-small-2/train/sashimi/3037257.jpg  \n",
            "  inflating: food-101-small-2/train/sashimi/3024968.jpg  \n",
            "  inflating: food-101-small-2/train/sashimi/146870.jpg  \n",
            "  inflating: food-101-small-2/train/sashimi/171560.jpg  \n",
            "  inflating: food-101-small-2/train/sashimi/134388.jpg  \n",
            "  inflating: food-101-small-2/train/sashimi/881017.jpg  \n",
            "  inflating: food-101-small-2/train/sashimi/2153561.jpg  \n",
            "  inflating: food-101-small-2/train/sashimi/3339788.jpg  \n",
            "  inflating: food-101-small-2/train/sashimi/162646.jpg  \n",
            "  inflating: food-101-small-2/train/sashimi/2160425.jpg  \n",
            "  inflating: food-101-small-2/train/sashimi/8151.jpg  \n",
            "  inflating: food-101-small-2/train/sashimi/339613.jpg  \n",
            "  inflating: food-101-small-2/train/sashimi/1783303.jpg  \n",
            "  inflating: food-101-small-2/train/sashimi/3628510.jpg  \n",
            "  inflating: food-101-small-2/train/macarons/1736833.jpg  \n",
            "  inflating: food-101-small-2/train/macarons/3810128.jpg  \n",
            "  inflating: food-101-small-2/train/macarons/335390.jpg  \n",
            "  inflating: food-101-small-2/train/macarons/69580.jpg  \n",
            "  inflating: food-101-small-2/train/macarons/1853278.jpg  \n",
            "  inflating: food-101-small-2/train/macarons/2626208.jpg  \n",
            "  inflating: food-101-small-2/train/macarons/3305533.jpg  \n",
            "  inflating: food-101-small-2/train/macarons/1962503.jpg  \n",
            "  inflating: food-101-small-2/train/macarons/3411457.jpg  \n",
            "  inflating: food-101-small-2/train/macarons/2221369.jpg  \n",
            "  inflating: food-101-small-2/train/macarons/3052610.jpg  \n",
            "  inflating: food-101-small-2/train/macarons/2281096.jpg  \n",
            "  inflating: food-101-small-2/train/macarons/514846.jpg  \n",
            "  inflating: food-101-small-2/train/macarons/354793.jpg  \n",
            "  inflating: food-101-small-2/train/macarons/3472875.jpg  \n",
            "  inflating: food-101-small-2/train/macarons/955267.jpg  \n",
            "  inflating: food-101-small-2/train/macarons/841158.jpg  \n",
            "  inflating: food-101-small-2/train/macarons/2664565.jpg  \n",
            "  inflating: food-101-small-2/train/macarons/3166758.jpg  \n",
            "  inflating: food-101-small-2/train/macarons/3277996.jpg  \n",
            "  inflating: food-101-small-2/train/macarons/3015011.jpg  \n",
            "  inflating: food-101-small-2/train/macarons/2387621.jpg  \n",
            "  inflating: food-101-small-2/train/macarons/2323430.jpg  \n",
            "  inflating: food-101-small-2/train/macarons/962973.jpg  \n",
            "  inflating: food-101-small-2/train/macarons/2934402.jpg  \n",
            "  inflating: food-101-small-2/train/macarons/2508000.jpg  \n",
            "  inflating: food-101-small-2/train/macarons/3102168.jpg  \n",
            "  inflating: food-101-small-2/train/macarons/1898546.jpg  \n",
            "  inflating: food-101-small-2/train/macarons/1783184.jpg  \n",
            "  inflating: food-101-small-2/train/macarons/898107.jpg  \n",
            "  inflating: food-101-small-2/train/macarons/2185957.jpg  \n",
            "  inflating: food-101-small-2/train/macarons/987541.jpg  \n",
            "  inflating: food-101-small-2/train/macarons/674946.jpg  \n",
            "  inflating: food-101-small-2/train/macarons/2364051.jpg  \n",
            "  inflating: food-101-small-2/train/macarons/149651.jpg  \n",
            "  inflating: food-101-small-2/train/macarons/1001527.jpg  \n",
            "  inflating: food-101-small-2/train/macarons/3069186.jpg  \n",
            "  inflating: food-101-small-2/train/macarons/1903749.jpg  \n",
            "  inflating: food-101-small-2/train/macarons/2417801.jpg  \n",
            "  inflating: food-101-small-2/train/macarons/2546641.jpg  \n",
            "  inflating: food-101-small-2/train/macarons/2865773.jpg  \n",
            "  inflating: food-101-small-2/train/macarons/1504240.jpg  \n",
            "  inflating: food-101-small-2/train/macarons/2811540.jpg  \n",
            "  inflating: food-101-small-2/train/macarons/1850266.jpg  \n",
            "  inflating: food-101-small-2/train/macarons/813910.jpg  \n",
            "  inflating: food-101-small-2/train/macarons/3151358.jpg  \n",
            "  inflating: food-101-small-2/train/macarons/1342532.jpg  \n",
            "  inflating: food-101-small-2/train/macarons/1453102.jpg  \n",
            "  inflating: food-101-small-2/train/macarons/3761002.jpg  \n",
            "  inflating: food-101-small-2/train/macarons/969242.jpg  \n",
            "  inflating: food-101-small-2/train/macarons/508235.jpg  \n",
            "  inflating: food-101-small-2/train/macarons/397941.jpg  \n",
            "  inflating: food-101-small-2/train/macarons/99949.jpg  \n",
            "  inflating: food-101-small-2/train/macarons/834813.jpg  \n",
            "  inflating: food-101-small-2/train/macarons/1285094.jpg  \n",
            "  inflating: food-101-small-2/train/macarons/355409.jpg  \n",
            "  inflating: food-101-small-2/train/macarons/3062152.jpg  \n",
            "  inflating: food-101-small-2/train/macarons/2976100.jpg  \n",
            "  inflating: food-101-small-2/train/macarons/1748367.jpg  \n",
            "  inflating: food-101-small-2/train/macarons/136947.jpg  \n",
            "  inflating: food-101-small-2/train/macarons/1888688.jpg  \n",
            "  inflating: food-101-small-2/train/macarons/3253580.jpg  \n",
            "  inflating: food-101-small-2/train/macarons/88207.jpg  \n",
            "  inflating: food-101-small-2/train/macarons/3890913.jpg  \n",
            "  inflating: food-101-small-2/train/macarons/3165672.jpg  \n",
            "  inflating: food-101-small-2/train/macarons/619693.jpg  \n",
            "  inflating: food-101-small-2/train/macarons/2455679.jpg  \n",
            "  inflating: food-101-small-2/train/macarons/3285660.jpg  \n",
            "  inflating: food-101-small-2/train/macarons/3831890.jpg  \n",
            "  inflating: food-101-small-2/train/macarons/2902178.jpg  \n",
            "  inflating: food-101-small-2/train/macarons/1095710.jpg  \n",
            "  inflating: food-101-small-2/train/macarons/2098567.jpg  \n",
            "  inflating: food-101-small-2/train/macarons/3317311.jpg  \n",
            "  inflating: food-101-small-2/train/macarons/1759631.jpg  \n",
            "  inflating: food-101-small-2/train/macarons/2421276.jpg  \n",
            "  inflating: food-101-small-2/train/chicken_quesadilla/1860088.jpg  \n",
            "  inflating: food-101-small-2/train/chicken_quesadilla/454253.jpg  \n",
            "  inflating: food-101-small-2/train/chicken_quesadilla/1871768.jpg  \n",
            "  inflating: food-101-small-2/train/chicken_quesadilla/795919.jpg  \n",
            "  inflating: food-101-small-2/train/chicken_quesadilla/1539818.jpg  \n",
            "  inflating: food-101-small-2/train/chicken_quesadilla/114898.jpg  \n",
            "  inflating: food-101-small-2/train/chicken_quesadilla/2309624.jpg  \n",
            "  inflating: food-101-small-2/train/chicken_quesadilla/2386061.jpg  \n",
            "  inflating: food-101-small-2/train/chicken_quesadilla/3066826.jpg  \n",
            "  inflating: food-101-small-2/train/chicken_quesadilla/986775.jpg  \n",
            "  inflating: food-101-small-2/train/chicken_quesadilla/2777445.jpg  \n",
            "  inflating: food-101-small-2/train/chicken_quesadilla/2861172.jpg  \n",
            "  inflating: food-101-small-2/train/chicken_quesadilla/412571.jpg  \n",
            "  inflating: food-101-small-2/train/chicken_quesadilla/2754895.jpg  \n",
            "  inflating: food-101-small-2/train/chicken_quesadilla/1994905.jpg  \n",
            "  inflating: food-101-small-2/train/chicken_quesadilla/2058985.jpg  \n",
            "  inflating: food-101-small-2/train/chicken_quesadilla/1897014.jpg  \n",
            "  inflating: food-101-small-2/train/chicken_quesadilla/3501632.jpg  \n",
            "  inflating: food-101-small-2/train/chicken_quesadilla/1290864.jpg  \n",
            "  inflating: food-101-small-2/train/chicken_quesadilla/455072.jpg  \n",
            "  inflating: food-101-small-2/train/chicken_quesadilla/2191260.jpg  \n",
            "  inflating: food-101-small-2/train/chicken_quesadilla/2530103.jpg  \n",
            "  inflating: food-101-small-2/train/chicken_quesadilla/2690324.jpg  \n",
            "  inflating: food-101-small-2/train/chicken_quesadilla/1595167.jpg  \n",
            "  inflating: food-101-small-2/train/chicken_quesadilla/2522114.jpg  \n",
            "  inflating: food-101-small-2/train/chicken_quesadilla/67296.jpg  \n",
            "  inflating: food-101-small-2/train/chicken_quesadilla/2098695.jpg  \n",
            "  inflating: food-101-small-2/train/chicken_quesadilla/593745.jpg  \n",
            "  inflating: food-101-small-2/train/chicken_quesadilla/1723091.jpg  \n",
            "  inflating: food-101-small-2/train/chicken_quesadilla/3477991.jpg  \n",
            "  inflating: food-101-small-2/train/chicken_quesadilla/2962962.jpg  \n",
            "  inflating: food-101-small-2/train/chicken_quesadilla/2179725.jpg  \n",
            "  inflating: food-101-small-2/train/chicken_quesadilla/1779013.jpg  \n",
            "  inflating: food-101-small-2/train/chicken_quesadilla/2067095.jpg  \n",
            "  inflating: food-101-small-2/train/chicken_quesadilla/926000.jpg  \n",
            "  inflating: food-101-small-2/train/chicken_quesadilla/3641446.jpg  \n",
            "  inflating: food-101-small-2/train/chicken_quesadilla/1127487.jpg  \n",
            "  inflating: food-101-small-2/train/chicken_quesadilla/559466.jpg  \n",
            "  inflating: food-101-small-2/train/chicken_quesadilla/1842312.jpg  \n",
            "  inflating: food-101-small-2/train/chicken_quesadilla/666835.jpg  \n",
            "  inflating: food-101-small-2/train/chicken_quesadilla/1967996.jpg  \n",
            "  inflating: food-101-small-2/train/chicken_quesadilla/1872009.jpg  \n",
            "  inflating: food-101-small-2/train/chicken_quesadilla/1396039.jpg  \n",
            "  inflating: food-101-small-2/train/chicken_quesadilla/1490175.jpg  \n",
            "  inflating: food-101-small-2/train/chicken_quesadilla/1149582.jpg  \n",
            "  inflating: food-101-small-2/train/chicken_quesadilla/3287162.jpg  \n",
            "  inflating: food-101-small-2/train/chicken_quesadilla/1532306.jpg  \n",
            "  inflating: food-101-small-2/train/chicken_quesadilla/230281.jpg  \n",
            "  inflating: food-101-small-2/train/chicken_quesadilla/1723714.jpg  \n",
            "  inflating: food-101-small-2/train/chicken_quesadilla/3293075.jpg  \n",
            "  inflating: food-101-small-2/train/chicken_quesadilla/2338928.jpg  \n",
            "  inflating: food-101-small-2/train/chicken_quesadilla/1310464.jpg  \n",
            "  inflating: food-101-small-2/train/chicken_quesadilla/1387718.jpg  \n",
            "  inflating: food-101-small-2/train/chicken_quesadilla/3453423.jpg  \n",
            "  inflating: food-101-small-2/train/chicken_quesadilla/3379443.jpg  \n",
            "  inflating: food-101-small-2/train/chicken_quesadilla/1855472.jpg  \n",
            "  inflating: food-101-small-2/train/chicken_quesadilla/2073610.jpg  \n",
            "  inflating: food-101-small-2/train/chicken_quesadilla/764804.jpg  \n",
            "  inflating: food-101-small-2/train/chicken_quesadilla/1432116.jpg  \n",
            "  inflating: food-101-small-2/train/chicken_quesadilla/3516800.jpg  \n",
            "  inflating: food-101-small-2/train/chicken_quesadilla/2412556.jpg  \n",
            "  inflating: food-101-small-2/train/chicken_quesadilla/2995834.jpg  \n",
            "  inflating: food-101-small-2/train/chicken_quesadilla/2159467.jpg  \n",
            "  inflating: food-101-small-2/train/chicken_quesadilla/1934016.jpg  \n",
            "  inflating: food-101-small-2/train/chicken_quesadilla/3307477.jpg  \n",
            "  inflating: food-101-small-2/train/chicken_quesadilla/505014.jpg  \n",
            "  inflating: food-101-small-2/train/chicken_quesadilla/221676.jpg  \n",
            "  inflating: food-101-small-2/train/chicken_quesadilla/588871.jpg  \n",
            "  inflating: food-101-small-2/train/chicken_quesadilla/434220.jpg  \n",
            "  inflating: food-101-small-2/train/chicken_quesadilla/3091337.jpg  \n",
            "  inflating: food-101-small-2/train/chicken_quesadilla/1590716.jpg  \n",
            "  inflating: food-101-small-2/train/chicken_quesadilla/3806037.jpg  \n",
            "  inflating: food-101-small-2/train/chicken_quesadilla/1902574.jpg  \n",
            "  inflating: food-101-small-2/train/chicken_quesadilla/993767.jpg  \n",
            "  inflating: food-101-small-2/train/chicken_quesadilla/2787555.jpg  \n",
            "  inflating: food-101-small-2/train/eggs_benedict/736693.jpg  \n",
            "  inflating: food-101-small-2/train/eggs_benedict/300868.jpg  \n",
            "  inflating: food-101-small-2/train/eggs_benedict/414461.jpg  \n",
            "  inflating: food-101-small-2/train/eggs_benedict/2439232.jpg  \n",
            "  inflating: food-101-small-2/train/eggs_benedict/3357314.jpg  \n",
            "  inflating: food-101-small-2/train/eggs_benedict/2719946.jpg  \n",
            "  inflating: food-101-small-2/train/eggs_benedict/2408171.jpg  \n",
            "  inflating: food-101-small-2/train/eggs_benedict/816563.jpg  \n",
            "  inflating: food-101-small-2/train/eggs_benedict/1880800.jpg  \n",
            "  inflating: food-101-small-2/train/eggs_benedict/1994646.jpg  \n",
            "  inflating: food-101-small-2/train/eggs_benedict/115776.jpg  \n",
            "  inflating: food-101-small-2/train/eggs_benedict/831726.jpg  \n",
            "  inflating: food-101-small-2/train/eggs_benedict/2608280.jpg  \n",
            "  inflating: food-101-small-2/train/eggs_benedict/73131.jpg  \n",
            "  inflating: food-101-small-2/train/eggs_benedict/3798596.jpg  \n",
            "  inflating: food-101-small-2/train/eggs_benedict/1410917.jpg  \n",
            "  inflating: food-101-small-2/train/eggs_benedict/771285.jpg  \n",
            "  inflating: food-101-small-2/train/eggs_benedict/3610052.jpg  \n",
            "  inflating: food-101-small-2/train/eggs_benedict/3132082.jpg  \n",
            "  inflating: food-101-small-2/train/eggs_benedict/816413.jpg  \n",
            "  inflating: food-101-small-2/train/eggs_benedict/1673761.jpg  \n",
            "  inflating: food-101-small-2/train/eggs_benedict/1820721.jpg  \n",
            "  inflating: food-101-small-2/train/eggs_benedict/3596887.jpg  \n",
            "  inflating: food-101-small-2/train/eggs_benedict/782736.jpg  \n",
            "  inflating: food-101-small-2/train/eggs_benedict/1878854.jpg  \n",
            "  inflating: food-101-small-2/train/eggs_benedict/3414983.jpg  \n",
            "  inflating: food-101-small-2/train/eggs_benedict/735058.jpg  \n",
            "  inflating: food-101-small-2/train/eggs_benedict/2248962.jpg  \n",
            "  inflating: food-101-small-2/train/eggs_benedict/1201832.jpg  \n",
            "  inflating: food-101-small-2/train/eggs_benedict/1216343.jpg  \n",
            "  inflating: food-101-small-2/train/eggs_benedict/2129301.jpg  \n",
            "  inflating: food-101-small-2/train/eggs_benedict/219544.jpg  \n",
            "  inflating: food-101-small-2/train/eggs_benedict/2660188.jpg  \n",
            "  inflating: food-101-small-2/train/eggs_benedict/1326044.jpg  \n",
            "  inflating: food-101-small-2/train/eggs_benedict/3510664.jpg  \n",
            "  inflating: food-101-small-2/train/eggs_benedict/3088594.jpg  \n",
            "  inflating: food-101-small-2/train/eggs_benedict/2045550.jpg  \n",
            "  inflating: food-101-small-2/train/eggs_benedict/2617930.jpg  \n",
            "  inflating: food-101-small-2/train/eggs_benedict/857941.jpg  \n",
            "  inflating: food-101-small-2/train/eggs_benedict/3770665.jpg  \n",
            "  inflating: food-101-small-2/train/eggs_benedict/2931525.jpg  \n",
            "  inflating: food-101-small-2/train/eggs_benedict/1175534.jpg  \n",
            "  inflating: food-101-small-2/train/eggs_benedict/505300.jpg  \n",
            "  inflating: food-101-small-2/train/eggs_benedict/3225306.jpg  \n",
            "  inflating: food-101-small-2/train/eggs_benedict/208534.jpg  \n",
            "  inflating: food-101-small-2/train/eggs_benedict/3259967.jpg  \n",
            "  inflating: food-101-small-2/train/eggs_benedict/36576.jpg  \n",
            "  inflating: food-101-small-2/train/eggs_benedict/1763734.jpg  \n",
            "  inflating: food-101-small-2/train/eggs_benedict/23967.jpg  \n",
            "  inflating: food-101-small-2/train/eggs_benedict/2513717.jpg  \n",
            "  inflating: food-101-small-2/train/eggs_benedict/3072625.jpg  \n",
            "  inflating: food-101-small-2/train/eggs_benedict/3322524.jpg  \n",
            "  inflating: food-101-small-2/train/eggs_benedict/3257679.jpg  \n",
            "  inflating: food-101-small-2/train/eggs_benedict/148269.jpg  \n",
            "  inflating: food-101-small-2/train/eggs_benedict/2326753.jpg  \n",
            "  inflating: food-101-small-2/train/eggs_benedict/1955207.jpg  \n",
            "  inflating: food-101-small-2/train/eggs_benedict/859519.jpg  \n",
            "  inflating: food-101-small-2/train/eggs_benedict/630175.jpg  \n",
            "  inflating: food-101-small-2/train/eggs_benedict/396020.jpg  \n",
            "  inflating: food-101-small-2/train/eggs_benedict/3750526.jpg  \n",
            "  inflating: food-101-small-2/train/eggs_benedict/158871.jpg  \n",
            "  inflating: food-101-small-2/train/eggs_benedict/1764820.jpg  \n",
            "  inflating: food-101-small-2/train/eggs_benedict/1772071.jpg  \n",
            "  inflating: food-101-small-2/train/eggs_benedict/2605435.jpg  \n",
            "  inflating: food-101-small-2/train/eggs_benedict/2046435.jpg  \n",
            "  inflating: food-101-small-2/train/eggs_benedict/149562.jpg  \n",
            "  inflating: food-101-small-2/train/eggs_benedict/3319275.jpg  \n",
            "  inflating: food-101-small-2/train/eggs_benedict/3103120.jpg  \n",
            "  inflating: food-101-small-2/train/eggs_benedict/996408.jpg  \n",
            "  inflating: food-101-small-2/train/eggs_benedict/438554.jpg  \n",
            "  inflating: food-101-small-2/train/eggs_benedict/1042507.jpg  \n",
            "  inflating: food-101-small-2/train/eggs_benedict/2535000.jpg  \n",
            "  inflating: food-101-small-2/train/eggs_benedict/2484190.jpg  \n",
            "  inflating: food-101-small-2/train/eggs_benedict/1696652.jpg  \n",
            "  inflating: food-101-small-2/train/eggs_benedict/3859914.jpg  \n",
            "  inflating: food-101-small-2/train/sushi/36641.jpg  \n",
            "  inflating: food-101-small-2/train/sushi/999858.jpg  \n",
            "  inflating: food-101-small-2/train/sushi/2948055.jpg  \n",
            "  inflating: food-101-small-2/train/sushi/3033205.jpg  \n",
            "  inflating: food-101-small-2/train/sushi/258547.jpg  \n",
            "  inflating: food-101-small-2/train/sushi/2813454.jpg  \n",
            "  inflating: food-101-small-2/train/sushi/1608115.jpg  \n",
            "  inflating: food-101-small-2/train/sushi/3813999.jpg  \n",
            "  inflating: food-101-small-2/train/sushi/2690813.jpg  \n",
            "  inflating: food-101-small-2/train/sushi/3191504.jpg  \n",
            "  inflating: food-101-small-2/train/sushi/5443.jpg  \n",
            "  inflating: food-101-small-2/train/sushi/59525.jpg  \n",
            "  inflating: food-101-small-2/train/sushi/381021.jpg  \n",
            "  inflating: food-101-small-2/train/sushi/2242224.jpg  \n",
            "  inflating: food-101-small-2/train/sushi/2849945.jpg  \n",
            "  inflating: food-101-small-2/train/sushi/2750818.jpg  \n",
            "  inflating: food-101-small-2/train/sushi/3543883.jpg  \n",
            "  inflating: food-101-small-2/train/sushi/424994.jpg  \n",
            "  inflating: food-101-small-2/train/sushi/1232045.jpg  \n",
            "  inflating: food-101-small-2/train/sushi/2168648.jpg  \n",
            "  inflating: food-101-small-2/train/sushi/302883.jpg  \n",
            "  inflating: food-101-small-2/train/sushi/1203702.jpg  \n",
            "  inflating: food-101-small-2/train/sushi/2616735.jpg  \n",
            "  inflating: food-101-small-2/train/sushi/765684.jpg  \n",
            "  inflating: food-101-small-2/train/sushi/1434806.jpg  \n",
            "  inflating: food-101-small-2/train/sushi/492302.jpg  \n",
            "  inflating: food-101-small-2/train/sushi/452683.jpg  \n",
            "  inflating: food-101-small-2/train/sushi/99997.jpg  \n",
            "  inflating: food-101-small-2/train/sushi/169392.jpg  \n",
            "  inflating: food-101-small-2/train/sushi/923340.jpg  \n",
            "  inflating: food-101-small-2/train/sushi/190125.jpg  \n",
            "  inflating: food-101-small-2/train/sushi/2561367.jpg  \n",
            "  inflating: food-101-small-2/train/sushi/3859818.jpg  \n",
            "  inflating: food-101-small-2/train/sushi/1926876.jpg  \n",
            "  inflating: food-101-small-2/train/sushi/14046.jpg  \n",
            "  inflating: food-101-small-2/train/sushi/615413.jpg  \n",
            "  inflating: food-101-small-2/train/sushi/3862905.jpg  \n",
            "  inflating: food-101-small-2/train/sushi/2797464.jpg  \n",
            "  inflating: food-101-small-2/train/sushi/2903621.jpg  \n",
            "  inflating: food-101-small-2/train/sushi/2385731.jpg  \n",
            "  inflating: food-101-small-2/train/sushi/72729.jpg  \n",
            "  inflating: food-101-small-2/train/sushi/1378463.jpg  \n",
            "  inflating: food-101-small-2/train/sushi/1929941.jpg  \n",
            "  inflating: food-101-small-2/train/sushi/2197749.jpg  \n",
            "  inflating: food-101-small-2/train/sushi/170385.jpg  \n",
            "  inflating: food-101-small-2/train/sushi/2718366.jpg  \n",
            "  inflating: food-101-small-2/train/sushi/1673054.jpg  \n",
            "  inflating: food-101-small-2/train/sushi/894318.jpg  \n",
            "  inflating: food-101-small-2/train/sushi/101625.jpg  \n",
            "  inflating: food-101-small-2/train/sushi/3429826.jpg  \n",
            "  inflating: food-101-small-2/train/sushi/1771901.jpg  \n",
            "  inflating: food-101-small-2/train/sushi/3045664.jpg  \n",
            "  inflating: food-101-small-2/train/sushi/1226714.jpg  \n",
            "  inflating: food-101-small-2/train/sushi/3416237.jpg  \n",
            "  inflating: food-101-small-2/train/sushi/720302.jpg  \n",
            "  inflating: food-101-small-2/train/sushi/1995655.jpg  \n",
            "  inflating: food-101-small-2/train/sushi/2928608.jpg  \n",
            "  inflating: food-101-small-2/train/sushi/1470156.jpg  \n",
            "  inflating: food-101-small-2/train/sushi/2957342.jpg  \n",
            "  inflating: food-101-small-2/train/sushi/1968025.jpg  \n",
            "  inflating: food-101-small-2/train/sushi/2743100.jpg  \n",
            "  inflating: food-101-small-2/train/sushi/843970.jpg  \n",
            "  inflating: food-101-small-2/train/sushi/3164354.jpg  \n",
            "  inflating: food-101-small-2/train/sushi/2847583.jpg  \n",
            "  inflating: food-101-small-2/train/sushi/2298647.jpg  \n",
            "  inflating: food-101-small-2/train/sushi/166435.jpg  \n",
            "  inflating: food-101-small-2/train/sushi/1630323.jpg  \n",
            "  inflating: food-101-small-2/train/sushi/1113170.jpg  \n",
            "  inflating: food-101-small-2/train/sushi/2120573.jpg  \n",
            "  inflating: food-101-small-2/train/sushi/1456550.jpg  \n",
            "  inflating: food-101-small-2/train/sushi/301603.jpg  \n",
            "  inflating: food-101-small-2/train/sushi/2394442.jpg  \n",
            "  inflating: food-101-small-2/train/sushi/300722.jpg  \n",
            "  inflating: food-101-small-2/train/sushi/603976.jpg  \n",
            "  inflating: food-101-small-2/train/sushi/45517.jpg  \n",
            "  inflating: food-101-small-2/train/pizza/476421.jpg  \n",
            "  inflating: food-101-small-2/train/pizza/816577.jpg  \n",
            "  inflating: food-101-small-2/train/pizza/3256974.jpg  \n",
            "  inflating: food-101-small-2/train/pizza/331644.jpg  \n",
            "  inflating: food-101-small-2/train/pizza/2549661.jpg  \n",
            "  inflating: food-101-small-2/train/pizza/1008941.jpg  \n",
            "  inflating: food-101-small-2/train/pizza/344397.jpg  \n",
            "  inflating: food-101-small-2/train/pizza/3164761.jpg  \n",
            "  inflating: food-101-small-2/train/pizza/2622336.jpg  \n",
            "  inflating: food-101-small-2/train/pizza/2231356.jpg  \n",
            "  inflating: food-101-small-2/train/pizza/1618659.jpg  \n",
            "  inflating: food-101-small-2/train/pizza/194643.jpg  \n",
            "  inflating: food-101-small-2/train/pizza/2844278.jpg  \n",
            "  inflating: food-101-small-2/train/pizza/3830773.jpg  \n",
            "  inflating: food-101-small-2/train/pizza/1828050.jpg  \n",
            "  inflating: food-101-small-2/train/pizza/1636919.jpg  \n",
            "  inflating: food-101-small-2/train/pizza/2236338.jpg  \n",
            "  inflating: food-101-small-2/train/pizza/1445608.jpg  \n",
            "  inflating: food-101-small-2/train/pizza/2126352.jpg  \n",
            "  inflating: food-101-small-2/train/pizza/809024.jpg  \n",
            "  inflating: food-101-small-2/train/pizza/1949644.jpg  \n",
            "  inflating: food-101-small-2/train/pizza/2010437.jpg  \n",
            "  inflating: food-101-small-2/train/pizza/2576168.jpg  \n",
            "  inflating: food-101-small-2/train/pizza/918506.jpg  \n",
            "  inflating: food-101-small-2/train/pizza/1950499.jpg  \n",
            "  inflating: food-101-small-2/train/pizza/83538.jpg  \n",
            "  inflating: food-101-small-2/train/pizza/896448.jpg  \n",
            "  inflating: food-101-small-2/train/pizza/2516510.jpg  \n",
            "  inflating: food-101-small-2/train/pizza/1944600.jpg  \n",
            "  inflating: food-101-small-2/train/pizza/764429.jpg  \n",
            "  inflating: food-101-small-2/train/pizza/3376617.jpg  \n",
            "  inflating: food-101-small-2/train/pizza/2274117.jpg  \n",
            "  inflating: food-101-small-2/train/pizza/482858.jpg  \n",
            "  inflating: food-101-small-2/train/pizza/666569.jpg  \n",
            "  inflating: food-101-small-2/train/pizza/3398309.jpg  \n",
            "  inflating: food-101-small-2/train/pizza/2711828.jpg  \n",
            "  inflating: food-101-small-2/train/pizza/1988629.jpg  \n",
            "  inflating: food-101-small-2/train/pizza/1243215.jpg  \n",
            "  inflating: food-101-small-2/train/pizza/3724416.jpg  \n",
            "  inflating: food-101-small-2/train/pizza/274945.jpg  \n",
            "  inflating: food-101-small-2/train/pizza/61822.jpg  \n",
            "  inflating: food-101-small-2/train/pizza/537575.jpg  \n",
            "  inflating: food-101-small-2/train/pizza/721383.jpg  \n",
            "  inflating: food-101-small-2/train/pizza/3020376.jpg  \n",
            "  inflating: food-101-small-2/train/pizza/1260554.jpg  \n",
            "  inflating: food-101-small-2/train/pizza/2560539.jpg  \n",
            "  inflating: food-101-small-2/train/pizza/929067.jpg  \n",
            "  inflating: food-101-small-2/train/pizza/3092704.jpg  \n",
            "  inflating: food-101-small-2/train/pizza/2980131.jpg  \n",
            "  inflating: food-101-small-2/train/pizza/1468795.jpg  \n",
            "  inflating: food-101-small-2/train/pizza/1065078.jpg  \n",
            "  inflating: food-101-small-2/train/pizza/2502234.jpg  \n",
            "  inflating: food-101-small-2/train/pizza/1459760.jpg  \n",
            "  inflating: food-101-small-2/train/pizza/376417.jpg  \n",
            "  inflating: food-101-small-2/train/pizza/3264148.jpg  \n",
            "  inflating: food-101-small-2/train/pizza/1818014.jpg  \n",
            "  inflating: food-101-small-2/train/pizza/910419.jpg  \n",
            "  inflating: food-101-small-2/train/pizza/2135635.jpg  \n",
            "  inflating: food-101-small-2/train/pizza/2137341.jpg  \n",
            "  inflating: food-101-small-2/train/pizza/3174637.jpg  \n",
            "  inflating: food-101-small-2/train/pizza/2542065.jpg  \n",
            "  inflating: food-101-small-2/train/pizza/27963.jpg  \n",
            "  inflating: food-101-small-2/train/pizza/926046.jpg  \n",
            "  inflating: food-101-small-2/train/pizza/2639094.jpg  \n",
            "  inflating: food-101-small-2/train/pizza/418251.jpg  \n",
            "  inflating: food-101-small-2/train/pizza/1705773.jpg  \n",
            "  inflating: food-101-small-2/train/pizza/807128.jpg  \n",
            "  inflating: food-101-small-2/train/pizza/1638227.jpg  \n",
            "  inflating: food-101-small-2/train/pizza/1506213.jpg  \n",
            "  inflating: food-101-small-2/train/pizza/1877103.jpg  \n",
            "  inflating: food-101-small-2/train/pizza/3536393.jpg  \n",
            "  inflating: food-101-small-2/train/pizza/221048.jpg  \n",
            "  inflating: food-101-small-2/train/pizza/2224828.jpg  \n",
            "  inflating: food-101-small-2/train/pizza/2670730.jpg  \n",
            "  inflating: food-101-small-2/train/pizza/307677.jpg  \n",
            "  inflating: food-101-small-2/train/nachos/2115077.jpg  \n",
            "  inflating: food-101-small-2/train/nachos/2014745.jpg  \n",
            "  inflating: food-101-small-2/train/nachos/333859.jpg  \n",
            "  inflating: food-101-small-2/train/nachos/2007704.jpg  \n",
            "  inflating: food-101-small-2/train/nachos/3833527.jpg  \n",
            "  inflating: food-101-small-2/train/nachos/654834.jpg  \n",
            "  inflating: food-101-small-2/train/nachos/3224071.jpg  \n",
            "  inflating: food-101-small-2/train/nachos/99088.jpg  \n",
            "  inflating: food-101-small-2/train/nachos/92485.jpg  \n",
            "  inflating: food-101-small-2/train/nachos/436167.jpg  \n",
            "  inflating: food-101-small-2/train/nachos/3623472.jpg  \n",
            "  inflating: food-101-small-2/train/nachos/175246.jpg  \n",
            "  inflating: food-101-small-2/train/nachos/2649179.jpg  \n",
            "  inflating: food-101-small-2/train/nachos/2886927.jpg  \n",
            "  inflating: food-101-small-2/train/nachos/718227.jpg  \n",
            "  inflating: food-101-small-2/train/nachos/2608683.jpg  \n",
            "  inflating: food-101-small-2/train/nachos/1697197.jpg  \n",
            "  inflating: food-101-small-2/train/nachos/940907.jpg  \n",
            "  inflating: food-101-small-2/train/nachos/3014939.jpg  \n",
            "  inflating: food-101-small-2/train/nachos/3474534.jpg  \n",
            "  inflating: food-101-small-2/train/nachos/2856790.jpg  \n",
            "  inflating: food-101-small-2/train/nachos/2989735.jpg  \n",
            "  inflating: food-101-small-2/train/nachos/2059183.jpg  \n",
            "  inflating: food-101-small-2/train/nachos/2915736.jpg  \n",
            "  inflating: food-101-small-2/train/nachos/3440096.jpg  \n",
            "  inflating: food-101-small-2/train/nachos/3311135.jpg  \n",
            "  inflating: food-101-small-2/train/nachos/3753454.jpg  \n",
            "  inflating: food-101-small-2/train/nachos/239290.jpg  \n",
            "  inflating: food-101-small-2/train/nachos/3401369.jpg  \n",
            "  inflating: food-101-small-2/train/nachos/2352871.jpg  \n",
            "  inflating: food-101-small-2/train/nachos/1168757.jpg  \n",
            "  inflating: food-101-small-2/train/nachos/3374352.jpg  \n",
            "  inflating: food-101-small-2/train/nachos/3570145.jpg  \n",
            "  inflating: food-101-small-2/train/nachos/2019987.jpg  \n",
            "  inflating: food-101-small-2/train/nachos/3382163.jpg  \n",
            "  inflating: food-101-small-2/train/nachos/3125403.jpg  \n",
            "  inflating: food-101-small-2/train/nachos/817789.jpg  \n",
            "  inflating: food-101-small-2/train/nachos/178322.jpg  \n",
            "  inflating: food-101-small-2/train/nachos/1648955.jpg  \n",
            "  inflating: food-101-small-2/train/nachos/3266015.jpg  \n",
            "  inflating: food-101-small-2/train/nachos/3855184.jpg  \n",
            "  inflating: food-101-small-2/train/nachos/3461292.jpg  \n",
            "  inflating: food-101-small-2/train/nachos/3198629.jpg  \n",
            "  inflating: food-101-small-2/train/nachos/3246885.jpg  \n",
            "  inflating: food-101-small-2/train/nachos/2534024.jpg  \n",
            "  inflating: food-101-small-2/train/nachos/1784970.jpg  \n",
            "  inflating: food-101-small-2/train/nachos/3821951.jpg  \n",
            "  inflating: food-101-small-2/train/nachos/3644535.jpg  \n",
            "  inflating: food-101-small-2/train/nachos/3382395.jpg  \n",
            "  inflating: food-101-small-2/train/nachos/1855512.jpg  \n",
            "  inflating: food-101-small-2/train/nachos/907204.jpg  \n",
            "  inflating: food-101-small-2/train/nachos/3565635.jpg  \n",
            "  inflating: food-101-small-2/train/nachos/1080976.jpg  \n",
            "  inflating: food-101-small-2/train/nachos/292154.jpg  \n",
            "  inflating: food-101-small-2/train/nachos/51925.jpg  \n",
            "  inflating: food-101-small-2/train/nachos/3546603.jpg  \n",
            "  inflating: food-101-small-2/train/nachos/3528497.jpg  \n",
            "  inflating: food-101-small-2/train/nachos/2847727.jpg  \n",
            "  inflating: food-101-small-2/train/nachos/1253611.jpg  \n",
            "  inflating: food-101-small-2/train/nachos/2816150.jpg  \n",
            "  inflating: food-101-small-2/train/nachos/3469232.jpg  \n",
            "  inflating: food-101-small-2/train/nachos/697068.jpg  \n",
            "  inflating: food-101-small-2/train/nachos/797097.jpg  \n",
            "  inflating: food-101-small-2/train/nachos/1379896.jpg  \n",
            "  inflating: food-101-small-2/train/nachos/698206.jpg  \n",
            "  inflating: food-101-small-2/train/nachos/3894142.jpg  \n",
            "  inflating: food-101-small-2/train/nachos/443257.jpg  \n",
            "  inflating: food-101-small-2/train/nachos/1938362.jpg  \n",
            "  inflating: food-101-small-2/train/nachos/860941.jpg  \n",
            "  inflating: food-101-small-2/train/nachos/1343890.jpg  \n",
            "  inflating: food-101-small-2/train/nachos/3761463.jpg  \n",
            "  inflating: food-101-small-2/train/nachos/1546806.jpg  \n",
            "  inflating: food-101-small-2/train/nachos/2267291.jpg  \n",
            "  inflating: food-101-small-2/train/nachos/946774.jpg  \n",
            "  inflating: food-101-small-2/train/nachos/1825283.jpg  \n",
            "  inflating: food-101-small-2/train/lasagna/1511561.jpg  \n",
            "  inflating: food-101-small-2/train/lasagna/1063248.jpg  \n",
            "  inflating: food-101-small-2/train/lasagna/1156225.jpg  \n",
            "  inflating: food-101-small-2/train/lasagna/3874120.jpg  \n",
            "  inflating: food-101-small-2/train/lasagna/3396365.jpg  \n",
            "  inflating: food-101-small-2/train/lasagna/3216799.jpg  \n",
            "  inflating: food-101-small-2/train/lasagna/3867361.jpg  \n",
            "  inflating: food-101-small-2/train/lasagna/1260880.jpg  \n",
            "  inflating: food-101-small-2/train/lasagna/2087261.jpg  \n",
            "  inflating: food-101-small-2/train/lasagna/734082.jpg  \n",
            "  inflating: food-101-small-2/train/lasagna/895902.jpg  \n",
            "  inflating: food-101-small-2/train/lasagna/2381454.jpg  \n",
            "  inflating: food-101-small-2/train/lasagna/1152091.jpg  \n",
            "  inflating: food-101-small-2/train/lasagna/2943073.jpg  \n",
            "  inflating: food-101-small-2/train/lasagna/3619303.jpg  \n",
            "  inflating: food-101-small-2/train/lasagna/3108727.jpg  \n",
            "  inflating: food-101-small-2/train/lasagna/2048823.jpg  \n",
            "  inflating: food-101-small-2/train/lasagna/2876355.jpg  \n",
            "  inflating: food-101-small-2/train/lasagna/2947822.jpg  \n",
            "  inflating: food-101-small-2/train/lasagna/2316943.jpg  \n",
            "  inflating: food-101-small-2/train/lasagna/2846781.jpg  \n",
            "  inflating: food-101-small-2/train/lasagna/726959.jpg  \n",
            "  inflating: food-101-small-2/train/lasagna/7781.jpg  \n",
            "  inflating: food-101-small-2/train/lasagna/3030425.jpg  \n",
            "  inflating: food-101-small-2/train/lasagna/3806312.jpg  \n",
            "  inflating: food-101-small-2/train/lasagna/3753086.jpg  \n",
            "  inflating: food-101-small-2/train/lasagna/3424507.jpg  \n",
            "  inflating: food-101-small-2/train/lasagna/2410148.jpg  \n",
            "  inflating: food-101-small-2/train/lasagna/186756.jpg  \n",
            "  inflating: food-101-small-2/train/lasagna/1336732.jpg  \n",
            "  inflating: food-101-small-2/train/lasagna/2434148.jpg  \n",
            "  inflating: food-101-small-2/train/lasagna/2114441.jpg  \n",
            "  inflating: food-101-small-2/train/lasagna/55800.jpg  \n",
            "  inflating: food-101-small-2/train/lasagna/3120426.jpg  \n",
            "  inflating: food-101-small-2/train/lasagna/2717663.jpg  \n",
            "  inflating: food-101-small-2/train/lasagna/2654161.jpg  \n",
            "  inflating: food-101-small-2/train/lasagna/3181564.jpg  \n",
            "  inflating: food-101-small-2/train/lasagna/2798837.jpg  \n",
            "  inflating: food-101-small-2/train/lasagna/3637641.jpg  \n",
            "  inflating: food-101-small-2/train/lasagna/907363.jpg  \n",
            "  inflating: food-101-small-2/train/lasagna/3575185.jpg  \n",
            "  inflating: food-101-small-2/train/lasagna/899831.jpg  \n",
            "  inflating: food-101-small-2/train/lasagna/2210479.jpg  \n",
            "  inflating: food-101-small-2/train/lasagna/1463968.jpg  \n",
            "  inflating: food-101-small-2/train/lasagna/2125241.jpg  \n",
            "  inflating: food-101-small-2/train/lasagna/263009.jpg  \n",
            "  inflating: food-101-small-2/train/lasagna/3681091.jpg  \n",
            "  inflating: food-101-small-2/train/lasagna/3476066.jpg  \n",
            "  inflating: food-101-small-2/train/lasagna/2349657.jpg  \n",
            "  inflating: food-101-small-2/train/lasagna/676190.jpg  \n",
            "  inflating: food-101-small-2/train/lasagna/1537124.jpg  \n",
            "  inflating: food-101-small-2/train/lasagna/3222719.jpg  \n",
            "  inflating: food-101-small-2/train/lasagna/1665551.jpg  \n",
            "  inflating: food-101-small-2/train/lasagna/222293.jpg  \n",
            "  inflating: food-101-small-2/train/lasagna/3756697.jpg  \n",
            "  inflating: food-101-small-2/train/lasagna/1713927.jpg  \n",
            "  inflating: food-101-small-2/train/lasagna/1529747.jpg  \n",
            "  inflating: food-101-small-2/train/lasagna/1708041.jpg  \n",
            "  inflating: food-101-small-2/train/lasagna/2334235.jpg  \n",
            "  inflating: food-101-small-2/train/lasagna/2467378.jpg  \n",
            "  inflating: food-101-small-2/train/lasagna/3314569.jpg  \n",
            "  inflating: food-101-small-2/train/lasagna/2265047.jpg  \n",
            "  inflating: food-101-small-2/train/lasagna/3837007.jpg  \n",
            "  inflating: food-101-small-2/train/lasagna/3836651.jpg  \n",
            "  inflating: food-101-small-2/train/lasagna/3504108.jpg  \n",
            "  inflating: food-101-small-2/train/lasagna/1743859.jpg  \n",
            "  inflating: food-101-small-2/train/lasagna/2875871.jpg  \n",
            "  inflating: food-101-small-2/train/lasagna/1157283.jpg  \n",
            "  inflating: food-101-small-2/train/lasagna/1134644.jpg  \n",
            "  inflating: food-101-small-2/train/lasagna/1517242.jpg  \n",
            "  inflating: food-101-small-2/train/lasagna/3058483.jpg  \n",
            "  inflating: food-101-small-2/train/lasagna/731047.jpg  \n",
            "  inflating: food-101-small-2/train/lasagna/1455515.jpg  \n",
            "  inflating: food-101-small-2/train/lasagna/2503772.jpg  \n",
            "  inflating: food-101-small-2/train/lasagna/2173466.jpg  \n",
            "  inflating: food-101-small-2/val/cheese_plate/1628981.jpg  \n",
            "  inflating: food-101-small-2/val/cheese_plate/2062275.jpg  \n",
            "  inflating: food-101-small-2/val/cheese_plate/1252840.jpg  \n",
            "  inflating: food-101-small-2/val/cheese_plate/2967561.jpg  \n",
            "  inflating: food-101-small-2/val/cheese_plate/88850.jpg  \n",
            "  inflating: food-101-small-2/val/cheese_plate/203071.jpg  \n",
            "  inflating: food-101-small-2/val/cheese_plate/806123.jpg  \n",
            "  inflating: food-101-small-2/val/cheese_plate/714073.jpg  \n",
            "  inflating: food-101-small-2/val/cheese_plate/1659108.jpg  \n",
            "  inflating: food-101-small-2/val/cheese_plate/3819306.jpg  \n",
            "  inflating: food-101-small-2/val/cheese_plate/2155505.jpg  \n",
            "  inflating: food-101-small-2/val/cheese_plate/788176.jpg  \n",
            "  inflating: food-101-small-2/val/cheese_plate/225366.jpg  \n",
            "  inflating: food-101-small-2/val/cheese_plate/1396472.jpg  \n",
            "  inflating: food-101-small-2/val/cheese_plate/2195322.jpg  \n",
            "  inflating: food-101-small-2/val/cup_cakes/1311262.jpg  \n",
            "  inflating: food-101-small-2/val/cup_cakes/63497.jpg  \n",
            "  inflating: food-101-small-2/val/cup_cakes/2620093.jpg  \n",
            "  inflating: food-101-small-2/val/cup_cakes/2635729.jpg  \n",
            "  inflating: food-101-small-2/val/cup_cakes/623765.jpg  \n",
            "  inflating: food-101-small-2/val/cup_cakes/2381037.jpg  \n",
            "  inflating: food-101-small-2/val/cup_cakes/3510905.jpg  \n",
            "  inflating: food-101-small-2/val/cup_cakes/715425.jpg  \n",
            "  inflating: food-101-small-2/val/cup_cakes/1855649.jpg  \n",
            "  inflating: food-101-small-2/val/cup_cakes/2720549.jpg  \n",
            "  inflating: food-101-small-2/val/cup_cakes/3476266.jpg  \n",
            "  inflating: food-101-small-2/val/cup_cakes/3307884.jpg  \n",
            "  inflating: food-101-small-2/val/cup_cakes/767982.jpg  \n",
            "  inflating: food-101-small-2/val/cup_cakes/139085.jpg  \n",
            "  inflating: food-101-small-2/val/cup_cakes/980120.jpg  \n",
            "  inflating: food-101-small-2/val/garlic_bread/3766909.jpg  \n",
            "  inflating: food-101-small-2/val/garlic_bread/471159.jpg  \n",
            "  inflating: food-101-small-2/val/garlic_bread/636889.jpg  \n",
            "  inflating: food-101-small-2/val/garlic_bread/3100785.jpg  \n",
            "  inflating: food-101-small-2/val/garlic_bread/180782.jpg  \n",
            "  inflating: food-101-small-2/val/garlic_bread/2200798.jpg  \n",
            "  inflating: food-101-small-2/val/garlic_bread/2417976.jpg  \n",
            "  inflating: food-101-small-2/val/garlic_bread/2438188.jpg  \n",
            "  inflating: food-101-small-2/val/garlic_bread/3315381.jpg  \n",
            "  inflating: food-101-small-2/val/garlic_bread/771610.jpg  \n",
            "  inflating: food-101-small-2/val/garlic_bread/2075249.jpg  \n",
            "  inflating: food-101-small-2/val/garlic_bread/2982597.jpg  \n",
            "  inflating: food-101-small-2/val/garlic_bread/3303610.jpg  \n",
            "  inflating: food-101-small-2/val/garlic_bread/2951282.jpg  \n",
            "  inflating: food-101-small-2/val/garlic_bread/3087427.jpg  \n",
            "  inflating: food-101-small-2/val/gnocchi/2018960.jpg  \n",
            "  inflating: food-101-small-2/val/gnocchi/2319803.jpg  \n",
            "  inflating: food-101-small-2/val/gnocchi/1900395.jpg  \n",
            "  inflating: food-101-small-2/val/gnocchi/390067.jpg  \n",
            "  inflating: food-101-small-2/val/gnocchi/798948.jpg  \n",
            "  inflating: food-101-small-2/val/gnocchi/1337114.jpg  \n",
            "  inflating: food-101-small-2/val/gnocchi/467942.jpg  \n",
            "  inflating: food-101-small-2/val/gnocchi/2455573.jpg  \n",
            "  inflating: food-101-small-2/val/gnocchi/145051.jpg  \n",
            "  inflating: food-101-small-2/val/gnocchi/2273891.jpg  \n",
            "  inflating: food-101-small-2/val/gnocchi/3791682.jpg  \n",
            "  inflating: food-101-small-2/val/gnocchi/3045713.jpg  \n",
            "  inflating: food-101-small-2/val/gnocchi/3052696.jpg  \n",
            "  inflating: food-101-small-2/val/gnocchi/3428357.jpg  \n",
            "  inflating: food-101-small-2/val/gnocchi/3607108.jpg  \n",
            "  inflating: food-101-small-2/val/french_toast/3700755.jpg  \n",
            "  inflating: food-101-small-2/val/french_toast/941896.jpg  \n",
            "  inflating: food-101-small-2/val/french_toast/526116.jpg  \n",
            "  inflating: food-101-small-2/val/french_toast/2861667.jpg  \n",
            "  inflating: food-101-small-2/val/french_toast/185114.jpg  \n",
            "  inflating: food-101-small-2/val/french_toast/1616220.jpg  \n",
            "  inflating: food-101-small-2/val/french_toast/1598853.jpg  \n",
            "  inflating: food-101-small-2/val/french_toast/357409.jpg  \n",
            "  inflating: food-101-small-2/val/french_toast/3062182.jpg  \n",
            "  inflating: food-101-small-2/val/french_toast/3111183.jpg  \n",
            "  inflating: food-101-small-2/val/french_toast/1381192.jpg  \n",
            "  inflating: food-101-small-2/val/french_toast/2131135.jpg  \n",
            "  inflating: food-101-small-2/val/french_toast/18789.jpg  \n",
            "  inflating: food-101-small-2/val/french_toast/706005.jpg  \n",
            "  inflating: food-101-small-2/val/french_toast/1638754.jpg  \n",
            "  inflating: food-101-small-2/val/chicken_curry/522474.jpg  \n",
            "  inflating: food-101-small-2/val/chicken_curry/2807390.jpg  \n",
            "  inflating: food-101-small-2/val/chicken_curry/3198121.jpg  \n",
            "  inflating: food-101-small-2/val/chicken_curry/999550.jpg  \n",
            "  inflating: food-101-small-2/val/chicken_curry/1133357.jpg  \n",
            "  inflating: food-101-small-2/val/chicken_curry/2051444.jpg  \n",
            "  inflating: food-101-small-2/val/chicken_curry/621377.jpg  \n",
            "  inflating: food-101-small-2/val/chicken_curry/1855072.jpg  \n",
            "  inflating: food-101-small-2/val/chicken_curry/1856555.jpg  \n",
            "  inflating: food-101-small-2/val/chicken_curry/2055366.jpg  \n",
            "  inflating: food-101-small-2/val/chicken_curry/2458799.jpg  \n",
            "  inflating: food-101-small-2/val/chicken_curry/1071242.jpg  \n",
            "  inflating: food-101-small-2/val/chicken_curry/1623603.jpg  \n",
            "  inflating: food-101-small-2/val/chicken_curry/2595273.jpg  \n",
            "  inflating: food-101-small-2/val/chicken_curry/531941.jpg  \n",
            "  inflating: food-101-small-2/val/cheesecake/1974808.jpg  \n",
            "  inflating: food-101-small-2/val/cheesecake/2029824.jpg  \n",
            "  inflating: food-101-small-2/val/cheesecake/343611.jpg  \n",
            "  inflating: food-101-small-2/val/cheesecake/2438063.jpg  \n",
            "  inflating: food-101-small-2/val/cheesecake/3834149.jpg  \n",
            "  inflating: food-101-small-2/val/cheesecake/1624884.jpg  \n",
            "  inflating: food-101-small-2/val/cheesecake/2188333.jpg  \n",
            "  inflating: food-101-small-2/val/cheesecake/2202886.jpg  \n",
            "  inflating: food-101-small-2/val/cheesecake/1401296.jpg  \n",
            "  inflating: food-101-small-2/val/cheesecake/1034351.jpg  \n",
            "  inflating: food-101-small-2/val/cheesecake/3845030.jpg  \n",
            "  inflating: food-101-small-2/val/cheesecake/2554570.jpg  \n",
            "  inflating: food-101-small-2/val/cheesecake/212691.jpg  \n",
            "  inflating: food-101-small-2/val/cheesecake/3857640.jpg  \n",
            "  inflating: food-101-small-2/val/cheesecake/3007024.jpg  \n",
            "  inflating: food-101-small-2/val/poutine/1299349.jpg  \n",
            "  inflating: food-101-small-2/val/poutine/3638252.jpg  \n",
            "  inflating: food-101-small-2/val/poutine/3746315.jpg  \n",
            "  inflating: food-101-small-2/val/poutine/2678875.jpg  \n",
            "  inflating: food-101-small-2/val/poutine/2237575.jpg  \n",
            "  inflating: food-101-small-2/val/poutine/289017.jpg  \n",
            "  inflating: food-101-small-2/val/poutine/357431.jpg  \n",
            "  inflating: food-101-small-2/val/poutine/2381211.jpg  \n",
            "  inflating: food-101-small-2/val/poutine/3573491.jpg  \n",
            "  inflating: food-101-small-2/val/poutine/812583.jpg  \n",
            "  inflating: food-101-small-2/val/poutine/1019944.jpg  \n",
            "  inflating: food-101-small-2/val/poutine/916691.jpg  \n",
            "  inflating: food-101-small-2/val/poutine/3886020.jpg  \n",
            "  inflating: food-101-small-2/val/poutine/1425179.jpg  \n",
            "  inflating: food-101-small-2/val/poutine/3600869.jpg  \n",
            "  inflating: food-101-small-2/val/ravioli/2999209.jpg  \n",
            "  inflating: food-101-small-2/val/ravioli/3121562.jpg  \n",
            "  inflating: food-101-small-2/val/ravioli/128223.jpg  \n",
            "  inflating: food-101-small-2/val/ravioli/898822.jpg  \n",
            "  inflating: food-101-small-2/val/ravioli/1896486.jpg  \n",
            "  inflating: food-101-small-2/val/ravioli/3692696.jpg  \n",
            "  inflating: food-101-small-2/val/ravioli/1110315.jpg  \n",
            "  inflating: food-101-small-2/val/ravioli/1704160.jpg  \n",
            "  inflating: food-101-small-2/val/ravioli/2870540.jpg  \n",
            "  inflating: food-101-small-2/val/ravioli/3058000.jpg  \n",
            "  inflating: food-101-small-2/val/ravioli/260297.jpg  \n",
            "  inflating: food-101-small-2/val/ravioli/3311886.jpg  \n",
            "  inflating: food-101-small-2/val/ravioli/622716.jpg  \n",
            "  inflating: food-101-small-2/val/ravioli/1086962.jpg  \n",
            "  inflating: food-101-small-2/val/ravioli/2440663.jpg  \n",
            "  inflating: food-101-small-2/val/lobster_bisque/1841296.jpg  \n",
            "  inflating: food-101-small-2/val/lobster_bisque/1878576.jpg  \n",
            "  inflating: food-101-small-2/val/lobster_bisque/1463747.jpg  \n",
            "  inflating: food-101-small-2/val/lobster_bisque/3520163.jpg  \n",
            "  inflating: food-101-small-2/val/lobster_bisque/2637003.jpg  \n",
            "  inflating: food-101-small-2/val/lobster_bisque/88083.jpg  \n",
            "  inflating: food-101-small-2/val/lobster_bisque/3272131.jpg  \n",
            "  inflating: food-101-small-2/val/lobster_bisque/2899260.jpg  \n",
            "  inflating: food-101-small-2/val/lobster_bisque/2900668.jpg  \n",
            "  inflating: food-101-small-2/val/lobster_bisque/579187.jpg  \n",
            "  inflating: food-101-small-2/val/lobster_bisque/140903.jpg  \n",
            "  inflating: food-101-small-2/val/lobster_bisque/3029525.jpg  \n",
            "  inflating: food-101-small-2/val/lobster_bisque/3010212.jpg  \n",
            "  inflating: food-101-small-2/val/lobster_bisque/224508.jpg  \n",
            "  inflating: food-101-small-2/val/lobster_bisque/2222295.jpg  \n",
            "  inflating: food-101-small-2/val/beet_salad/1094628.jpg  \n",
            "  inflating: food-101-small-2/val/beet_salad/572126.jpg  \n",
            "  inflating: food-101-small-2/val/beet_salad/326472.jpg  \n",
            "  inflating: food-101-small-2/val/beet_salad/810538.jpg  \n",
            "  inflating: food-101-small-2/val/beet_salad/485252.jpg  \n",
            "  inflating: food-101-small-2/val/beet_salad/550087.jpg  \n",
            "  inflating: food-101-small-2/val/beet_salad/1757299.jpg  \n",
            "  inflating: food-101-small-2/val/beet_salad/3024728.jpg  \n",
            "  inflating: food-101-small-2/val/beet_salad/2680361.jpg  \n",
            "  inflating: food-101-small-2/val/beet_salad/3363469.jpg  \n",
            "  inflating: food-101-small-2/val/beet_salad/1324013.jpg  \n",
            "  inflating: food-101-small-2/val/beet_salad/1667125.jpg  \n",
            "  inflating: food-101-small-2/val/beet_salad/3848398.jpg  \n",
            "  inflating: food-101-small-2/val/beet_salad/3280285.jpg  \n",
            "  inflating: food-101-small-2/val/beet_salad/3664242.jpg  \n",
            "  inflating: food-101-small-2/val/hot_and_sour_soup/1428041.jpg  \n",
            "  inflating: food-101-small-2/val/hot_and_sour_soup/947500.jpg  \n",
            "  inflating: food-101-small-2/val/hot_and_sour_soup/2781892.jpg  \n",
            "  inflating: food-101-small-2/val/hot_and_sour_soup/404299.jpg  \n",
            "  inflating: food-101-small-2/val/hot_and_sour_soup/2849316.jpg  \n",
            "  inflating: food-101-small-2/val/hot_and_sour_soup/2200930.jpg  \n",
            "  inflating: food-101-small-2/val/hot_and_sour_soup/3535378.jpg  \n",
            "  inflating: food-101-small-2/val/hot_and_sour_soup/975712.jpg  \n",
            "  inflating: food-101-small-2/val/hot_and_sour_soup/184398.jpg  \n",
            "  inflating: food-101-small-2/val/hot_and_sour_soup/799144.jpg  \n",
            "  inflating: food-101-small-2/val/hot_and_sour_soup/2790249.jpg  \n",
            "  inflating: food-101-small-2/val/hot_and_sour_soup/2753820.jpg  \n",
            "  inflating: food-101-small-2/val/hot_and_sour_soup/197192.jpg  \n",
            "  inflating: food-101-small-2/val/hot_and_sour_soup/1126455.jpg  \n",
            "  inflating: food-101-small-2/val/hot_and_sour_soup/497575.jpg  \n",
            "  inflating: food-101-small-2/val/sashimi/3571712.jpg  \n",
            "  inflating: food-101-small-2/val/sashimi/1686995.jpg  \n",
            "  inflating: food-101-small-2/val/sashimi/3120152.jpg  \n",
            "  inflating: food-101-small-2/val/sashimi/1689131.jpg  \n",
            "  inflating: food-101-small-2/val/sashimi/2742477.jpg  \n",
            "  inflating: food-101-small-2/val/sashimi/2470681.jpg  \n",
            "  inflating: food-101-small-2/val/sashimi/187309.jpg  \n",
            "  inflating: food-101-small-2/val/sashimi/1056853.jpg  \n",
            "  inflating: food-101-small-2/val/sashimi/787756.jpg  \n",
            "  inflating: food-101-small-2/val/sashimi/1042995.jpg  \n",
            "  inflating: food-101-small-2/val/sashimi/2709939.jpg  \n",
            "  inflating: food-101-small-2/val/sashimi/2652280.jpg  \n",
            "  inflating: food-101-small-2/val/sashimi/296391.jpg  \n",
            "  inflating: food-101-small-2/val/sashimi/2840202.jpg  \n",
            "  inflating: food-101-small-2/val/sashimi/1039599.jpg  \n",
            "  inflating: food-101-small-2/val/macarons/1461118.jpg  \n",
            "  inflating: food-101-small-2/val/macarons/2339054.jpg  \n",
            "  inflating: food-101-small-2/val/macarons/2109891.jpg  \n",
            "  inflating: food-101-small-2/val/macarons/570324.jpg  \n",
            "  inflating: food-101-small-2/val/macarons/3477203.jpg  \n",
            "  inflating: food-101-small-2/val/macarons/1477295.jpg  \n",
            "  inflating: food-101-small-2/val/macarons/1733709.jpg  \n",
            "  inflating: food-101-small-2/val/macarons/1719240.jpg  \n",
            "  inflating: food-101-small-2/val/macarons/90142.jpg  \n",
            "  inflating: food-101-small-2/val/macarons/904673.jpg  \n",
            "  inflating: food-101-small-2/val/macarons/1693759.jpg  \n",
            "  inflating: food-101-small-2/val/macarons/2151065.jpg  \n",
            "  inflating: food-101-small-2/val/macarons/1519423.jpg  \n",
            "  inflating: food-101-small-2/val/macarons/852762.jpg  \n",
            "  inflating: food-101-small-2/val/macarons/3107031.jpg  \n",
            "  inflating: food-101-small-2/val/chicken_quesadilla/2069779.jpg  \n",
            "  inflating: food-101-small-2/val/chicken_quesadilla/121599.jpg  \n",
            "  inflating: food-101-small-2/val/chicken_quesadilla/541663.jpg  \n",
            "  inflating: food-101-small-2/val/chicken_quesadilla/3782525.jpg  \n",
            "  inflating: food-101-small-2/val/chicken_quesadilla/2315092.jpg  \n",
            "  inflating: food-101-small-2/val/chicken_quesadilla/3085066.jpg  \n",
            "  inflating: food-101-small-2/val/chicken_quesadilla/2828048.jpg  \n",
            "  inflating: food-101-small-2/val/chicken_quesadilla/3626598.jpg  \n",
            "  inflating: food-101-small-2/val/chicken_quesadilla/883698.jpg  \n",
            "  inflating: food-101-small-2/val/chicken_quesadilla/3569781.jpg  \n",
            "  inflating: food-101-small-2/val/chicken_quesadilla/1087931.jpg  \n",
            "  inflating: food-101-small-2/val/chicken_quesadilla/2751894.jpg  \n",
            "  inflating: food-101-small-2/val/chicken_quesadilla/3233897.jpg  \n",
            "  inflating: food-101-small-2/val/chicken_quesadilla/1326837.jpg  \n",
            "  inflating: food-101-small-2/val/chicken_quesadilla/557019.jpg  \n",
            "  inflating: food-101-small-2/val/eggs_benedict/1762069.jpg  \n",
            "  inflating: food-101-small-2/val/eggs_benedict/92864.jpg  \n",
            "  inflating: food-101-small-2/val/eggs_benedict/1062556.jpg  \n",
            "  inflating: food-101-small-2/val/eggs_benedict/2644765.jpg  \n",
            "  inflating: food-101-small-2/val/eggs_benedict/1546303.jpg  \n",
            "  inflating: food-101-small-2/val/eggs_benedict/2448483.jpg  \n",
            "  inflating: food-101-small-2/val/eggs_benedict/1632758.jpg  \n",
            "  inflating: food-101-small-2/val/eggs_benedict/3187328.jpg  \n",
            "  inflating: food-101-small-2/val/eggs_benedict/198957.jpg  \n",
            "  inflating: food-101-small-2/val/eggs_benedict/487138.jpg  \n",
            "  inflating: food-101-small-2/val/eggs_benedict/228344.jpg  \n",
            "  inflating: food-101-small-2/val/eggs_benedict/2258162.jpg  \n",
            "  inflating: food-101-small-2/val/eggs_benedict/1842778.jpg  \n",
            "  inflating: food-101-small-2/val/eggs_benedict/3618947.jpg  \n",
            "  inflating: food-101-small-2/val/eggs_benedict/818581.jpg  \n",
            "  inflating: food-101-small-2/val/sushi/1666036.jpg  \n",
            "  inflating: food-101-small-2/val/sushi/3135665.jpg  \n",
            "  inflating: food-101-small-2/val/sushi/814819.jpg  \n",
            "  inflating: food-101-small-2/val/sushi/372221.jpg  \n",
            "  inflating: food-101-small-2/val/sushi/3286574.jpg  \n",
            "  inflating: food-101-small-2/val/sushi/2715127.jpg  \n",
            "  inflating: food-101-small-2/val/sushi/710402.jpg  \n",
            "  inflating: food-101-small-2/val/sushi/511818.jpg  \n",
            "  inflating: food-101-small-2/val/sushi/2015807.jpg  \n",
            "  inflating: food-101-small-2/val/sushi/888125.jpg  \n",
            "  inflating: food-101-small-2/val/sushi/1816398.jpg  \n",
            "  inflating: food-101-small-2/val/sushi/1600999.jpg  \n",
            "  inflating: food-101-small-2/val/sushi/2290569.jpg  \n",
            "  inflating: food-101-small-2/val/sushi/133637.jpg  \n",
            "  inflating: food-101-small-2/val/sushi/507773.jpg  \n",
            "  inflating: food-101-small-2/val/pizza/3814200.jpg  \n",
            "  inflating: food-101-small-2/val/pizza/2253670.jpg  \n",
            "  inflating: food-101-small-2/val/pizza/415551.jpg  \n",
            "  inflating: food-101-small-2/val/pizza/2161241.jpg  \n",
            "  inflating: food-101-small-2/val/pizza/3913440.jpg  \n",
            "  inflating: food-101-small-2/val/pizza/1687681.jpg  \n",
            "  inflating: food-101-small-2/val/pizza/1044524.jpg  \n",
            "  inflating: food-101-small-2/val/pizza/969461.jpg  \n",
            "  inflating: food-101-small-2/val/pizza/522543.jpg  \n",
            "  inflating: food-101-small-2/val/pizza/1895479.jpg  \n",
            "  inflating: food-101-small-2/val/pizza/2992084.jpg  \n",
            "  inflating: food-101-small-2/val/pizza/2491110.jpg  \n",
            "  inflating: food-101-small-2/val/pizza/2164255.jpg  \n",
            "  inflating: food-101-small-2/val/pizza/1665654.jpg  \n",
            "  inflating: food-101-small-2/val/pizza/976107.jpg  \n",
            "  inflating: food-101-small-2/val/nachos/1393507.jpg  \n",
            "  inflating: food-101-small-2/val/nachos/3750909.jpg  \n",
            "  inflating: food-101-small-2/val/nachos/549614.jpg  \n",
            "  inflating: food-101-small-2/val/nachos/791371.jpg  \n",
            "  inflating: food-101-small-2/val/nachos/2370900.jpg  \n",
            "  inflating: food-101-small-2/val/nachos/136976.jpg  \n",
            "  inflating: food-101-small-2/val/nachos/3452057.jpg  \n",
            "  inflating: food-101-small-2/val/nachos/2903581.jpg  \n",
            "  inflating: food-101-small-2/val/nachos/3758285.jpg  \n",
            "  inflating: food-101-small-2/val/nachos/2381984.jpg  \n",
            "  inflating: food-101-small-2/val/nachos/965156.jpg  \n",
            "  inflating: food-101-small-2/val/nachos/1464283.jpg  \n",
            "  inflating: food-101-small-2/val/nachos/371718.jpg  \n",
            "  inflating: food-101-small-2/val/nachos/3140231.jpg  \n",
            "  inflating: food-101-small-2/val/nachos/676873.jpg  \n",
            "  inflating: food-101-small-2/val/lasagna/3595353.jpg  \n",
            "  inflating: food-101-small-2/val/lasagna/3566595.jpg  \n",
            "  inflating: food-101-small-2/val/lasagna/2938229.jpg  \n",
            "  inflating: food-101-small-2/val/lasagna/613203.jpg  \n",
            "  inflating: food-101-small-2/val/lasagna/1321748.jpg  \n",
            "  inflating: food-101-small-2/val/lasagna/108223.jpg  \n",
            "  inflating: food-101-small-2/val/lasagna/3349954.jpg  \n",
            "  inflating: food-101-small-2/val/lasagna/3531057.jpg  \n",
            "  inflating: food-101-small-2/val/lasagna/1487952.jpg  \n",
            "  inflating: food-101-small-2/val/lasagna/1943203.jpg  \n",
            "  inflating: food-101-small-2/val/lasagna/2279036.jpg  \n",
            "  inflating: food-101-small-2/val/lasagna/3405853.jpg  \n",
            "  inflating: food-101-small-2/val/lasagna/2585348.jpg  \n",
            "  inflating: food-101-small-2/val/lasagna/3824627.jpg  \n",
            "  inflating: food-101-small-2/val/lasagna/542416.jpg  \n"
          ]
        }
      ]
    },
    {
      "cell_type": "code",
      "source": [
        "from ultralytics import YOLO\n",
        "\n",
        "#loading classification model\n",
        "model = YOLO('yolo11s-cls.pt')\n",
        "\n",
        "#train the model\n",
        "results = model.train(data='/content/food-101-small-2', epochs=40, imgsz=640)"
      ],
      "metadata": {
        "colab": {
          "base_uri": "https://localhost:8080/"
        },
        "id": "aXKsiTBavMNL",
        "outputId": "82bad064-f894-4815-c9c3-f394d437ab6d"
      },
      "id": "aXKsiTBavMNL",
      "execution_count": 3,
      "outputs": [
        {
          "output_type": "stream",
          "name": "stdout",
          "text": [
            "Creating new Ultralytics Settings v0.0.6 file ✅ \n",
            "View Ultralytics Settings with 'yolo settings' or at '/root/.config/Ultralytics/settings.json'\n",
            "Update Settings with 'yolo settings key=value', i.e. 'yolo settings runs_dir=path/to/dir'. For help see https://docs.ultralytics.com/quickstart/#ultralytics-settings.\n",
            "Downloading https://github.com/ultralytics/assets/releases/download/v8.3.0/yolo11s-cls.pt to 'yolo11s-cls.pt'...\n"
          ]
        },
        {
          "output_type": "stream",
          "name": "stderr",
          "text": [
            "100%|██████████| 13.0M/13.0M [00:00<00:00, 117MB/s] \n"
          ]
        },
        {
          "output_type": "stream",
          "name": "stdout",
          "text": [
            "Ultralytics 8.3.133 🚀 Python-3.11.12 torch-2.6.0+cu124 CUDA:0 (NVIDIA A100-SXM4-40GB, 40507MiB)\n",
            "\u001b[34m\u001b[1mengine/trainer: \u001b[0magnostic_nms=False, amp=True, augment=False, auto_augment=randaugment, batch=16, bgr=0.0, box=7.5, cache=False, cfg=None, classes=None, close_mosaic=10, cls=0.5, conf=None, copy_paste=0.0, copy_paste_mode=flip, cos_lr=False, cutmix=0.0, data=/content/food-101-small-2, degrees=0.0, deterministic=True, device=None, dfl=1.5, dnn=False, dropout=0.0, dynamic=False, embed=None, epochs=40, erasing=0.4, exist_ok=False, fliplr=0.5, flipud=0.0, format=torchscript, fraction=1.0, freeze=None, half=False, hsv_h=0.015, hsv_s=0.7, hsv_v=0.4, imgsz=640, int8=False, iou=0.7, keras=False, kobj=1.0, line_width=None, lr0=0.01, lrf=0.01, mask_ratio=4, max_det=300, mixup=0.0, mode=train, model=yolo11s-cls.pt, momentum=0.937, mosaic=1.0, multi_scale=False, name=train, nbs=64, nms=False, opset=None, optimize=False, optimizer=auto, overlap_mask=True, patience=100, perspective=0.0, plots=True, pose=12.0, pretrained=True, profile=False, project=None, rect=False, resume=False, retina_masks=False, save=True, save_conf=False, save_crop=False, save_dir=runs/classify/train, save_frames=False, save_json=False, save_period=-1, save_txt=False, scale=0.5, seed=0, shear=0.0, show=False, show_boxes=True, show_conf=True, show_labels=True, simplify=True, single_cls=False, source=None, split=val, stream_buffer=False, task=classify, time=None, tracker=botsort.yaml, translate=0.1, val=True, verbose=True, vid_stride=1, visualize=False, warmup_bias_lr=0.1, warmup_epochs=3.0, warmup_momentum=0.8, weight_decay=0.0005, workers=8, workspace=None\n",
            "\u001b[34m\u001b[1mtrain:\u001b[0m /content/food-101-small-2/train... found 1500 images in 20 classes ✅ \n",
            "\u001b[34m\u001b[1mval:\u001b[0m /content/food-101-small-2/val... found 300 images in 20 classes ✅ \n",
            "\u001b[34m\u001b[1mtest:\u001b[0m /content/food-101-small-2/test... found 300 images in 20 classes ✅ \n",
            "Overriding model.yaml nc=80 with nc=20\n",
            "\n",
            "                   from  n    params  module                                       arguments                     \n",
            "  0                  -1  1       928  ultralytics.nn.modules.conv.Conv             [3, 32, 3, 2]                 \n",
            "  1                  -1  1     18560  ultralytics.nn.modules.conv.Conv             [32, 64, 3, 2]                \n",
            "  2                  -1  1     26080  ultralytics.nn.modules.block.C3k2            [64, 128, 1, False, 0.25]     \n",
            "  3                  -1  1    147712  ultralytics.nn.modules.conv.Conv             [128, 128, 3, 2]              \n",
            "  4                  -1  1    103360  ultralytics.nn.modules.block.C3k2            [128, 256, 1, False, 0.25]    \n",
            "  5                  -1  1    590336  ultralytics.nn.modules.conv.Conv             [256, 256, 3, 2]              \n",
            "  6                  -1  1    346112  ultralytics.nn.modules.block.C3k2            [256, 256, 1, True]           \n",
            "  7                  -1  1   1180672  ultralytics.nn.modules.conv.Conv             [256, 512, 3, 2]              \n",
            "  8                  -1  1   1380352  ultralytics.nn.modules.block.C3k2            [512, 512, 1, True]           \n",
            "  9                  -1  1    990976  ultralytics.nn.modules.block.C2PSA           [512, 512, 1]                 \n",
            " 10                  -1  1    683540  ultralytics.nn.modules.head.Classify         [512, 20]                     \n",
            "YOLO11s-cls summary: 86 layers, 5,468,628 parameters, 5,468,628 gradients, 12.2 GFLOPs\n",
            "Transferred 234/236 items from pretrained weights\n",
            "\u001b[34m\u001b[1mAMP: \u001b[0mrunning Automatic Mixed Precision (AMP) checks...\n",
            "Downloading https://github.com/ultralytics/assets/releases/download/v8.3.0/yolo11n.pt to 'yolo11n.pt'...\n"
          ]
        },
        {
          "output_type": "stream",
          "name": "stderr",
          "text": [
            "100%|██████████| 5.35M/5.35M [00:00<00:00, 63.1MB/s]\n"
          ]
        },
        {
          "output_type": "stream",
          "name": "stdout",
          "text": [
            "\u001b[34m\u001b[1mAMP: \u001b[0mchecks passed ✅\n",
            "\u001b[34m\u001b[1mtrain: \u001b[0mFast image access ✅ (ping: 0.0±0.0 ms, read: 601.7±173.2 MB/s, size: 13.5 KB)\n"
          ]
        },
        {
          "output_type": "stream",
          "name": "stderr",
          "text": [
            "\u001b[34m\u001b[1mtrain: \u001b[0mScanning /content/food-101-small-2/train... 1500 images, 0 corrupt: 100%|██████████| 1500/1500 [00:00<00:00, 3385.39it/s]"
          ]
        },
        {
          "output_type": "stream",
          "name": "stdout",
          "text": [
            "\u001b[34m\u001b[1mtrain: \u001b[0mNew cache created: /content/food-101-small-2/train.cache\n"
          ]
        },
        {
          "output_type": "stream",
          "name": "stderr",
          "text": [
            "\n"
          ]
        },
        {
          "output_type": "stream",
          "name": "stdout",
          "text": [
            "\u001b[34m\u001b[1mval: \u001b[0mFast image access ✅ (ping: 0.0±0.0 ms, read: 373.7±187.7 MB/s, size: 9.7 KB)\n"
          ]
        },
        {
          "output_type": "stream",
          "name": "stderr",
          "text": [
            "\u001b[34m\u001b[1mval: \u001b[0mScanning /content/food-101-small-2/val... 300 images, 0 corrupt: 100%|██████████| 300/300 [00:00<00:00, 3166.97it/s]"
          ]
        },
        {
          "output_type": "stream",
          "name": "stdout",
          "text": [
            "\u001b[34m\u001b[1mval: \u001b[0mNew cache created: /content/food-101-small-2/val.cache\n"
          ]
        },
        {
          "output_type": "stream",
          "name": "stderr",
          "text": [
            "\n"
          ]
        },
        {
          "output_type": "stream",
          "name": "stdout",
          "text": [
            "\u001b[34m\u001b[1moptimizer:\u001b[0m 'optimizer=auto' found, ignoring 'lr0=0.01' and 'momentum=0.937' and determining best 'optimizer', 'lr0' and 'momentum' automatically... \n",
            "\u001b[34m\u001b[1moptimizer:\u001b[0m AdamW(lr=0.000417, momentum=0.9) with parameter groups 39 weight(decay=0.0), 40 weight(decay=0.0005), 40 bias(decay=0.0)\n",
            "Image sizes 640 train, 640 val\n",
            "Using 8 dataloader workers\n",
            "Logging results to \u001b[1mruns/classify/train\u001b[0m\n",
            "Starting training for 40 epochs...\n",
            "\n",
            "      Epoch    GPU_mem       loss  Instances       Size\n"
          ]
        },
        {
          "output_type": "stream",
          "name": "stderr",
          "text": [
            "       1/40      2.94G       3.02         16        640:   5%|▌         | 5/94 [00:05<00:58,  1.51it/s]"
          ]
        },
        {
          "output_type": "stream",
          "name": "stdout",
          "text": [
            "Downloading https://ultralytics.com/assets/Arial.ttf to '/root/.config/Ultralytics/Arial.ttf'...\n"
          ]
        },
        {
          "output_type": "stream",
          "name": "stderr",
          "text": [
            "       1/40      2.94G       3.04         16        640:  12%|█▏        | 11/94 [00:05<00:17,  4.73it/s]\n",
            "100%|██████████| 755k/755k [00:00<00:00, 14.6MB/s]\n",
            "       1/40      2.94G      2.895         12        640: 100%|██████████| 94/94 [00:12<00:00,  7.33it/s]\n",
            "               classes   top1_acc   top5_acc: 100%|██████████| 10/10 [00:00<00:00, 24.49it/s]"
          ]
        },
        {
          "output_type": "stream",
          "name": "stdout",
          "text": [
            "                   all       0.38      0.767\n"
          ]
        },
        {
          "output_type": "stream",
          "name": "stderr",
          "text": [
            "\n"
          ]
        },
        {
          "output_type": "stream",
          "name": "stdout",
          "text": [
            "\n",
            "      Epoch    GPU_mem       loss  Instances       Size\n"
          ]
        },
        {
          "output_type": "stream",
          "name": "stderr",
          "text": [
            "       2/40      3.64G       2.05         12        640: 100%|██████████| 94/94 [00:07<00:00, 11.76it/s]\n",
            "               classes   top1_acc   top5_acc: 100%|██████████| 10/10 [00:00<00:00, 21.90it/s]"
          ]
        },
        {
          "output_type": "stream",
          "name": "stdout",
          "text": [
            "                   all      0.523      0.883\n"
          ]
        },
        {
          "output_type": "stream",
          "name": "stderr",
          "text": [
            "\n"
          ]
        },
        {
          "output_type": "stream",
          "name": "stdout",
          "text": [
            "\n",
            "      Epoch    GPU_mem       loss  Instances       Size\n"
          ]
        },
        {
          "output_type": "stream",
          "name": "stderr",
          "text": [
            "       3/40      3.65G      1.511         12        640: 100%|██████████| 94/94 [00:07<00:00, 12.31it/s]\n",
            "               classes   top1_acc   top5_acc: 100%|██████████| 10/10 [00:00<00:00, 21.55it/s]"
          ]
        },
        {
          "output_type": "stream",
          "name": "stdout",
          "text": [
            "                   all      0.647      0.913\n"
          ]
        },
        {
          "output_type": "stream",
          "name": "stderr",
          "text": [
            "\n"
          ]
        },
        {
          "output_type": "stream",
          "name": "stdout",
          "text": [
            "\n",
            "      Epoch    GPU_mem       loss  Instances       Size\n"
          ]
        },
        {
          "output_type": "stream",
          "name": "stderr",
          "text": [
            "       4/40      3.65G      1.193         12        640: 100%|██████████| 94/94 [00:08<00:00, 11.66it/s]\n",
            "               classes   top1_acc   top5_acc: 100%|██████████| 10/10 [00:00<00:00, 23.94it/s]"
          ]
        },
        {
          "output_type": "stream",
          "name": "stdout",
          "text": [
            "                   all      0.663      0.947\n"
          ]
        },
        {
          "output_type": "stream",
          "name": "stderr",
          "text": [
            "\n"
          ]
        },
        {
          "output_type": "stream",
          "name": "stdout",
          "text": [
            "\n",
            "      Epoch    GPU_mem       loss  Instances       Size\n"
          ]
        },
        {
          "output_type": "stream",
          "name": "stderr",
          "text": [
            "       5/40      3.65G      1.024         12        640: 100%|██████████| 94/94 [00:07<00:00, 12.58it/s]\n",
            "               classes   top1_acc   top5_acc: 100%|██████████| 10/10 [00:00<00:00, 21.88it/s]"
          ]
        },
        {
          "output_type": "stream",
          "name": "stdout",
          "text": [
            "                   all       0.72       0.94\n"
          ]
        },
        {
          "output_type": "stream",
          "name": "stderr",
          "text": [
            "\n"
          ]
        },
        {
          "output_type": "stream",
          "name": "stdout",
          "text": [
            "\n",
            "      Epoch    GPU_mem       loss  Instances       Size\n"
          ]
        },
        {
          "output_type": "stream",
          "name": "stderr",
          "text": [
            "       6/40      3.67G     0.8928         12        640: 100%|██████████| 94/94 [00:07<00:00, 12.27it/s]\n",
            "               classes   top1_acc   top5_acc: 100%|██████████| 10/10 [00:00<00:00, 16.77it/s]"
          ]
        },
        {
          "output_type": "stream",
          "name": "stdout",
          "text": [
            "                   all      0.723      0.943\n"
          ]
        },
        {
          "output_type": "stream",
          "name": "stderr",
          "text": [
            "\n"
          ]
        },
        {
          "output_type": "stream",
          "name": "stdout",
          "text": [
            "\n",
            "      Epoch    GPU_mem       loss  Instances       Size\n"
          ]
        },
        {
          "output_type": "stream",
          "name": "stderr",
          "text": [
            "       7/40      3.67G     0.7546         12        640: 100%|██████████| 94/94 [00:07<00:00, 12.44it/s]\n",
            "               classes   top1_acc   top5_acc: 100%|██████████| 10/10 [00:00<00:00, 21.82it/s]"
          ]
        },
        {
          "output_type": "stream",
          "name": "stdout",
          "text": [
            "                   all      0.743      0.947\n"
          ]
        },
        {
          "output_type": "stream",
          "name": "stderr",
          "text": [
            "\n"
          ]
        },
        {
          "output_type": "stream",
          "name": "stdout",
          "text": [
            "\n",
            "      Epoch    GPU_mem       loss  Instances       Size\n"
          ]
        },
        {
          "output_type": "stream",
          "name": "stderr",
          "text": [
            "       8/40      3.67G     0.6618         12        640: 100%|██████████| 94/94 [00:07<00:00, 11.86it/s]\n",
            "               classes   top1_acc   top5_acc: 100%|██████████| 10/10 [00:00<00:00, 19.95it/s]"
          ]
        },
        {
          "output_type": "stream",
          "name": "stdout",
          "text": [
            "                   all      0.747      0.947\n"
          ]
        },
        {
          "output_type": "stream",
          "name": "stderr",
          "text": [
            "\n"
          ]
        },
        {
          "output_type": "stream",
          "name": "stdout",
          "text": [
            "\n",
            "      Epoch    GPU_mem       loss  Instances       Size\n"
          ]
        },
        {
          "output_type": "stream",
          "name": "stderr",
          "text": [
            "       9/40      3.69G     0.5398         12        640: 100%|██████████| 94/94 [00:07<00:00, 11.99it/s]\n",
            "               classes   top1_acc   top5_acc: 100%|██████████| 10/10 [00:00<00:00, 32.28it/s]"
          ]
        },
        {
          "output_type": "stream",
          "name": "stdout",
          "text": [
            "                   all      0.747       0.95\n"
          ]
        },
        {
          "output_type": "stream",
          "name": "stderr",
          "text": [
            "\n"
          ]
        },
        {
          "output_type": "stream",
          "name": "stdout",
          "text": [
            "\n",
            "      Epoch    GPU_mem       loss  Instances       Size\n"
          ]
        },
        {
          "output_type": "stream",
          "name": "stderr",
          "text": [
            "      10/40      3.69G     0.5138         12        640: 100%|██████████| 94/94 [00:07<00:00, 13.04it/s]\n",
            "               classes   top1_acc   top5_acc: 100%|██████████| 10/10 [00:00<00:00, 19.83it/s]"
          ]
        },
        {
          "output_type": "stream",
          "name": "stdout",
          "text": [
            "                   all       0.76      0.947\n"
          ]
        },
        {
          "output_type": "stream",
          "name": "stderr",
          "text": [
            "\n"
          ]
        },
        {
          "output_type": "stream",
          "name": "stdout",
          "text": [
            "\n",
            "      Epoch    GPU_mem       loss  Instances       Size\n"
          ]
        },
        {
          "output_type": "stream",
          "name": "stderr",
          "text": [
            "      11/40      3.69G     0.4383         12        640: 100%|██████████| 94/94 [00:07<00:00, 13.06it/s]\n",
            "               classes   top1_acc   top5_acc: 100%|██████████| 10/10 [00:00<00:00, 22.20it/s]"
          ]
        },
        {
          "output_type": "stream",
          "name": "stdout",
          "text": [
            "                   all       0.77      0.947\n"
          ]
        },
        {
          "output_type": "stream",
          "name": "stderr",
          "text": [
            "\n"
          ]
        },
        {
          "output_type": "stream",
          "name": "stdout",
          "text": [
            "\n",
            "      Epoch    GPU_mem       loss  Instances       Size\n"
          ]
        },
        {
          "output_type": "stream",
          "name": "stderr",
          "text": [
            "      12/40      3.71G     0.4071         12        640: 100%|██████████| 94/94 [00:07<00:00, 13.34it/s]\n",
            "               classes   top1_acc   top5_acc: 100%|██████████| 10/10 [00:00<00:00, 18.21it/s]"
          ]
        },
        {
          "output_type": "stream",
          "name": "stdout",
          "text": [
            "                   all      0.773       0.97\n"
          ]
        },
        {
          "output_type": "stream",
          "name": "stderr",
          "text": [
            "\n"
          ]
        },
        {
          "output_type": "stream",
          "name": "stdout",
          "text": [
            "\n",
            "      Epoch    GPU_mem       loss  Instances       Size\n"
          ]
        },
        {
          "output_type": "stream",
          "name": "stderr",
          "text": [
            "      13/40      3.71G     0.3418         12        640: 100%|██████████| 94/94 [00:07<00:00, 13.18it/s]\n",
            "               classes   top1_acc   top5_acc: 100%|██████████| 10/10 [00:00<00:00, 21.75it/s]"
          ]
        },
        {
          "output_type": "stream",
          "name": "stdout",
          "text": [
            "                   all       0.78      0.963\n"
          ]
        },
        {
          "output_type": "stream",
          "name": "stderr",
          "text": [
            "\n"
          ]
        },
        {
          "output_type": "stream",
          "name": "stdout",
          "text": [
            "\n",
            "      Epoch    GPU_mem       loss  Instances       Size\n"
          ]
        },
        {
          "output_type": "stream",
          "name": "stderr",
          "text": [
            "      14/40      3.71G      0.321         12        640: 100%|██████████| 94/94 [00:07<00:00, 12.82it/s]\n",
            "               classes   top1_acc   top5_acc: 100%|██████████| 10/10 [00:00<00:00, 22.91it/s]"
          ]
        },
        {
          "output_type": "stream",
          "name": "stdout",
          "text": [
            "                   all      0.727      0.953\n"
          ]
        },
        {
          "output_type": "stream",
          "name": "stderr",
          "text": [
            "\n"
          ]
        },
        {
          "output_type": "stream",
          "name": "stdout",
          "text": [
            "\n",
            "      Epoch    GPU_mem       loss  Instances       Size\n"
          ]
        },
        {
          "output_type": "stream",
          "name": "stderr",
          "text": [
            "      15/40      3.71G     0.2893         12        640: 100%|██████████| 94/94 [00:07<00:00, 12.61it/s]\n",
            "               classes   top1_acc   top5_acc: 100%|██████████| 10/10 [00:00<00:00, 18.10it/s]"
          ]
        },
        {
          "output_type": "stream",
          "name": "stdout",
          "text": [
            "                   all      0.733      0.957\n"
          ]
        },
        {
          "output_type": "stream",
          "name": "stderr",
          "text": [
            "\n"
          ]
        },
        {
          "output_type": "stream",
          "name": "stdout",
          "text": [
            "\n",
            "      Epoch    GPU_mem       loss  Instances       Size\n"
          ]
        },
        {
          "output_type": "stream",
          "name": "stderr",
          "text": [
            "      16/40      3.71G     0.2694         12        640: 100%|██████████| 94/94 [00:07<00:00, 12.72it/s]\n",
            "               classes   top1_acc   top5_acc: 100%|██████████| 10/10 [00:00<00:00, 22.51it/s]"
          ]
        },
        {
          "output_type": "stream",
          "name": "stdout",
          "text": [
            "                   all      0.783      0.957\n"
          ]
        },
        {
          "output_type": "stream",
          "name": "stderr",
          "text": [
            "\n"
          ]
        },
        {
          "output_type": "stream",
          "name": "stdout",
          "text": [
            "\n",
            "      Epoch    GPU_mem       loss  Instances       Size\n"
          ]
        },
        {
          "output_type": "stream",
          "name": "stderr",
          "text": [
            "      17/40      3.71G     0.2325         12        640: 100%|██████████| 94/94 [00:07<00:00, 12.46it/s]\n",
            "               classes   top1_acc   top5_acc: 100%|██████████| 10/10 [00:00<00:00, 24.99it/s]"
          ]
        },
        {
          "output_type": "stream",
          "name": "stdout",
          "text": [
            "                   all      0.783      0.943\n"
          ]
        },
        {
          "output_type": "stream",
          "name": "stderr",
          "text": [
            "\n"
          ]
        },
        {
          "output_type": "stream",
          "name": "stdout",
          "text": [
            "\n",
            "      Epoch    GPU_mem       loss  Instances       Size\n"
          ]
        },
        {
          "output_type": "stream",
          "name": "stderr",
          "text": [
            "      18/40      3.71G     0.2422         12        640: 100%|██████████| 94/94 [00:07<00:00, 12.50it/s]\n",
            "               classes   top1_acc   top5_acc: 100%|██████████| 10/10 [00:00<00:00, 20.84it/s]"
          ]
        },
        {
          "output_type": "stream",
          "name": "stdout",
          "text": [
            "                   all      0.743      0.953\n"
          ]
        },
        {
          "output_type": "stream",
          "name": "stderr",
          "text": [
            "\n"
          ]
        },
        {
          "output_type": "stream",
          "name": "stdout",
          "text": [
            "\n",
            "      Epoch    GPU_mem       loss  Instances       Size\n"
          ]
        },
        {
          "output_type": "stream",
          "name": "stderr",
          "text": [
            "      19/40      3.72G     0.2262         12        640: 100%|██████████| 94/94 [00:07<00:00, 12.36it/s]\n",
            "               classes   top1_acc   top5_acc: 100%|██████████| 10/10 [00:00<00:00, 34.04it/s]"
          ]
        },
        {
          "output_type": "stream",
          "name": "stdout",
          "text": [
            "                   all      0.787      0.953\n"
          ]
        },
        {
          "output_type": "stream",
          "name": "stderr",
          "text": [
            "\n"
          ]
        },
        {
          "output_type": "stream",
          "name": "stdout",
          "text": [
            "\n",
            "      Epoch    GPU_mem       loss  Instances       Size\n"
          ]
        },
        {
          "output_type": "stream",
          "name": "stderr",
          "text": [
            "      20/40      3.72G     0.2049         12        640: 100%|██████████| 94/94 [00:07<00:00, 12.25it/s]\n",
            "               classes   top1_acc   top5_acc: 100%|██████████| 10/10 [00:00<00:00, 23.63it/s]"
          ]
        },
        {
          "output_type": "stream",
          "name": "stdout",
          "text": [
            "                   all      0.773       0.97\n"
          ]
        },
        {
          "output_type": "stream",
          "name": "stderr",
          "text": [
            "\n"
          ]
        },
        {
          "output_type": "stream",
          "name": "stdout",
          "text": [
            "\n",
            "      Epoch    GPU_mem       loss  Instances       Size\n"
          ]
        },
        {
          "output_type": "stream",
          "name": "stderr",
          "text": [
            "      21/40      3.72G     0.1661         12        640: 100%|██████████| 94/94 [00:07<00:00, 12.96it/s]\n",
            "               classes   top1_acc   top5_acc: 100%|██████████| 10/10 [00:00<00:00, 22.83it/s]"
          ]
        },
        {
          "output_type": "stream",
          "name": "stdout",
          "text": [
            "                   all       0.78      0.963\n"
          ]
        },
        {
          "output_type": "stream",
          "name": "stderr",
          "text": [
            "\n"
          ]
        },
        {
          "output_type": "stream",
          "name": "stdout",
          "text": [
            "\n",
            "      Epoch    GPU_mem       loss  Instances       Size\n"
          ]
        },
        {
          "output_type": "stream",
          "name": "stderr",
          "text": [
            "      22/40      3.72G     0.1481         12        640: 100%|██████████| 94/94 [00:07<00:00, 13.17it/s]\n",
            "               classes   top1_acc   top5_acc: 100%|██████████| 10/10 [00:00<00:00, 20.45it/s]"
          ]
        },
        {
          "output_type": "stream",
          "name": "stdout",
          "text": [
            "                   all       0.78       0.96\n"
          ]
        },
        {
          "output_type": "stream",
          "name": "stderr",
          "text": [
            "\n"
          ]
        },
        {
          "output_type": "stream",
          "name": "stdout",
          "text": [
            "\n",
            "      Epoch    GPU_mem       loss  Instances       Size\n"
          ]
        },
        {
          "output_type": "stream",
          "name": "stderr",
          "text": [
            "      23/40      3.72G     0.1497         12        640: 100%|██████████| 94/94 [00:07<00:00, 12.86it/s]\n",
            "               classes   top1_acc   top5_acc: 100%|██████████| 10/10 [00:00<00:00, 21.75it/s]"
          ]
        },
        {
          "output_type": "stream",
          "name": "stdout",
          "text": [
            "                   all      0.793      0.957\n"
          ]
        },
        {
          "output_type": "stream",
          "name": "stderr",
          "text": [
            "\n"
          ]
        },
        {
          "output_type": "stream",
          "name": "stdout",
          "text": [
            "\n",
            "      Epoch    GPU_mem       loss  Instances       Size\n"
          ]
        },
        {
          "output_type": "stream",
          "name": "stderr",
          "text": [
            "      24/40      3.72G     0.1256         12        640: 100%|██████████| 94/94 [00:07<00:00, 13.11it/s]\n",
            "               classes   top1_acc   top5_acc: 100%|██████████| 10/10 [00:00<00:00, 22.94it/s]"
          ]
        },
        {
          "output_type": "stream",
          "name": "stdout",
          "text": [
            "                   all       0.77      0.963\n"
          ]
        },
        {
          "output_type": "stream",
          "name": "stderr",
          "text": [
            "\n"
          ]
        },
        {
          "output_type": "stream",
          "name": "stdout",
          "text": [
            "\n",
            "      Epoch    GPU_mem       loss  Instances       Size\n"
          ]
        },
        {
          "output_type": "stream",
          "name": "stderr",
          "text": [
            "      25/40      3.72G     0.1252         12        640: 100%|██████████| 94/94 [00:07<00:00, 13.22it/s]\n",
            "               classes   top1_acc   top5_acc: 100%|██████████| 10/10 [00:00<00:00, 25.18it/s]"
          ]
        },
        {
          "output_type": "stream",
          "name": "stdout",
          "text": [
            "                   all      0.803      0.967\n"
          ]
        },
        {
          "output_type": "stream",
          "name": "stderr",
          "text": [
            "\n"
          ]
        },
        {
          "output_type": "stream",
          "name": "stdout",
          "text": [
            "\n",
            "      Epoch    GPU_mem       loss  Instances       Size\n"
          ]
        },
        {
          "output_type": "stream",
          "name": "stderr",
          "text": [
            "      26/40      3.72G    0.09359         12        640: 100%|██████████| 94/94 [00:07<00:00, 12.29it/s]\n",
            "               classes   top1_acc   top5_acc: 100%|██████████| 10/10 [00:00<00:00, 24.04it/s]"
          ]
        },
        {
          "output_type": "stream",
          "name": "stdout",
          "text": [
            "                   all       0.81      0.963\n"
          ]
        },
        {
          "output_type": "stream",
          "name": "stderr",
          "text": [
            "\n"
          ]
        },
        {
          "output_type": "stream",
          "name": "stdout",
          "text": [
            "\n",
            "      Epoch    GPU_mem       loss  Instances       Size\n"
          ]
        },
        {
          "output_type": "stream",
          "name": "stderr",
          "text": [
            "      27/40      3.72G    0.09529         12        640: 100%|██████████| 94/94 [00:07<00:00, 12.84it/s]\n",
            "               classes   top1_acc   top5_acc: 100%|██████████| 10/10 [00:00<00:00, 24.21it/s]"
          ]
        },
        {
          "output_type": "stream",
          "name": "stdout",
          "text": [
            "                   all      0.803      0.953\n"
          ]
        },
        {
          "output_type": "stream",
          "name": "stderr",
          "text": [
            "\n"
          ]
        },
        {
          "output_type": "stream",
          "name": "stdout",
          "text": [
            "\n",
            "      Epoch    GPU_mem       loss  Instances       Size\n"
          ]
        },
        {
          "output_type": "stream",
          "name": "stderr",
          "text": [
            "      28/40      3.72G    0.09954         12        640: 100%|██████████| 94/94 [00:07<00:00, 12.08it/s]\n",
            "               classes   top1_acc   top5_acc: 100%|██████████| 10/10 [00:00<00:00, 26.78it/s]"
          ]
        },
        {
          "output_type": "stream",
          "name": "stdout",
          "text": [
            "                   all        0.8      0.957\n"
          ]
        },
        {
          "output_type": "stream",
          "name": "stderr",
          "text": [
            "\n"
          ]
        },
        {
          "output_type": "stream",
          "name": "stdout",
          "text": [
            "\n",
            "      Epoch    GPU_mem       loss  Instances       Size\n"
          ]
        },
        {
          "output_type": "stream",
          "name": "stderr",
          "text": [
            "      29/40      3.72G    0.08501         12        640: 100%|██████████| 94/94 [00:07<00:00, 12.13it/s]\n",
            "               classes   top1_acc   top5_acc: 100%|██████████| 10/10 [00:00<00:00, 25.38it/s]"
          ]
        },
        {
          "output_type": "stream",
          "name": "stdout",
          "text": [
            "                   all       0.81      0.963\n"
          ]
        },
        {
          "output_type": "stream",
          "name": "stderr",
          "text": [
            "\n"
          ]
        },
        {
          "output_type": "stream",
          "name": "stdout",
          "text": [
            "\n",
            "      Epoch    GPU_mem       loss  Instances       Size\n"
          ]
        },
        {
          "output_type": "stream",
          "name": "stderr",
          "text": [
            "      30/40      3.72G    0.06502         12        640: 100%|██████████| 94/94 [00:07<00:00, 11.88it/s]\n",
            "               classes   top1_acc   top5_acc: 100%|██████████| 10/10 [00:00<00:00, 25.88it/s]"
          ]
        },
        {
          "output_type": "stream",
          "name": "stdout",
          "text": [
            "                   all      0.807      0.957\n"
          ]
        },
        {
          "output_type": "stream",
          "name": "stderr",
          "text": [
            "\n"
          ]
        },
        {
          "output_type": "stream",
          "name": "stdout",
          "text": [
            "\n",
            "      Epoch    GPU_mem       loss  Instances       Size\n"
          ]
        },
        {
          "output_type": "stream",
          "name": "stderr",
          "text": [
            "      31/40      3.72G    0.07265         12        640: 100%|██████████| 94/94 [00:08<00:00, 11.10it/s]\n",
            "               classes   top1_acc   top5_acc: 100%|██████████| 10/10 [00:00<00:00, 17.38it/s]"
          ]
        },
        {
          "output_type": "stream",
          "name": "stdout",
          "text": [
            "                   all       0.78      0.963\n"
          ]
        },
        {
          "output_type": "stream",
          "name": "stderr",
          "text": [
            "\n"
          ]
        },
        {
          "output_type": "stream",
          "name": "stdout",
          "text": [
            "\n",
            "      Epoch    GPU_mem       loss  Instances       Size\n"
          ]
        },
        {
          "output_type": "stream",
          "name": "stderr",
          "text": [
            "      32/40      3.72G    0.06648         12        640: 100%|██████████| 94/94 [00:07<00:00, 12.15it/s]\n",
            "               classes   top1_acc   top5_acc: 100%|██████████| 10/10 [00:00<00:00, 21.12it/s]"
          ]
        },
        {
          "output_type": "stream",
          "name": "stdout",
          "text": [
            "                   all      0.793      0.967\n"
          ]
        },
        {
          "output_type": "stream",
          "name": "stderr",
          "text": [
            "\n"
          ]
        },
        {
          "output_type": "stream",
          "name": "stdout",
          "text": [
            "\n",
            "      Epoch    GPU_mem       loss  Instances       Size\n"
          ]
        },
        {
          "output_type": "stream",
          "name": "stderr",
          "text": [
            "      33/40      3.72G    0.05643         12        640: 100%|██████████| 94/94 [00:07<00:00, 12.07it/s]\n",
            "               classes   top1_acc   top5_acc: 100%|██████████| 10/10 [00:00<00:00, 23.26it/s]"
          ]
        },
        {
          "output_type": "stream",
          "name": "stdout",
          "text": [
            "                   all       0.79      0.967\n"
          ]
        },
        {
          "output_type": "stream",
          "name": "stderr",
          "text": [
            "\n"
          ]
        },
        {
          "output_type": "stream",
          "name": "stdout",
          "text": [
            "\n",
            "      Epoch    GPU_mem       loss  Instances       Size\n"
          ]
        },
        {
          "output_type": "stream",
          "name": "stderr",
          "text": [
            "      34/40      3.72G    0.06041         12        640: 100%|██████████| 94/94 [00:07<00:00, 12.72it/s]\n",
            "               classes   top1_acc   top5_acc: 100%|██████████| 10/10 [00:00<00:00, 21.53it/s]"
          ]
        },
        {
          "output_type": "stream",
          "name": "stdout",
          "text": [
            "                   all       0.79      0.963\n"
          ]
        },
        {
          "output_type": "stream",
          "name": "stderr",
          "text": [
            "\n"
          ]
        },
        {
          "output_type": "stream",
          "name": "stdout",
          "text": [
            "\n",
            "      Epoch    GPU_mem       loss  Instances       Size\n"
          ]
        },
        {
          "output_type": "stream",
          "name": "stderr",
          "text": [
            "      35/40      3.72G    0.06709         12        640: 100%|██████████| 94/94 [00:07<00:00, 12.17it/s]\n",
            "               classes   top1_acc   top5_acc: 100%|██████████| 10/10 [00:00<00:00, 22.54it/s]"
          ]
        },
        {
          "output_type": "stream",
          "name": "stdout",
          "text": [
            "                   all        0.8      0.973\n"
          ]
        },
        {
          "output_type": "stream",
          "name": "stderr",
          "text": [
            "\n"
          ]
        },
        {
          "output_type": "stream",
          "name": "stdout",
          "text": [
            "\n",
            "      Epoch    GPU_mem       loss  Instances       Size\n"
          ]
        },
        {
          "output_type": "stream",
          "name": "stderr",
          "text": [
            "      36/40      3.72G    0.05113         12        640: 100%|██████████| 94/94 [00:07<00:00, 12.32it/s]\n",
            "               classes   top1_acc   top5_acc: 100%|██████████| 10/10 [00:00<00:00, 20.69it/s]"
          ]
        },
        {
          "output_type": "stream",
          "name": "stdout",
          "text": [
            "                   all       0.78      0.963\n"
          ]
        },
        {
          "output_type": "stream",
          "name": "stderr",
          "text": [
            "\n"
          ]
        },
        {
          "output_type": "stream",
          "name": "stdout",
          "text": [
            "\n",
            "      Epoch    GPU_mem       loss  Instances       Size\n"
          ]
        },
        {
          "output_type": "stream",
          "name": "stderr",
          "text": [
            "      37/40      3.72G    0.05215         12        640: 100%|██████████| 94/94 [00:07<00:00, 12.48it/s]\n",
            "               classes   top1_acc   top5_acc: 100%|██████████| 10/10 [00:00<00:00, 18.57it/s]"
          ]
        },
        {
          "output_type": "stream",
          "name": "stdout",
          "text": [
            "                   all      0.807       0.96\n"
          ]
        },
        {
          "output_type": "stream",
          "name": "stderr",
          "text": [
            "\n"
          ]
        },
        {
          "output_type": "stream",
          "name": "stdout",
          "text": [
            "\n",
            "      Epoch    GPU_mem       loss  Instances       Size\n"
          ]
        },
        {
          "output_type": "stream",
          "name": "stderr",
          "text": [
            "      38/40      3.74G    0.03245         12        640: 100%|██████████| 94/94 [00:07<00:00, 12.57it/s]\n",
            "               classes   top1_acc   top5_acc: 100%|██████████| 10/10 [00:00<00:00, 23.00it/s]"
          ]
        },
        {
          "output_type": "stream",
          "name": "stdout",
          "text": [
            "                   all       0.81      0.963\n"
          ]
        },
        {
          "output_type": "stream",
          "name": "stderr",
          "text": [
            "\n"
          ]
        },
        {
          "output_type": "stream",
          "name": "stdout",
          "text": [
            "\n",
            "      Epoch    GPU_mem       loss  Instances       Size\n"
          ]
        },
        {
          "output_type": "stream",
          "name": "stderr",
          "text": [
            "      39/40      3.74G    0.04396         12        640: 100%|██████████| 94/94 [00:07<00:00, 11.81it/s]\n",
            "               classes   top1_acc   top5_acc: 100%|██████████| 10/10 [00:00<00:00, 23.75it/s]"
          ]
        },
        {
          "output_type": "stream",
          "name": "stdout",
          "text": [
            "                   all      0.803       0.97\n"
          ]
        },
        {
          "output_type": "stream",
          "name": "stderr",
          "text": [
            "\n"
          ]
        },
        {
          "output_type": "stream",
          "name": "stdout",
          "text": [
            "\n",
            "      Epoch    GPU_mem       loss  Instances       Size\n"
          ]
        },
        {
          "output_type": "stream",
          "name": "stderr",
          "text": [
            "      40/40      3.74G      0.041         12        640: 100%|██████████| 94/94 [00:07<00:00, 12.04it/s]\n",
            "               classes   top1_acc   top5_acc: 100%|██████████| 10/10 [00:00<00:00, 19.66it/s]"
          ]
        },
        {
          "output_type": "stream",
          "name": "stdout",
          "text": [
            "                   all       0.81      0.957\n"
          ]
        },
        {
          "output_type": "stream",
          "name": "stderr",
          "text": [
            "\n"
          ]
        },
        {
          "output_type": "stream",
          "name": "stdout",
          "text": [
            "\n",
            "40 epochs completed in 0.097 hours.\n",
            "Optimizer stripped from runs/classify/train/weights/last.pt, 11.1MB\n",
            "Optimizer stripped from runs/classify/train/weights/best.pt, 11.1MB\n",
            "\n",
            "Validating runs/classify/train/weights/best.pt...\n",
            "Ultralytics 8.3.133 🚀 Python-3.11.12 torch-2.6.0+cu124 CUDA:0 (NVIDIA A100-SXM4-40GB, 40507MiB)\n",
            "YOLO11s-cls summary (fused): 47 layers, 5,459,748 parameters, 0 gradients, 12.0 GFLOPs\n",
            "\u001b[34m\u001b[1mtrain:\u001b[0m /content/food-101-small-2/train... found 1500 images in 20 classes ✅ \n",
            "\u001b[34m\u001b[1mval:\u001b[0m /content/food-101-small-2/val... found 300 images in 20 classes ✅ \n",
            "\u001b[34m\u001b[1mtest:\u001b[0m /content/food-101-small-2/test... found 300 images in 20 classes ✅ \n"
          ]
        },
        {
          "output_type": "stream",
          "name": "stderr",
          "text": [
            "               classes   top1_acc   top5_acc: 100%|██████████| 10/10 [00:00<00:00, 16.98it/s]\n"
          ]
        },
        {
          "output_type": "stream",
          "name": "stdout",
          "text": [
            "                   all      0.803       0.97\n",
            "Speed: 0.5ms preprocess, 1.2ms inference, 0.0ms loss, 0.0ms postprocess per image\n",
            "Results saved to \u001b[1mruns/classify/train\u001b[0m\n"
          ]
        }
      ]
    },
    {
      "cell_type": "code",
      "source": [
        "from google.colab import files\n",
        "import os\n",
        "\n",
        "folder_path = '/content/runs/classify/train'\n",
        "\n",
        "if not os.path.exists(folder_path + '.zip'):\n",
        "  import zipfile\n",
        "  with zipfile.ZipFile(folder_path + '.zip', 'w', zipfile.ZIP_DEFLATED) as zip_f:\n",
        "    for root, _, files_ in os.walk(folder_path):\n",
        "      for file_ in files_:\n",
        "        file_path = os.path.join(root, file_)\n",
        "        zip_f.write(file_path)\n",
        "\n",
        "files.download(folder_path + '.zip')"
      ],
      "metadata": {
        "colab": {
          "base_uri": "https://localhost:8080/",
          "height": 17
        },
        "id": "sboqvdCtIb9R",
        "outputId": "3c35daf2-0abf-46f2-edca-2b6ec93cdf99"
      },
      "id": "sboqvdCtIb9R",
      "execution_count": 4,
      "outputs": [
        {
          "output_type": "display_data",
          "data": {
            "text/plain": [
              "<IPython.core.display.Javascript object>"
            ],
            "application/javascript": [
              "\n",
              "    async function download(id, filename, size) {\n",
              "      if (!google.colab.kernel.accessAllowed) {\n",
              "        return;\n",
              "      }\n",
              "      const div = document.createElement('div');\n",
              "      const label = document.createElement('label');\n",
              "      label.textContent = `Downloading \"${filename}\": `;\n",
              "      div.appendChild(label);\n",
              "      const progress = document.createElement('progress');\n",
              "      progress.max = size;\n",
              "      div.appendChild(progress);\n",
              "      document.body.appendChild(div);\n",
              "\n",
              "      const buffers = [];\n",
              "      let downloaded = 0;\n",
              "\n",
              "      const channel = await google.colab.kernel.comms.open(id);\n",
              "      // Send a message to notify the kernel that we're ready.\n",
              "      channel.send({})\n",
              "\n",
              "      for await (const message of channel.messages) {\n",
              "        // Send a message to notify the kernel that we're ready.\n",
              "        channel.send({})\n",
              "        if (message.buffers) {\n",
              "          for (const buffer of message.buffers) {\n",
              "            buffers.push(buffer);\n",
              "            downloaded += buffer.byteLength;\n",
              "            progress.value = downloaded;\n",
              "          }\n",
              "        }\n",
              "      }\n",
              "      const blob = new Blob(buffers, {type: 'application/binary'});\n",
              "      const a = document.createElement('a');\n",
              "      a.href = window.URL.createObjectURL(blob);\n",
              "      a.download = filename;\n",
              "      div.appendChild(a);\n",
              "      a.click();\n",
              "      div.remove();\n",
              "    }\n",
              "  "
            ]
          },
          "metadata": {}
        },
        {
          "output_type": "display_data",
          "data": {
            "text/plain": [
              "<IPython.core.display.Javascript object>"
            ],
            "application/javascript": [
              "download(\"download_0465c23e-40ef-4506-8774-5001942705e7\", \"train.zip\", 26279577)"
            ]
          },
          "metadata": {}
        }
      ]
    },
    {
      "cell_type": "code",
      "source": [
        "trained_model = YOLO('/content/runs/classify/train/weights/best.pt')\n",
        "test_image_path = '/content/food-101-small-2/test/cup_cakes/137287.jpg'\n",
        "\n",
        "results = model(test_image_path)\n",
        "results[0].show()"
      ],
      "metadata": {
        "colab": {
          "base_uri": "https://localhost:8080/",
          "height": 347
        },
        "id": "Q11mex83KBMY",
        "outputId": "998801e7-bd25-4527-e406-a1a0f1c13a9d"
      },
      "id": "Q11mex83KBMY",
      "execution_count": 5,
      "outputs": [
        {
          "output_type": "stream",
          "name": "stdout",
          "text": [
            "\n",
            "image 1/1 /content/food-101-small-2/test/cup_cakes/137287.jpg: 640x640 cup_cakes 0.97, cheesecake 0.03, macarons 0.00, sashimi 0.00, cheese_plate 0.00, 5.8ms\n",
            "Speed: 27.4ms preprocess, 5.8ms inference, 0.1ms postprocess per image at shape (1, 3, 640, 640)\n"
          ]
        },
        {
          "output_type": "display_data",
          "data": {
            "text/plain": [
              "<PIL.Image.Image image mode=RGB size=256x256>"
            ],
            "image/png": "[encoded data removed]",
            "image/jpeg": "[encoded data removed]"
          },
          "metadata": {}
        }
      ]
    }
  ],
  "metadata": {
    "colab": {
      "provenance": [],
      "gpuType": "A100",
      "machine_shape": "hm"
    },
    "language_info": {
      "name": "python"
    },
    "kernelspec": {
      "name": "python3",
      "display_name": "Python 3"
    },
    "accelerator": "GPU"
  },
  "nbformat": 4,
  "nbformat_minor": 5
}